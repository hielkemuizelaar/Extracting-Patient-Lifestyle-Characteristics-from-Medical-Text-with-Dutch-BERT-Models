{
 "cells": [
  {
   "cell_type": "code",
   "execution_count": null,
   "id": "5cb60cf8",
   "metadata": {},
   "outputs": [],
   "source": [
    "import sklearn\n",
    "import pandas as pd\n",
    "import numpy as np\n",
    "import nltk\n",
    "import sklearn\n",
    "from nltk.tokenize import word_tokenize\n",
    "from nltk import pos_tag\n",
    "from nltk.corpus import stopwords\n",
    "from nltk.stem import WordNetLemmatizer\n",
    "from sklearn.preprocessing import LabelEncoder\n",
    "from collections import defaultdict\n",
    "from nltk.corpus import wordnet as wn\n",
    "from sklearn.feature_extraction.text import TfidfVectorizer\n",
    "from sklearn import model_selection, naive_bayes, svm\n",
    "from sklearn.metrics import accuracy_score\n",
    "import matplotlib\n",
    "from sklearn.model_selection import cross_val_score\n",
    "from scipy.stats import uniform as sp_randFloat\n",
    "from scipy.stats import randint as sp_randInt\n",
    "from sklearn.model_selection import train_test_split\n",
    "import re\n",
    "from nltk.stem import PorterStemmer\n",
    "from nltk.stem.snowball import SnowballStemmer\n",
    "from sklearn.metrics import confusion_matrix, ConfusionMatrixDisplay\n",
    "import matplotlib.pyplot as plt\n",
    "from sklearn.feature_extraction.text import CountVectorizer\n",
    "from sklearn.feature_extraction.text import TfidfTransformer\n",
    "from sklearn.naive_bayes import MultinomialNB\n",
    "from sklearn.pipeline import Pipeline\n",
    "from sklearn import metrics\n",
    "from sklearn.model_selection import RandomizedSearchCV\n",
    "from sklearn.ensemble import RandomForestClassifier\n",
    "from sklearn.linear_model import SGDClassifier\n",
    "import pickle\n",
    "from wordcloud import WordCloud\n",
    "import eli5"
   ]
  },
  {
   "cell_type": "code",
   "execution_count": null,
   "id": "62156f37",
   "metadata": {},
   "outputs": [],
   "source": [
    "file = open(\"smoking_ml_model.pkl\",'rb')\n",
    "object_file = pickle.load(file)"
   ]
  },
  {
   "cell_type": "code",
   "execution_count": null,
   "id": "487d9442",
   "metadata": {},
   "outputs": [],
   "source": [
    "object_file"
   ]
  },
  {
   "cell_type": "code",
   "execution_count": null,
   "id": "fc1bc0b9",
   "metadata": {},
   "outputs": [],
   "source": [
    "model = object_file.best_estimator_"
   ]
  },
  {
   "cell_type": "code",
   "execution_count": null,
   "id": "01361003",
   "metadata": {},
   "outputs": [],
   "source": [
    "model[1].feature_names_in_"
   ]
  },
  {
   "cell_type": "code",
   "execution_count": null,
   "id": "3a4c91d6",
   "metadata": {},
   "outputs": [],
   "source": [
    "sklearn.__version__"
   ]
  },
  {
   "cell_type": "code",
   "execution_count": null,
   "id": "9342db96",
   "metadata": {},
   "outputs": [],
   "source": [
    "eli5.show_weights(model[1], feature_names=model[0].get_feature_names_out(), top=20)\n"
   ]
  },
  {
   "cell_type": "code",
   "execution_count": null,
   "id": "c2829af6",
   "metadata": {},
   "outputs": [],
   "source": [
    "# Text 1\n",
    "\n",
    "text = 'beloop:  beloop: patient gesproken: nee verslag gesprek met patient:  geen gehoor gemaakte afspraken:  vervangt dit gesprek een herhaal polikliniekbezoek: (ja/nee)      later heeft patiente teruggebeld   het gaat goed met haar geen infecties doorgemaakt stoppen met roken blijft moeilijk   functioneel  mild copd nb dlvco dit maal niet gelukt  c/ stabiel mid copd met voornamelijk emfysema    opvolging over 1j   at risk voor ph?'\n",
    "eli5.show_prediction(model[1], text, vec=model[0],feature_names=model[0].get_feature_names_out())"
   ]
  },
  {
   "cell_type": "code",
   "execution_count": null,
   "id": "40d7df94",
   "metadata": {},
   "outputs": [],
   "source": [
    "# Text 2\n",
    "\n",
    "text = 'beloop:  beloop: patiÃ£Â«nt gesproken: nee geen gehoor verslag gesprek met patiÃ£Â«nt:  gemaakte afspraken:  vervangt dit gesprek een herhaal polikliniekbezoek: (ja/nee)    indicatie na ct: zie aldaar   beeld van sad mi inziens niet beeld van astma: maar roken gerelateerd immers weinig effect op medicatie en eerder niet afwijkend histaminetest   herplannen  ? nogmaals trachten    om 15.56 opnieuw gebeld  dit maar wel bereikt. uitleg gegeve  primair stoppen met rok'\n",
    "eli5.show_prediction(model[1], text, vec=model[0],feature_names=model[0].get_feature_names_out())"
   ]
  },
  {
   "cell_type": "code",
   "execution_count": null,
   "id": "195b8e4f",
   "metadata": {},
   "outputs": [],
   "source": [
    "# Text 3\n",
    "\n",
    "text = 'anamnese:  klachten mw werkt in de zorg gaat scheel zien bij aflezen van medicatie oog draait naar binnen heeft lenzen geprobeerd maar geeft geen verbetering krijgt ook hoofdpijn.  vandaag bij andere opticien voor andere lezen zonder verbetering op advies van opticien afspraak bij oogarts. mw gaat een verwijzing vragen bij ha. am'\n",
    "eli5.show_prediction(model[1], text, vec=model[0],feature_names=model[0].get_feature_names_out())"
   ]
  },
  {
   "cell_type": "code",
   "execution_count": null,
   "id": "5a752fd4",
   "metadata": {},
   "outputs": [],
   "source": [
    "# Text 4\n",
    "\n",
    "text = 'beloop:  vorige afspraak afgezegd nacontrole op diab sustaat voor morgen weer geplandmijn inziens niet nodigpartus ongecompliceerdhba1c 40 (14/01)patiente gebeld, zelf geen vragen, geen klachten, goede curves.als het niet nodig is om te komen, scheelt het haar ook weer een rit naar het ziekenhuis.advies: hba1c jaarlijks controle bij de huisarts + bij volgende zwangerschap vroege ogttpatient voldoende geinformeerdafspraak morgen verwijderd.'\n",
    "eli5.show_prediction(model[1], text, vec=model[0],feature_names=model[0].get_feature_names_out())"
   ]
  },
  {
   "cell_type": "code",
   "execution_count": null,
   "id": "90ca6007",
   "metadata": {},
   "outputs": [],
   "source": [
    "# Text 5\n",
    "text = \"reden van komst / verwijzing:  reden verwijzing: oogleden  anamnese:  voorgeschiedenis blanco  medicatie geen  anamnese sinds 0,5jr progressieve hoofdpijn en vermoeidheid na ontstaan afhangen bovenooglid li. kan hierbij ook iets minder zien, moet mn bij autorijden de wenkbrauwen helemaal optillen. kan 's avonds niet meer goed lezen vanwege de vermoeidheid. merkt zelf geen verschil tussen li en re.  intoxicaties roken 20jr terug gestopt, alcohol-, drugs-  allergieen geen bekend   lichamelijk onderzoek:  wenkbrauwen bdz op niveau van de orbitarand. dermatochalasis re mild, li tot op de wimpers. levatorfunctie bdz intact, goede functie. geen ptosis.    conclusie:  conclusie: milde dermatochalasis.  beleid:  beleid: helaas voldoet de ernst van de dematochalasis niet aan de voorwaarden die de zorgverzekeraar stelt aan vergoeding voor een blepharoplastiek. patiÃ£Â«nt werd op de mogelijkheden gewezen van zelfbetaling. de patient gaat hier over nadenken.\"\n",
    "eli5.show_prediction(model[1], text, vec=model[0],feature_names=model[0].get_feature_names_out())"
   ]
  },
  {
   "cell_type": "code",
   "execution_count": null,
   "id": "9b163215",
   "metadata": {},
   "outputs": [],
   "source": []
  }
 ],
 "metadata": {
  "kernelspec": {
   "display_name": "Python (thesis_hielke)",
   "language": "python",
   "name": "thesis_hielke"
  },
  "language_info": {
   "codemirror_mode": {
    "name": "ipython",
    "version": 3
   },
   "file_extension": ".py",
   "mimetype": "text/x-python",
   "name": "python",
   "nbconvert_exporter": "python",
   "pygments_lexer": "ipython3",
   "version": "3.9.16"
  }
 },
 "nbformat": 4,
 "nbformat_minor": 5
}
