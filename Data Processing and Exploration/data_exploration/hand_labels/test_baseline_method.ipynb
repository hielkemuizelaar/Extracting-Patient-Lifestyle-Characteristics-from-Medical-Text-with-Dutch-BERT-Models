{
 "cells": [
  {
   "cell_type": "code",
   "execution_count": 1,
   "id": "2fbd0406",
   "metadata": {},
   "outputs": [],
   "source": [
    "import sklearn\n",
    "import pandas as pd\n",
    "import numpy as np\n",
    "import nltk\n",
    "import sklearn\n",
    "from nltk.tokenize import word_tokenize\n",
    "from nltk import pos_tag\n",
    "from nltk.corpus import stopwords\n",
    "from nltk.stem import WordNetLemmatizer\n",
    "from sklearn.preprocessing import LabelEncoder\n",
    "from collections import defaultdict\n",
    "from nltk.corpus import wordnet as wn\n",
    "from sklearn.feature_extraction.text import TfidfVectorizer\n",
    "from sklearn import model_selection, naive_bayes, svm\n",
    "from sklearn.metrics import accuracy_score\n",
    "import matplotlib\n",
    "from sklearn.model_selection import cross_val_score\n",
    "from scipy.stats import uniform as sp_randFloat\n",
    "from scipy.stats import randint as sp_randInt\n",
    "from sklearn.model_selection import train_test_split\n",
    "import re\n",
    "from nltk.stem import PorterStemmer\n",
    "from nltk.stem.snowball import SnowballStemmer\n",
    "from sklearn.metrics import confusion_matrix, ConfusionMatrixDisplay\n",
    "import matplotlib.pyplot as plt\n",
    "from sklearn.feature_extraction.text import CountVectorizer\n",
    "from sklearn.feature_extraction.text import TfidfTransformer\n",
    "from sklearn.naive_bayes import MultinomialNB\n",
    "from sklearn.pipeline import Pipeline\n",
    "from sklearn import metrics\n",
    "from sklearn.model_selection import RandomizedSearchCV\n",
    "from sklearn.ensemble import RandomForestClassifier\n",
    "from sklearn.linear_model import SGDClassifier\n",
    "import pickle\n",
    "from wordcloud import WordCloud"
   ]
  },
  {
   "cell_type": "code",
   "execution_count": 2,
   "id": "224be27f",
   "metadata": {},
   "outputs": [],
   "source": [
    "full_reviewed_data_drop = pd.read_csv('../../input_data/full_datasets/fully_hand_labelled_texts.csv')"
   ]
  },
  {
   "cell_type": "code",
   "execution_count": 3,
   "id": "d5a1f3c8",
   "metadata": {},
   "outputs": [],
   "source": [
    "indices = pd.read_csv('medrobertanl-haga_smoking_predictions.csv', delimiter=';')"
   ]
  },
  {
   "cell_type": "code",
   "execution_count": 4,
   "id": "5f15c3d5",
   "metadata": {},
   "outputs": [],
   "source": [
    "test_set = full_reviewed_data_drop.loc[indices['index']]"
   ]
  },
  {
   "cell_type": "code",
   "execution_count": 5,
   "id": "0ce1b52e",
   "metadata": {},
   "outputs": [],
   "source": [
    "train_set = full_reviewed_data_drop.loc[~full_reviewed_data_drop.index.isin(test_set.index)]"
   ]
  },
  {
   "cell_type": "code",
   "execution_count": 6,
   "id": "f5d19468",
   "metadata": {},
   "outputs": [
    {
     "data": {
      "text/plain": [
       "Niets gevonden          2532\n",
       "Voormalige gebruiker     731\n",
       "Geen gebruiker           356\n",
       "Huidige gebruiker        141\n",
       "Name: Roken, dtype: int64"
      ]
     },
     "execution_count": 6,
     "metadata": {},
     "output_type": "execute_result"
    }
   ],
   "source": [
    "train_set['Roken'].value_counts()"
   ]
  },
  {
   "cell_type": "code",
   "execution_count": 7,
   "id": "36cf47ea",
   "metadata": {},
   "outputs": [
    {
     "data": {
      "text/plain": [
       "Niets gevonden          611\n",
       "Voormalige gebruiker    208\n",
       "Geen gebruiker           83\n",
       "Huidige gebruiker        38\n",
       "Name: Roken, dtype: int64"
      ]
     },
     "execution_count": 7,
     "metadata": {},
     "output_type": "execute_result"
    }
   ],
   "source": [
    "test_set['Roken'].value_counts()"
   ]
  },
  {
   "cell_type": "code",
   "execution_count": 8,
   "id": "be70efd5",
   "metadata": {},
   "outputs": [
    {
     "data": {
      "text/plain": [
       "Niets gevonden          2673\n",
       "Geen gebruiker           597\n",
       "Huidige gebruiker        474\n",
       "Voormalige gebruiker      16\n",
       "Name: Alcohol, dtype: int64"
      ]
     },
     "execution_count": 8,
     "metadata": {},
     "output_type": "execute_result"
    }
   ],
   "source": [
    "train_set['Alcohol'].value_counts()"
   ]
  },
  {
   "cell_type": "code",
   "execution_count": 9,
   "id": "38886416",
   "metadata": {},
   "outputs": [
    {
     "data": {
      "text/plain": [
       "Niets gevonden          648\n",
       "Geen gebruiker          147\n",
       "Huidige gebruiker       142\n",
       "Voormalige gebruiker      3\n",
       "Name: Alcohol, dtype: int64"
      ]
     },
     "execution_count": 9,
     "metadata": {},
     "output_type": "execute_result"
    }
   ],
   "source": [
    "test_set['Alcohol'].value_counts()"
   ]
  },
  {
   "cell_type": "code",
   "execution_count": 10,
   "id": "d85a1faf",
   "metadata": {},
   "outputs": [
    {
     "data": {
      "text/plain": [
       "Niets gevonden          2702\n",
       "Geen gebruiker           998\n",
       "Huidige gebruiker         50\n",
       "Voormalige gebruiker      10\n",
       "Name: Drugs, dtype: int64"
      ]
     },
     "execution_count": 10,
     "metadata": {},
     "output_type": "execute_result"
    }
   ],
   "source": [
    "train_set['Drugs'].value_counts()"
   ]
  },
  {
   "cell_type": "code",
   "execution_count": 11,
   "id": "c0761ff0",
   "metadata": {},
   "outputs": [
    {
     "data": {
      "text/plain": [
       "Niets gevonden          655\n",
       "Geen gebruiker          274\n",
       "Huidige gebruiker        10\n",
       "Voormalige gebruiker      1\n",
       "Name: Drugs, dtype: int64"
      ]
     },
     "execution_count": 11,
     "metadata": {},
     "output_type": "execute_result"
    }
   ],
   "source": [
    "test_set['Drugs'].value_counts()"
   ]
  },
  {
   "cell_type": "code",
   "execution_count": 35,
   "id": "b65926c9",
   "metadata": {},
   "outputs": [],
   "source": [
    "test_set.text = test_set.text.str.replace(\"_x000D_\\n\", \"\\t\")\n"
   ]
  },
  {
   "cell_type": "code",
   "execution_count": 36,
   "id": "a3b578a4",
   "metadata": {},
   "outputs": [],
   "source": [
    "Corpus = test_set.copy()"
   ]
  },
  {
   "cell_type": "code",
   "execution_count": null,
   "id": "1605a7b7",
   "metadata": {},
   "outputs": [],
   "source": []
  },
  {
   "cell_type": "code",
   "execution_count": 37,
   "id": "18f91100",
   "metadata": {},
   "outputs": [],
   "source": [
    "roken_corpus = Corpus[['text', 'Roken']]"
   ]
  },
  {
   "cell_type": "code",
   "execution_count": 38,
   "id": "88773691",
   "metadata": {},
   "outputs": [
    {
     "name": "stderr",
     "output_type": "stream",
     "text": [
      "<ipython-input-38-d163318cb242>:1: SettingWithCopyWarning: \n",
      "A value is trying to be set on a copy of a slice from a DataFrame.\n",
      "Try using .loc[row_indexer,col_indexer] = value instead\n",
      "\n",
      "See the caveats in the documentation: https://pandas.pydata.org/pandas-docs/stable/user_guide/indexing.html#returning-a-view-versus-a-copy\n",
      "  roken_corpus['text'] = roken_corpus.text.str.lower()\n"
     ]
    }
   ],
   "source": [
    "roken_corpus['text'] = roken_corpus.text.str.lower()"
   ]
  },
  {
   "cell_type": "code",
   "execution_count": 39,
   "id": "74005a49",
   "metadata": {},
   "outputs": [
    {
     "name": "stderr",
     "output_type": "stream",
     "text": [
      "<ipython-input-39-518e6ea63137>:1: SettingWithCopyWarning: \n",
      "A value is trying to be set on a copy of a slice from a DataFrame.\n",
      "Try using .loc[row_indexer,col_indexer] = value instead\n",
      "\n",
      "See the caveats in the documentation: https://pandas.pydata.org/pandas-docs/stable/user_guide/indexing.html#returning-a-view-versus-a-copy\n",
      "  roken_corpus['text'] = roken_corpus.text.str.replace(\"\\t\", \"\")\n"
     ]
    }
   ],
   "source": [
    "roken_corpus['text'] = roken_corpus.text.str.replace(\"\\t\", \"\")"
   ]
  },
  {
   "cell_type": "code",
   "execution_count": null,
   "id": "7b85fa2f",
   "metadata": {},
   "outputs": [],
   "source": []
  },
  {
   "cell_type": "code",
   "execution_count": 40,
   "id": "43d5f74d",
   "metadata": {},
   "outputs": [
    {
     "name": "stderr",
     "output_type": "stream",
     "text": [
      "<ipython-input-40-b46eb7cdeb31>:52: SettingWithCopyWarning: \n",
      "A value is trying to be set on a copy of a slice from a DataFrame.\n",
      "Try using .loc[row_indexer,col_indexer] = value instead\n",
      "\n",
      "See the caveats in the documentation: https://pandas.pydata.org/pandas-docs/stable/user_guide/indexing.html#returning-a-view-versus-a-copy\n",
      "  roken_corpus['sm_label'] = roken_corpus.apply(lambda row: apply_string_matching(row), axis=1)\n"
     ]
    }
   ],
   "source": [
    "def sm_previous_user_check(text):\n",
    "    return \"rookt niet meer\" in text or \"gestopt met roken\" in text\n",
    "\n",
    "def sm_current_user_check(text):\n",
    "    if \"rookt +\" in text or \"rookt+\" in text:\n",
    "        return True\n",
    "    if \"roker +\" in text or \"roker+\" in text:\n",
    "        return True\n",
    "    if \"roken +\" in text or \"roken+\" in text:\n",
    "        return True\n",
    "    if \"rookster +\" in text or \"rookster+\" in text:\n",
    "        return True\n",
    "    if \"rookt: ja\" in text:\n",
    "        return True\n",
    "    if \"roker: ja\" in text or \"rookster: ja\" in text:\n",
    "        return True\n",
    "    if \"rookt soms\" in text or \"rookt: soms\" in text:\n",
    "        return True\n",
    "    if \"roken ++\" in text:\n",
    "        return True\n",
    "    return False\n",
    "\n",
    "def sm_non_user_check(text):\n",
    "    if \"rookt -\" in text or \"rookt-\" in text:\n",
    "        return True\n",
    "    if \"roker -\" in text or \"roker-\" in text:\n",
    "        return True\n",
    "    if \"roken -\" in text or \"roken-\" in text:\n",
    "        return True\n",
    "    if \"rookster -\" in text or \"rookster-\" in text:\n",
    "        return True\n",
    "    if \"rookt: nee\" in text:\n",
    "        return True\n",
    "    if \"roker: nee\" in text or \"rookster: nee\" in text:\n",
    "        return True\n",
    "    if \"rookt nooit\" in text or \"rookt: nooit\" in text:\n",
    "        return True\n",
    "    if \"roken --\" in text:\n",
    "        return True\n",
    "    return False\n",
    "    \n",
    "def apply_string_matching(row):\n",
    "    text = row['text']\n",
    "    if sm_previous_user_check(text):\n",
    "        return \"Voormalige gebruiker\"\n",
    "    if sm_current_user_check(text):\n",
    "        return \"Huidige gebruiker\"\n",
    "    if sm_non_user_check(text):\n",
    "        return \"Geen gebruiker\"\n",
    "    return \"Niets gevonden\"\n",
    "\n",
    "roken_corpus['sm_label'] = roken_corpus.apply(lambda row: apply_string_matching(row), axis=1)"
   ]
  },
  {
   "cell_type": "code",
   "execution_count": 41,
   "id": "682a1c05",
   "metadata": {},
   "outputs": [
    {
     "data": {
      "text/html": [
       "<div>\n",
       "<style scoped>\n",
       "    .dataframe tbody tr th:only-of-type {\n",
       "        vertical-align: middle;\n",
       "    }\n",
       "\n",
       "    .dataframe tbody tr th {\n",
       "        vertical-align: top;\n",
       "    }\n",
       "\n",
       "    .dataframe thead th {\n",
       "        text-align: right;\n",
       "    }\n",
       "</style>\n",
       "<table border=\"1\" class=\"dataframe\">\n",
       "  <thead>\n",
       "    <tr style=\"text-align: right;\">\n",
       "      <th></th>\n",
       "      <th>text</th>\n",
       "      <th>Roken</th>\n",
       "      <th>sm_label</th>\n",
       "    </tr>\n",
       "  </thead>\n",
       "  <tbody>\n",
       "    <tr>\n",
       "      <th>2</th>\n",
       "      <td>conclusie: normale nacontrole. kijkt goed teru...</td>\n",
       "      <td>Niets gevonden</td>\n",
       "      <td>Niets gevonden</td>\n",
       "    </tr>\n",
       "    <tr>\n",
       "      <th>17</th>\n",
       "      <td>conclusie: samenvatting abcde: icc bij trauma ...</td>\n",
       "      <td>Niets gevonden</td>\n",
       "      <td>Niets gevonden</td>\n",
       "    </tr>\n",
       "    <tr>\n",
       "      <th>37</th>\n",
       "      <td>beloop: staat gepland voor tc, echter nummer n...</td>\n",
       "      <td>Niets gevonden</td>\n",
       "      <td>Niets gevonden</td>\n",
       "    </tr>\n",
       "    <tr>\n",
       "      <th>40</th>\n",
       "      <td>beloop: lab belt: materiaal van 24-uurs urine ...</td>\n",
       "      <td>Niets gevonden</td>\n",
       "      <td>Niets gevonden</td>\n",
       "    </tr>\n",
       "    <tr>\n",
       "      <th>48</th>\n",
       "      <td>beloop: beloop: reguliere controle na acdf c4-...</td>\n",
       "      <td>Huidige gebruiker</td>\n",
       "      <td>Niets gevonden</td>\n",
       "    </tr>\n",
       "    <tr>\n",
       "      <th>...</th>\n",
       "      <td>...</td>\n",
       "      <td>...</td>\n",
       "      <td>...</td>\n",
       "    </tr>\n",
       "    <tr>\n",
       "      <th>4678</th>\n",
       "      <td>samenvatting: voorgeschiedenis: in verleden pr...</td>\n",
       "      <td>Geen gebruiker</td>\n",
       "      <td>Niets gevonden</td>\n",
       "    </tr>\n",
       "    <tr>\n",
       "      <th>4682</th>\n",
       "      <td>anamnese: nog steeds hielspoor links, heeft al...</td>\n",
       "      <td>Geen gebruiker</td>\n",
       "      <td>Geen gebruiker</td>\n",
       "    </tr>\n",
       "    <tr>\n",
       "      <th>4688</th>\n",
       "      <td>reden van komst / verwijzing: reden verwijzing...</td>\n",
       "      <td>Geen gebruiker</td>\n",
       "      <td>Geen gebruiker</td>\n",
       "    </tr>\n",
       "    <tr>\n",
       "      <th>4691</th>\n",
       "      <td>anamnese:  verkort consult: aandachtspunten ui...</td>\n",
       "      <td>Huidige gebruiker</td>\n",
       "      <td>Geen gebruiker</td>\n",
       "    </tr>\n",
       "    <tr>\n",
       "      <th>4699</th>\n",
       "      <td>reden van komst / verwijzing: reden van komst ...</td>\n",
       "      <td>Geen gebruiker</td>\n",
       "      <td>Geen gebruiker</td>\n",
       "    </tr>\n",
       "  </tbody>\n",
       "</table>\n",
       "<p>940 rows × 3 columns</p>\n",
       "</div>"
      ],
      "text/plain": [
       "                                                   text              Roken  \\\n",
       "2     conclusie: normale nacontrole. kijkt goed teru...     Niets gevonden   \n",
       "17    conclusie: samenvatting abcde: icc bij trauma ...     Niets gevonden   \n",
       "37    beloop: staat gepland voor tc, echter nummer n...     Niets gevonden   \n",
       "40    beloop: lab belt: materiaal van 24-uurs urine ...     Niets gevonden   \n",
       "48    beloop: beloop: reguliere controle na acdf c4-...  Huidige gebruiker   \n",
       "...                                                 ...                ...   \n",
       "4678  samenvatting: voorgeschiedenis: in verleden pr...     Geen gebruiker   \n",
       "4682  anamnese: nog steeds hielspoor links, heeft al...     Geen gebruiker   \n",
       "4688  reden van komst / verwijzing: reden verwijzing...     Geen gebruiker   \n",
       "4691  anamnese:  verkort consult: aandachtspunten ui...  Huidige gebruiker   \n",
       "4699  reden van komst / verwijzing: reden van komst ...     Geen gebruiker   \n",
       "\n",
       "            sm_label  \n",
       "2     Niets gevonden  \n",
       "17    Niets gevonden  \n",
       "37    Niets gevonden  \n",
       "40    Niets gevonden  \n",
       "48    Niets gevonden  \n",
       "...              ...  \n",
       "4678  Niets gevonden  \n",
       "4682  Geen gebruiker  \n",
       "4688  Geen gebruiker  \n",
       "4691  Geen gebruiker  \n",
       "4699  Geen gebruiker  \n",
       "\n",
       "[940 rows x 3 columns]"
      ]
     },
     "execution_count": 41,
     "metadata": {},
     "output_type": "execute_result"
    }
   ],
   "source": [
    "roken_corpus"
   ]
  },
  {
   "cell_type": "code",
   "execution_count": 42,
   "id": "00dc3123",
   "metadata": {},
   "outputs": [
    {
     "name": "stdout",
     "output_type": "stream",
     "text": [
      "0.9436170212765957\n"
     ]
    },
    {
     "data": {
      "image/png": "[encoded data removed]",
      "text/plain": [
       "<Figure size 432x288 with 2 Axes>"
      ]
     },
     "metadata": {
      "needs_background": "light"
     },
     "output_type": "display_data"
    },
    {
     "name": "stdout",
     "output_type": "stream",
     "text": [
      "                      precision    recall  f1-score   support\n",
      "\n",
      "      Geen gebruiker       0.91      0.75      0.82        83\n",
      "   Huidige gebruiker       0.89      0.45      0.60        38\n",
      "      Niets gevonden       0.93      1.00      0.96       611\n",
      "Voormalige gebruiker       0.99      0.96      0.98       208\n",
      "\n",
      "            accuracy                           0.94       940\n",
      "           macro avg       0.93      0.79      0.84       940\n",
      "        weighted avg       0.94      0.94      0.94       940\n",
      "\n"
     ]
    }
   ],
   "source": [
    "print(np.mean(roken_corpus['sm_label'] == roken_corpus['Roken']))\n",
    "cm = confusion_matrix(roken_corpus['Roken'], roken_corpus['sm_label'])\n",
    "disp = ConfusionMatrixDisplay(confusion_matrix=cm)\n",
    "disp.plot()\n",
    "\n",
    "plt.show()\n",
    "print(metrics.classification_report(roken_corpus['Roken'], roken_corpus['sm_label']))"
   ]
  },
  {
   "cell_type": "code",
   "execution_count": 44,
   "id": "e02b14fc",
   "metadata": {},
   "outputs": [],
   "source": [
    "roken_corpus.to_csv('smoking_string_matching_predictions.csv')"
   ]
  },
  {
   "cell_type": "code",
   "execution_count": 45,
   "id": "460f384a",
   "metadata": {},
   "outputs": [],
   "source": [
    "alcohol_corpus = Corpus[['text', 'Alcohol']]"
   ]
  },
  {
   "cell_type": "code",
   "execution_count": 46,
   "id": "4e5e76f8",
   "metadata": {},
   "outputs": [
    {
     "data": {
      "text/html": [
       "<div>\n",
       "<style scoped>\n",
       "    .dataframe tbody tr th:only-of-type {\n",
       "        vertical-align: middle;\n",
       "    }\n",
       "\n",
       "    .dataframe tbody tr th {\n",
       "        vertical-align: top;\n",
       "    }\n",
       "\n",
       "    .dataframe thead th {\n",
       "        text-align: right;\n",
       "    }\n",
       "</style>\n",
       "<table border=\"1\" class=\"dataframe\">\n",
       "  <thead>\n",
       "    <tr style=\"text-align: right;\">\n",
       "      <th></th>\n",
       "      <th>text</th>\n",
       "      <th>Alcohol</th>\n",
       "    </tr>\n",
       "  </thead>\n",
       "  <tbody>\n",
       "    <tr>\n",
       "      <th>2</th>\n",
       "      <td>Conclusie: \\tNormale nacontrole. Kijkt goed te...</td>\n",
       "      <td>Niets gevonden</td>\n",
       "    </tr>\n",
       "    <tr>\n",
       "      <th>17</th>\n",
       "      <td>Conclusie: \\tSamenvatting ABCDE: ICC bij traum...</td>\n",
       "      <td>Niets gevonden</td>\n",
       "    </tr>\n",
       "    <tr>\n",
       "      <th>37</th>\n",
       "      <td>Beloop: \\tStaat gepland voor TC, echter nummer...</td>\n",
       "      <td>Niets gevonden</td>\n",
       "    </tr>\n",
       "    <tr>\n",
       "      <th>40</th>\n",
       "      <td>Beloop: \\tLab belt: materiaal van 24-uurs urin...</td>\n",
       "      <td>Niets gevonden</td>\n",
       "    </tr>\n",
       "    <tr>\n",
       "      <th>48</th>\n",
       "      <td>Beloop: \\tBeloop: Reguliere controle na ACDF C...</td>\n",
       "      <td>Niets gevonden</td>\n",
       "    </tr>\n",
       "    <tr>\n",
       "      <th>...</th>\n",
       "      <td>...</td>\n",
       "      <td>...</td>\n",
       "    </tr>\n",
       "    <tr>\n",
       "      <th>4678</th>\n",
       "      <td>Samenvatting: \\tVoorgeschiedenis: in verleden ...</td>\n",
       "      <td>Niets gevonden</td>\n",
       "    </tr>\n",
       "    <tr>\n",
       "      <th>4682</th>\n",
       "      <td>Anamnese: \\tNog steeds hielspoor links, heeft ...</td>\n",
       "      <td>Geen gebruiker</td>\n",
       "    </tr>\n",
       "    <tr>\n",
       "      <th>4688</th>\n",
       "      <td>Reden van komst / Verwijzing: \\tReden verwijzi...</td>\n",
       "      <td>Huidige gebruiker</td>\n",
       "    </tr>\n",
       "    <tr>\n",
       "      <th>4691</th>\n",
       "      <td>Anamnese: \\t Verkort consult: Aandachtspunten ...</td>\n",
       "      <td>Geen gebruiker</td>\n",
       "    </tr>\n",
       "    <tr>\n",
       "      <th>4699</th>\n",
       "      <td>Reden van komst / Verwijzing: \\tReden van koms...</td>\n",
       "      <td>Geen gebruiker</td>\n",
       "    </tr>\n",
       "  </tbody>\n",
       "</table>\n",
       "<p>940 rows × 2 columns</p>\n",
       "</div>"
      ],
      "text/plain": [
       "                                                   text            Alcohol\n",
       "2     Conclusie: \\tNormale nacontrole. Kijkt goed te...     Niets gevonden\n",
       "17    Conclusie: \\tSamenvatting ABCDE: ICC bij traum...     Niets gevonden\n",
       "37    Beloop: \\tStaat gepland voor TC, echter nummer...     Niets gevonden\n",
       "40    Beloop: \\tLab belt: materiaal van 24-uurs urin...     Niets gevonden\n",
       "48    Beloop: \\tBeloop: Reguliere controle na ACDF C...     Niets gevonden\n",
       "...                                                 ...                ...\n",
       "4678  Samenvatting: \\tVoorgeschiedenis: in verleden ...     Niets gevonden\n",
       "4682  Anamnese: \\tNog steeds hielspoor links, heeft ...     Geen gebruiker\n",
       "4688  Reden van komst / Verwijzing: \\tReden verwijzi...  Huidige gebruiker\n",
       "4691  Anamnese: \\t Verkort consult: Aandachtspunten ...     Geen gebruiker\n",
       "4699  Reden van komst / Verwijzing: \\tReden van koms...     Geen gebruiker\n",
       "\n",
       "[940 rows x 2 columns]"
      ]
     },
     "execution_count": 46,
     "metadata": {},
     "output_type": "execute_result"
    }
   ],
   "source": [
    "alcohol_corpus"
   ]
  },
  {
   "cell_type": "code",
   "execution_count": 47,
   "id": "a304c92e",
   "metadata": {},
   "outputs": [
    {
     "name": "stderr",
     "output_type": "stream",
     "text": [
      "<ipython-input-47-4bf5a4df4d02>:1: SettingWithCopyWarning: \n",
      "A value is trying to be set on a copy of a slice from a DataFrame.\n",
      "Try using .loc[row_indexer,col_indexer] = value instead\n",
      "\n",
      "See the caveats in the documentation: https://pandas.pydata.org/pandas-docs/stable/user_guide/indexing.html#returning-a-view-versus-a-copy\n",
      "  alcohol_corpus['text'] = alcohol_corpus.text.str.lower()\n"
     ]
    }
   ],
   "source": [
    "alcohol_corpus['text'] = alcohol_corpus.text.str.lower()"
   ]
  },
  {
   "cell_type": "code",
   "execution_count": 48,
   "id": "5762ad6e",
   "metadata": {},
   "outputs": [
    {
     "name": "stderr",
     "output_type": "stream",
     "text": [
      "<ipython-input-48-9593ce6140e4>:1: SettingWithCopyWarning: \n",
      "A value is trying to be set on a copy of a slice from a DataFrame.\n",
      "Try using .loc[row_indexer,col_indexer] = value instead\n",
      "\n",
      "See the caveats in the documentation: https://pandas.pydata.org/pandas-docs/stable/user_guide/indexing.html#returning-a-view-versus-a-copy\n",
      "  alcohol_corpus['text'] = alcohol_corpus.text.str.replace(\"\\t\", \"\")\n"
     ]
    }
   ],
   "source": [
    "alcohol_corpus['text'] = alcohol_corpus.text.str.replace(\"\\t\", \"\")"
   ]
  },
  {
   "cell_type": "code",
   "execution_count": 49,
   "id": "a66c1502",
   "metadata": {},
   "outputs": [
    {
     "name": "stderr",
     "output_type": "stream",
     "text": [
      "<ipython-input-49-4d85a78e2b63>:1: SettingWithCopyWarning: \n",
      "A value is trying to be set on a copy of a slice from a DataFrame.\n",
      "Try using .loc[row_indexer,col_indexer] = value instead\n",
      "\n",
      "See the caveats in the documentation: https://pandas.pydata.org/pandas-docs/stable/user_guide/indexing.html#returning-a-view-versus-a-copy\n",
      "  alcohol_corpus['Alcohol'] = alcohol_corpus.Alcohol.str.replace(\"Voormalige gebruiker\", \"Geen gebruiker\")\n"
     ]
    }
   ],
   "source": [
    "alcohol_corpus['Alcohol'] = alcohol_corpus.Alcohol.str.replace(\"Voormalige gebruiker\", \"Geen gebruiker\")"
   ]
  },
  {
   "cell_type": "code",
   "execution_count": 50,
   "id": "e6231e37",
   "metadata": {},
   "outputs": [
    {
     "name": "stderr",
     "output_type": "stream",
     "text": [
      "<ipython-input-50-50f91365e16e>:39: SettingWithCopyWarning: \n",
      "A value is trying to be set on a copy of a slice from a DataFrame.\n",
      "Try using .loc[row_indexer,col_indexer] = value instead\n",
      "\n",
      "See the caveats in the documentation: https://pandas.pydata.org/pandas-docs/stable/user_guide/indexing.html#returning-a-view-versus-a-copy\n",
      "  alcohol_corpus['al_label'] = alcohol_corpus.apply(lambda row: apply_string_matching(row), axis=1)\n"
     ]
    }
   ],
   "source": [
    "def al_current_user_check(text):\n",
    "    if \"alcohol +\" in text or \"alcohol+\" in text:\n",
    "        return True\n",
    "    if \"alcohol: ja\" in text:\n",
    "        return True\n",
    "    if \"drinkt alcohol\" in text:\n",
    "        return True\n",
    "    if \"alcohol af en toe\" in text:\n",
    "        return True\n",
    "    if \"alcohol per week\" in text or \"alcohol week\" in text:\n",
    "        return True\n",
    "    if \"invloed van alcohol\" in text:\n",
    "        return True\n",
    "    return False\n",
    "\n",
    "def al_non_user_check(text):\n",
    "    if \"alcohol -\" in text or \"alcohol-\" in text:\n",
    "        return True\n",
    "    if \"alcohol: nee\" in text:\n",
    "        return True\n",
    "    if \"drinkt geen alcohol\" in text:\n",
    "        return True\n",
    "    if \"geen alcohol\" in text:\n",
    "        return True\n",
    "    if \"alcohol: geheel niet\" in text:\n",
    "        return True\n",
    "    if \"alcohol: geen\" in text:\n",
    "        return True\n",
    "    return False\n",
    "    \n",
    "def apply_string_matching(row):\n",
    "    text = row['text']\n",
    "    if al_current_user_check(text):\n",
    "        return \"Huidige gebruiker\"\n",
    "    if al_non_user_check(text):\n",
    "        return \"Geen gebruiker\"\n",
    "    return \"Niets gevonden\"\n",
    "\n",
    "alcohol_corpus['al_label'] = alcohol_corpus.apply(lambda row: apply_string_matching(row), axis=1)"
   ]
  },
  {
   "cell_type": "code",
   "execution_count": 51,
   "id": "6a7e935c",
   "metadata": {},
   "outputs": [
    {
     "data": {
      "text/html": [
       "<div>\n",
       "<style scoped>\n",
       "    .dataframe tbody tr th:only-of-type {\n",
       "        vertical-align: middle;\n",
       "    }\n",
       "\n",
       "    .dataframe tbody tr th {\n",
       "        vertical-align: top;\n",
       "    }\n",
       "\n",
       "    .dataframe thead th {\n",
       "        text-align: right;\n",
       "    }\n",
       "</style>\n",
       "<table border=\"1\" class=\"dataframe\">\n",
       "  <thead>\n",
       "    <tr style=\"text-align: right;\">\n",
       "      <th></th>\n",
       "      <th>text</th>\n",
       "      <th>Alcohol</th>\n",
       "      <th>al_label</th>\n",
       "    </tr>\n",
       "  </thead>\n",
       "  <tbody>\n",
       "    <tr>\n",
       "      <th>2</th>\n",
       "      <td>conclusie: normale nacontrole. kijkt goed teru...</td>\n",
       "      <td>Niets gevonden</td>\n",
       "      <td>Niets gevonden</td>\n",
       "    </tr>\n",
       "    <tr>\n",
       "      <th>17</th>\n",
       "      <td>conclusie: samenvatting abcde: icc bij trauma ...</td>\n",
       "      <td>Niets gevonden</td>\n",
       "      <td>Niets gevonden</td>\n",
       "    </tr>\n",
       "    <tr>\n",
       "      <th>37</th>\n",
       "      <td>beloop: staat gepland voor tc, echter nummer n...</td>\n",
       "      <td>Niets gevonden</td>\n",
       "      <td>Niets gevonden</td>\n",
       "    </tr>\n",
       "    <tr>\n",
       "      <th>40</th>\n",
       "      <td>beloop: lab belt: materiaal van 24-uurs urine ...</td>\n",
       "      <td>Niets gevonden</td>\n",
       "      <td>Niets gevonden</td>\n",
       "    </tr>\n",
       "    <tr>\n",
       "      <th>48</th>\n",
       "      <td>beloop: beloop: reguliere controle na acdf c4-...</td>\n",
       "      <td>Niets gevonden</td>\n",
       "      <td>Niets gevonden</td>\n",
       "    </tr>\n",
       "    <tr>\n",
       "      <th>...</th>\n",
       "      <td>...</td>\n",
       "      <td>...</td>\n",
       "      <td>...</td>\n",
       "    </tr>\n",
       "    <tr>\n",
       "      <th>4678</th>\n",
       "      <td>samenvatting: voorgeschiedenis: in verleden pr...</td>\n",
       "      <td>Niets gevonden</td>\n",
       "      <td>Niets gevonden</td>\n",
       "    </tr>\n",
       "    <tr>\n",
       "      <th>4682</th>\n",
       "      <td>anamnese: nog steeds hielspoor links, heeft al...</td>\n",
       "      <td>Geen gebruiker</td>\n",
       "      <td>Geen gebruiker</td>\n",
       "    </tr>\n",
       "    <tr>\n",
       "      <th>4688</th>\n",
       "      <td>reden van komst / verwijzing: reden verwijzing...</td>\n",
       "      <td>Huidige gebruiker</td>\n",
       "      <td>Huidige gebruiker</td>\n",
       "    </tr>\n",
       "    <tr>\n",
       "      <th>4691</th>\n",
       "      <td>anamnese:  verkort consult: aandachtspunten ui...</td>\n",
       "      <td>Geen gebruiker</td>\n",
       "      <td>Geen gebruiker</td>\n",
       "    </tr>\n",
       "    <tr>\n",
       "      <th>4699</th>\n",
       "      <td>reden van komst / verwijzing: reden van komst ...</td>\n",
       "      <td>Geen gebruiker</td>\n",
       "      <td>Geen gebruiker</td>\n",
       "    </tr>\n",
       "  </tbody>\n",
       "</table>\n",
       "<p>940 rows × 3 columns</p>\n",
       "</div>"
      ],
      "text/plain": [
       "                                                   text            Alcohol  \\\n",
       "2     conclusie: normale nacontrole. kijkt goed teru...     Niets gevonden   \n",
       "17    conclusie: samenvatting abcde: icc bij trauma ...     Niets gevonden   \n",
       "37    beloop: staat gepland voor tc, echter nummer n...     Niets gevonden   \n",
       "40    beloop: lab belt: materiaal van 24-uurs urine ...     Niets gevonden   \n",
       "48    beloop: beloop: reguliere controle na acdf c4-...     Niets gevonden   \n",
       "...                                                 ...                ...   \n",
       "4678  samenvatting: voorgeschiedenis: in verleden pr...     Niets gevonden   \n",
       "4682  anamnese: nog steeds hielspoor links, heeft al...     Geen gebruiker   \n",
       "4688  reden van komst / verwijzing: reden verwijzing...  Huidige gebruiker   \n",
       "4691  anamnese:  verkort consult: aandachtspunten ui...     Geen gebruiker   \n",
       "4699  reden van komst / verwijzing: reden van komst ...     Geen gebruiker   \n",
       "\n",
       "               al_label  \n",
       "2        Niets gevonden  \n",
       "17       Niets gevonden  \n",
       "37       Niets gevonden  \n",
       "40       Niets gevonden  \n",
       "48       Niets gevonden  \n",
       "...                 ...  \n",
       "4678     Niets gevonden  \n",
       "4682     Geen gebruiker  \n",
       "4688  Huidige gebruiker  \n",
       "4691     Geen gebruiker  \n",
       "4699     Geen gebruiker  \n",
       "\n",
       "[940 rows x 3 columns]"
      ]
     },
     "execution_count": 51,
     "metadata": {},
     "output_type": "execute_result"
    }
   ],
   "source": [
    "alcohol_corpus"
   ]
  },
  {
   "cell_type": "code",
   "execution_count": 52,
   "id": "0b1d3f34",
   "metadata": {},
   "outputs": [
    {
     "name": "stdout",
     "output_type": "stream",
     "text": [
      "0.9882978723404255\n"
     ]
    },
    {
     "data": {
      "image/png": "[encoded data removed]",
      "text/plain": [
       "<Figure size 432x288 with 2 Axes>"
      ]
     },
     "metadata": {
      "needs_background": "light"
     },
     "output_type": "display_data"
    },
    {
     "name": "stdout",
     "output_type": "stream",
     "text": [
      "                   precision    recall  f1-score   support\n",
      "\n",
      "   Geen gebruiker       0.97      0.98      0.98       150\n",
      "Huidige gebruiker       1.00      0.96      0.98       142\n",
      "   Niets gevonden       0.99      1.00      0.99       648\n",
      "\n",
      "         accuracy                           0.99       940\n",
      "        macro avg       0.99      0.98      0.98       940\n",
      "     weighted avg       0.99      0.99      0.99       940\n",
      "\n"
     ]
    }
   ],
   "source": [
    "print(np.mean(alcohol_corpus['al_label'] == alcohol_corpus['Alcohol']))\n",
    "cm = confusion_matrix(alcohol_corpus['Alcohol'], alcohol_corpus['al_label'])\n",
    "disp = ConfusionMatrixDisplay(confusion_matrix=cm)\n",
    "disp.plot()\n",
    "\n",
    "plt.show()\n",
    "print(metrics.classification_report(alcohol_corpus['Alcohol'], alcohol_corpus['al_label']))"
   ]
  },
  {
   "cell_type": "code",
   "execution_count": 53,
   "id": "5107a37b",
   "metadata": {},
   "outputs": [],
   "source": [
    "drugs_corpus = Corpus[['text', 'Drugs']]"
   ]
  },
  {
   "cell_type": "code",
   "execution_count": 54,
   "id": "7aaa47c0",
   "metadata": {},
   "outputs": [
    {
     "name": "stderr",
     "output_type": "stream",
     "text": [
      "<ipython-input-54-7fb2b069b0af>:1: SettingWithCopyWarning: \n",
      "A value is trying to be set on a copy of a slice from a DataFrame.\n",
      "Try using .loc[row_indexer,col_indexer] = value instead\n",
      "\n",
      "See the caveats in the documentation: https://pandas.pydata.org/pandas-docs/stable/user_guide/indexing.html#returning-a-view-versus-a-copy\n",
      "  drugs_corpus['text'] = drugs_corpus.text.str.lower()\n"
     ]
    }
   ],
   "source": [
    "drugs_corpus['text'] = drugs_corpus.text.str.lower()"
   ]
  },
  {
   "cell_type": "code",
   "execution_count": 55,
   "id": "1fbcd987",
   "metadata": {},
   "outputs": [
    {
     "name": "stderr",
     "output_type": "stream",
     "text": [
      "<ipython-input-55-721798d2705e>:1: SettingWithCopyWarning: \n",
      "A value is trying to be set on a copy of a slice from a DataFrame.\n",
      "Try using .loc[row_indexer,col_indexer] = value instead\n",
      "\n",
      "See the caveats in the documentation: https://pandas.pydata.org/pandas-docs/stable/user_guide/indexing.html#returning-a-view-versus-a-copy\n",
      "  drugs_corpus['text'] = drugs_corpus.text.str.replace(\"\\t\", \"\")\n"
     ]
    }
   ],
   "source": [
    "drugs_corpus['text'] = drugs_corpus.text.str.replace(\"\\t\", \"\")"
   ]
  },
  {
   "cell_type": "code",
   "execution_count": 56,
   "id": "47f932c6",
   "metadata": {},
   "outputs": [
    {
     "name": "stderr",
     "output_type": "stream",
     "text": [
      "<ipython-input-56-48d6b120817f>:1: SettingWithCopyWarning: \n",
      "A value is trying to be set on a copy of a slice from a DataFrame.\n",
      "Try using .loc[row_indexer,col_indexer] = value instead\n",
      "\n",
      "See the caveats in the documentation: https://pandas.pydata.org/pandas-docs/stable/user_guide/indexing.html#returning-a-view-versus-a-copy\n",
      "  drugs_corpus['Drugs'] = drugs_corpus.Drugs.str.replace(\"Voormalige gebruiker\", \"Geen gebruiker\")\n"
     ]
    }
   ],
   "source": [
    "drugs_corpus['Drugs'] = drugs_corpus.Drugs.str.replace(\"Voormalige gebruiker\", \"Geen gebruiker\")"
   ]
  },
  {
   "cell_type": "code",
   "execution_count": 57,
   "id": "ae95e1f8",
   "metadata": {},
   "outputs": [
    {
     "name": "stderr",
     "output_type": "stream",
     "text": [
      "<ipython-input-57-3d8ac5f5dbc0>:29: SettingWithCopyWarning: \n",
      "A value is trying to be set on a copy of a slice from a DataFrame.\n",
      "Try using .loc[row_indexer,col_indexer] = value instead\n",
      "\n",
      "See the caveats in the documentation: https://pandas.pydata.org/pandas-docs/stable/user_guide/indexing.html#returning-a-view-versus-a-copy\n",
      "  drugs_corpus['dr_label'] = drugs_corpus.apply(lambda row: apply_string_matching(row), axis=1)\n"
     ]
    }
   ],
   "source": [
    "def dr_current_user_check(text):\n",
    "    if \"drugs +\" in text or \"drugs+\" in text:\n",
    "        return True\n",
    "    if \"drugs: ja\" in text:\n",
    "        return True\n",
    "    if \"gebruikt drugs\" in text:\n",
    "        return True\n",
    "    return False\n",
    "\n",
    "def dr_non_user_check(text):\n",
    "    if \"drugs -\" in text or \"drugs-\" in text:\n",
    "        return True\n",
    "    if \"drugs: nee\" in text:\n",
    "        return True\n",
    "    if \"drugs niet\" in text:\n",
    "        return True\n",
    "    if \"geen drugs\" in text:\n",
    "        return True\n",
    "    return False\n",
    "    \n",
    "def apply_string_matching(row):\n",
    "    text = row['text']\n",
    "    if dr_current_user_check(text):\n",
    "        return \"Huidige gebruiker\"\n",
    "    if dr_non_user_check(text):\n",
    "        return \"Geen gebruiker\"\n",
    "    return \"Niets gevonden\"\n",
    "\n",
    "drugs_corpus['dr_label'] = drugs_corpus.apply(lambda row: apply_string_matching(row), axis=1)"
   ]
  },
  {
   "cell_type": "code",
   "execution_count": 58,
   "id": "98426943",
   "metadata": {},
   "outputs": [
    {
     "name": "stdout",
     "output_type": "stream",
     "text": [
      "0.9893617021276596\n"
     ]
    },
    {
     "data": {
      "image/png": "[encoded data removed]",
      "text/plain": [
       "<Figure size 432x288 with 2 Axes>"
      ]
     },
     "metadata": {
      "needs_background": "light"
     },
     "output_type": "display_data"
    },
    {
     "name": "stdout",
     "output_type": "stream",
     "text": [
      "                   precision    recall  f1-score   support\n",
      "\n",
      "   Geen gebruiker       0.99      0.99      0.99       275\n",
      "Huidige gebruiker       1.00      0.60      0.75        10\n",
      "   Niets gevonden       0.99      1.00      0.99       655\n",
      "\n",
      "         accuracy                           0.99       940\n",
      "        macro avg       0.99      0.86      0.91       940\n",
      "     weighted avg       0.99      0.99      0.99       940\n",
      "\n"
     ]
    }
   ],
   "source": [
    "print(np.mean(drugs_corpus['dr_label'] == drugs_corpus['Drugs']))\n",
    "cm = confusion_matrix(drugs_corpus['Drugs'], drugs_corpus['dr_label'])\n",
    "disp = ConfusionMatrixDisplay(confusion_matrix=cm)\n",
    "disp.plot()\n",
    "\n",
    "plt.show()\n",
    "print(metrics.classification_report(drugs_corpus['Drugs'], drugs_corpus['dr_label']))"
   ]
  },
  {
   "cell_type": "code",
   "execution_count": null,
   "id": "099d5179",
   "metadata": {},
   "outputs": [],
   "source": []
  }
 ],
 "metadata": {
  "kernelspec": {
   "display_name": "Python (thesis_hielke)",
   "language": "python",
   "name": "thesis_hielke"
  },
  "language_info": {
   "codemirror_mode": {
    "name": "ipython",
    "version": 3
   },
   "file_extension": ".py",
   "mimetype": "text/x-python",
   "name": "python",
   "nbconvert_exporter": "python",
   "pygments_lexer": "ipython3",
   "version": "3.9.16"
  }
 },
 "nbformat": 4,
 "nbformat_minor": 5
}
