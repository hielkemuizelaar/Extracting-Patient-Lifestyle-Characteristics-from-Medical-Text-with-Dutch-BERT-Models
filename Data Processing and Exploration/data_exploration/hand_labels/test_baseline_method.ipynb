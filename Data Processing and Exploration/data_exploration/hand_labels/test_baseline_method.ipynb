{
 "cells": [
  {
   "cell_type": "code",
   "execution_count": null,
   "id": "2fbd0406",
   "metadata": {},
   "outputs": [],
   "source": [
    "import sklearn\n",
    "import pandas as pd\n",
    "import numpy as np\n",
    "import nltk\n",
    "import sklearn\n",
    "from nltk.tokenize import word_tokenize\n",
    "from nltk import pos_tag\n",
    "from nltk.corpus import stopwords\n",
    "from nltk.stem import WordNetLemmatizer\n",
    "from sklearn.preprocessing import LabelEncoder\n",
    "from collections import defaultdict\n",
    "from nltk.corpus import wordnet as wn\n",
    "from sklearn.feature_extraction.text import TfidfVectorizer\n",
    "from sklearn import model_selection, naive_bayes, svm\n",
    "from sklearn.metrics import accuracy_score\n",
    "import matplotlib\n",
    "from sklearn.model_selection import cross_val_score\n",
    "from scipy.stats import uniform as sp_randFloat\n",
    "from scipy.stats import randint as sp_randInt\n",
    "from sklearn.model_selection import train_test_split\n",
    "import re\n",
    "from nltk.stem import PorterStemmer\n",
    "from nltk.stem.snowball import SnowballStemmer\n",
    "from sklearn.metrics import confusion_matrix, ConfusionMatrixDisplay\n",
    "import matplotlib.pyplot as plt\n",
    "from sklearn.feature_extraction.text import CountVectorizer\n",
    "from sklearn.feature_extraction.text import TfidfTransformer\n",
    "from sklearn.naive_bayes import MultinomialNB\n",
    "from sklearn.pipeline import Pipeline\n",
    "from sklearn import metrics\n",
    "from sklearn.model_selection import RandomizedSearchCV\n",
    "from sklearn.ensemble import RandomForestClassifier\n",
    "from sklearn.linear_model import SGDClassifier\n",
    "import pickle\n",
    "from wordcloud import WordCloud"
   ]
  },
  {
   "cell_type": "code",
   "execution_count": null,
   "id": "224be27f",
   "metadata": {},
   "outputs": [],
   "source": [
    "full_reviewed_data_drop = pd.read_csv('../../input_data/full_datasets/fully_hand_labelled_texts.csv')"
   ]
  },
  {
   "cell_type": "code",
   "execution_count": null,
   "id": "d5a1f3c8",
   "metadata": {},
   "outputs": [],
   "source": [
    "indices = pd.read_csv('medrobertanl-haga_smoking_predictions.csv', delimiter=';')"
   ]
  },
  {
   "cell_type": "code",
   "execution_count": null,
   "id": "5f15c3d5",
   "metadata": {},
   "outputs": [],
   "source": [
    "test_set = full_reviewed_data_drop.loc[indices['index']]"
   ]
  },
  {
   "cell_type": "code",
   "execution_count": null,
   "id": "0ce1b52e",
   "metadata": {},
   "outputs": [],
   "source": [
    "train_set = full_reviewed_data_drop.loc[~full_reviewed_data_drop.index.isin(test_set.index)]"
   ]
  },
  {
   "cell_type": "code",
   "execution_count": null,
   "id": "f5d19468",
   "metadata": {},
   "outputs": [],
   "source": [
    "train_set['Roken'].value_counts()"
   ]
  },
  {
   "cell_type": "code",
   "execution_count": null,
   "id": "36cf47ea",
   "metadata": {},
   "outputs": [],
   "source": [
    "test_set['Roken'].value_counts()"
   ]
  },
  {
   "cell_type": "code",
   "execution_count": null,
   "id": "be70efd5",
   "metadata": {},
   "outputs": [],
   "source": [
    "train_set['Alcohol'].value_counts()"
   ]
  },
  {
   "cell_type": "code",
   "execution_count": null,
   "id": "38886416",
   "metadata": {},
   "outputs": [],
   "source": [
    "test_set['Alcohol'].value_counts()"
   ]
  },
  {
   "cell_type": "code",
   "execution_count": null,
   "id": "d85a1faf",
   "metadata": {},
   "outputs": [],
   "source": [
    "train_set['Drugs'].value_counts()"
   ]
  },
  {
   "cell_type": "code",
   "execution_count": null,
   "id": "c0761ff0",
   "metadata": {},
   "outputs": [],
   "source": [
    "test_set['Drugs'].value_counts()"
   ]
  },
  {
   "cell_type": "code",
   "execution_count": null,
   "id": "b65926c9",
   "metadata": {},
   "outputs": [],
   "source": [
    "test_set.text = test_set.text.str.replace(\"_x000D_\\n\", \"\\t\")\n"
   ]
  },
  {
   "cell_type": "code",
   "execution_count": null,
   "id": "a3b578a4",
   "metadata": {},
   "outputs": [],
   "source": [
    "Corpus = test_set.copy()"
   ]
  },
  {
   "cell_type": "code",
   "execution_count": null,
   "id": "1605a7b7",
   "metadata": {},
   "outputs": [],
   "source": []
  },
  {
   "cell_type": "code",
   "execution_count": null,
   "id": "18f91100",
   "metadata": {},
   "outputs": [],
   "source": [
    "roken_corpus = Corpus[['text', 'Roken']]"
   ]
  },
  {
   "cell_type": "code",
   "execution_count": null,
   "id": "88773691",
   "metadata": {},
   "outputs": [],
   "source": [
    "roken_corpus['text'] = roken_corpus.text.str.lower()"
   ]
  },
  {
   "cell_type": "code",
   "execution_count": null,
   "id": "74005a49",
   "metadata": {},
   "outputs": [],
   "source": [
    "roken_corpus['text'] = roken_corpus.text.str.replace(\"\\t\", \"\")"
   ]
  },
  {
   "cell_type": "code",
   "execution_count": null,
   "id": "7b85fa2f",
   "metadata": {},
   "outputs": [],
   "source": []
  },
  {
   "cell_type": "code",
   "execution_count": null,
   "id": "43d5f74d",
   "metadata": {},
   "outputs": [],
   "source": [
    "def sm_previous_user_check(text):\n",
    "    return \"rookt niet meer\" in text or \"gestopt met roken\" in text\n",
    "\n",
    "def sm_current_user_check(text):\n",
    "    if \"rookt +\" in text or \"rookt+\" in text:\n",
    "        return True\n",
    "    if \"roker +\" in text or \"roker+\" in text:\n",
    "        return True\n",
    "    if \"roken +\" in text or \"roken+\" in text:\n",
    "        return True\n",
    "    if \"rookster +\" in text or \"rookster+\" in text:\n",
    "        return True\n",
    "    if \"rookt: ja\" in text:\n",
    "        return True\n",
    "    if \"roker: ja\" in text or \"rookster: ja\" in text:\n",
    "        return True\n",
    "    if \"rookt soms\" in text or \"rookt: soms\" in text:\n",
    "        return True\n",
    "    if \"roken ++\" in text:\n",
    "        return True\n",
    "    return False\n",
    "\n",
    "def sm_non_user_check(text):\n",
    "    if \"rookt -\" in text or \"rookt-\" in text:\n",
    "        return True\n",
    "    if \"roker -\" in text or \"roker-\" in text:\n",
    "        return True\n",
    "    if \"roken -\" in text or \"roken-\" in text:\n",
    "        return True\n",
    "    if \"rookster -\" in text or \"rookster-\" in text:\n",
    "        return True\n",
    "    if \"rookt: nee\" in text:\n",
    "        return True\n",
    "    if \"roker: nee\" in text or \"rookster: nee\" in text:\n",
    "        return True\n",
    "    if \"rookt nooit\" in text or \"rookt: nooit\" in text:\n",
    "        return True\n",
    "    if \"roken --\" in text:\n",
    "        return True\n",
    "    return False\n",
    "    \n",
    "def apply_string_matching(row):\n",
    "    text = row['text']\n",
    "    if sm_previous_user_check(text):\n",
    "        return \"Voormalige gebruiker\"\n",
    "    if sm_current_user_check(text):\n",
    "        return \"Huidige gebruiker\"\n",
    "    if sm_non_user_check(text):\n",
    "        return \"Geen gebruiker\"\n",
    "    return \"Niets gevonden\"\n",
    "\n",
    "roken_corpus['sm_label'] = roken_corpus.apply(lambda row: apply_string_matching(row), axis=1)"
   ]
  },
  {
   "cell_type": "code",
   "execution_count": null,
   "id": "682a1c05",
   "metadata": {},
   "outputs": [],
   "source": [
    "roken_corpus"
   ]
  },
  {
   "cell_type": "code",
   "execution_count": null,
   "id": "00dc3123",
   "metadata": {},
   "outputs": [],
   "source": [
    "print(np.mean(roken_corpus['sm_label'] == roken_corpus['Roken']))\n",
    "cm = confusion_matrix(roken_corpus['Roken'], roken_corpus['sm_label'])\n",
    "disp = ConfusionMatrixDisplay(confusion_matrix=cm)\n",
    "disp.plot()\n",
    "\n",
    "plt.show()\n",
    "print(metrics.classification_report(roken_corpus['Roken'], roken_corpus['sm_label']))"
   ]
  },
  {
   "cell_type": "code",
   "execution_count": null,
   "id": "e02b14fc",
   "metadata": {},
   "outputs": [],
   "source": [
    "roken_corpus.to_csv('smoking_string_matching_predictions.csv')"
   ]
  },
  {
   "cell_type": "code",
   "execution_count": null,
   "id": "460f384a",
   "metadata": {},
   "outputs": [],
   "source": [
    "alcohol_corpus = Corpus[['text', 'Alcohol']]"
   ]
  },
  {
   "cell_type": "code",
   "execution_count": null,
   "id": "4e5e76f8",
   "metadata": {},
   "outputs": [],
   "source": [
    "alcohol_corpus"
   ]
  },
  {
   "cell_type": "code",
   "execution_count": null,
   "id": "a304c92e",
   "metadata": {},
   "outputs": [],
   "source": [
    "alcohol_corpus['text'] = alcohol_corpus.text.str.lower()"
   ]
  },
  {
   "cell_type": "code",
   "execution_count": null,
   "id": "5762ad6e",
   "metadata": {},
   "outputs": [],
   "source": [
    "alcohol_corpus['text'] = alcohol_corpus.text.str.replace(\"\\t\", \"\")"
   ]
  },
  {
   "cell_type": "code",
   "execution_count": null,
   "id": "a66c1502",
   "metadata": {},
   "outputs": [],
   "source": [
    "alcohol_corpus['Alcohol'] = alcohol_corpus.Alcohol.str.replace(\"Voormalige gebruiker\", \"Geen gebruiker\")"
   ]
  },
  {
   "cell_type": "code",
   "execution_count": null,
   "id": "e6231e37",
   "metadata": {},
   "outputs": [],
   "source": [
    "def al_current_user_check(text):\n",
    "    if \"alcohol +\" in text or \"alcohol+\" in text:\n",
    "        return True\n",
    "    if \"alcohol: ja\" in text:\n",
    "        return True\n",
    "    if \"drinkt alcohol\" in text:\n",
    "        return True\n",
    "    if \"alcohol af en toe\" in text:\n",
    "        return True\n",
    "    if \"alcohol per week\" in text or \"alcohol week\" in text:\n",
    "        return True\n",
    "    if \"invloed van alcohol\" in text:\n",
    "        return True\n",
    "    return False\n",
    "\n",
    "def al_non_user_check(text):\n",
    "    if \"alcohol -\" in text or \"alcohol-\" in text:\n",
    "        return True\n",
    "    if \"alcohol: nee\" in text:\n",
    "        return True\n",
    "    if \"drinkt geen alcohol\" in text:\n",
    "        return True\n",
    "    if \"geen alcohol\" in text:\n",
    "        return True\n",
    "    if \"alcohol: geheel niet\" in text:\n",
    "        return True\n",
    "    if \"alcohol: geen\" in text:\n",
    "        return True\n",
    "    return False\n",
    "    \n",
    "def apply_string_matching(row):\n",
    "    text = row['text']\n",
    "    if al_current_user_check(text):\n",
    "        return \"Huidige gebruiker\"\n",
    "    if al_non_user_check(text):\n",
    "        return \"Geen gebruiker\"\n",
    "    return \"Niets gevonden\"\n",
    "\n",
    "alcohol_corpus['al_label'] = alcohol_corpus.apply(lambda row: apply_string_matching(row), axis=1)"
   ]
  },
  {
   "cell_type": "code",
   "execution_count": null,
   "id": "6a7e935c",
   "metadata": {},
   "outputs": [],
   "source": [
    "alcohol_corpus"
   ]
  },
  {
   "cell_type": "code",
   "execution_count": null,
   "id": "0b1d3f34",
   "metadata": {},
   "outputs": [],
   "source": [
    "print(np.mean(alcohol_corpus['al_label'] == alcohol_corpus['Alcohol']))\n",
    "cm = confusion_matrix(alcohol_corpus['Alcohol'], alcohol_corpus['al_label'])\n",
    "disp = ConfusionMatrixDisplay(confusion_matrix=cm)\n",
    "disp.plot()\n",
    "\n",
    "plt.show()\n",
    "print(metrics.classification_report(alcohol_corpus['Alcohol'], alcohol_corpus['al_label']))"
   ]
  },
  {
   "cell_type": "code",
   "execution_count": null,
   "id": "5107a37b",
   "metadata": {},
   "outputs": [],
   "source": [
    "drugs_corpus = Corpus[['text', 'Drugs']]"
   ]
  },
  {
   "cell_type": "code",
   "execution_count": null,
   "id": "7aaa47c0",
   "metadata": {},
   "outputs": [],
   "source": [
    "drugs_corpus['text'] = drugs_corpus.text.str.lower()"
   ]
  },
  {
   "cell_type": "code",
   "execution_count": null,
   "id": "1fbcd987",
   "metadata": {},
   "outputs": [],
   "source": [
    "drugs_corpus['text'] = drugs_corpus.text.str.replace(\"\\t\", \"\")"
   ]
  },
  {
   "cell_type": "code",
   "execution_count": null,
   "id": "47f932c6",
   "metadata": {},
   "outputs": [],
   "source": [
    "drugs_corpus['Drugs'] = drugs_corpus.Drugs.str.replace(\"Voormalige gebruiker\", \"Geen gebruiker\")"
   ]
  },
  {
   "cell_type": "code",
   "execution_count": null,
   "id": "ae95e1f8",
   "metadata": {},
   "outputs": [],
   "source": [
    "def dr_current_user_check(text):\n",
    "    if \"drugs +\" in text or \"drugs+\" in text:\n",
    "        return True\n",
    "    if \"drugs: ja\" in text:\n",
    "        return True\n",
    "    if \"gebruikt drugs\" in text:\n",
    "        return True\n",
    "    return False\n",
    "\n",
    "def dr_non_user_check(text):\n",
    "    if \"drugs -\" in text or \"drugs-\" in text:\n",
    "        return True\n",
    "    if \"drugs: nee\" in text:\n",
    "        return True\n",
    "    if \"drugs niet\" in text:\n",
    "        return True\n",
    "    if \"geen drugs\" in text:\n",
    "        return True\n",
    "    return False\n",
    "    \n",
    "def apply_string_matching(row):\n",
    "    text = row['text']\n",
    "    if dr_current_user_check(text):\n",
    "        return \"Huidige gebruiker\"\n",
    "    if dr_non_user_check(text):\n",
    "        return \"Geen gebruiker\"\n",
    "    return \"Niets gevonden\"\n",
    "\n",
    "drugs_corpus['dr_label'] = drugs_corpus.apply(lambda row: apply_string_matching(row), axis=1)"
   ]
  },
  {
   "cell_type": "code",
   "execution_count": null,
   "id": "98426943",
   "metadata": {},
   "outputs": [],
   "source": [
    "print(np.mean(drugs_corpus['dr_label'] == drugs_corpus['Drugs']))\n",
    "cm = confusion_matrix(drugs_corpus['Drugs'], drugs_corpus['dr_label'])\n",
    "disp = ConfusionMatrixDisplay(confusion_matrix=cm)\n",
    "disp.plot()\n",
    "\n",
    "plt.show()\n",
    "print(metrics.classification_report(drugs_corpus['Drugs'], drugs_corpus['dr_label']))"
   ]
  },
  {
   "cell_type": "code",
   "execution_count": null,
   "id": "099d5179",
   "metadata": {},
   "outputs": [],
   "source": []
  }
 ],
 "metadata": {
  "kernelspec": {
   "display_name": "Python (thesis_hielke)",
   "language": "python",
   "name": "thesis_hielke"
  },
  "language_info": {
   "codemirror_mode": {
    "name": "ipython",
    "version": 3
   },
   "file_extension": ".py",
   "mimetype": "text/x-python",
   "name": "python",
   "nbconvert_exporter": "python",
   "pygments_lexer": "ipython3",
   "version": "3.9.16"
  }
 },
 "nbformat": 4,
 "nbformat_minor": 5
}
