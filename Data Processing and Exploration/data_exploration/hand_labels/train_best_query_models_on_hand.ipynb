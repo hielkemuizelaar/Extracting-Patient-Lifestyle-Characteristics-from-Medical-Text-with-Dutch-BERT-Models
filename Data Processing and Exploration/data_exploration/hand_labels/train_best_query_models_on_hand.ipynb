{
 "cells": [
  {
   "cell_type": "code",
   "execution_count": null,
   "id": "c73a6a77",
   "metadata": {},
   "outputs": [],
   "source": [
    "import sklearn\n",
    "import pandas as pd\n",
    "import numpy as np\n",
    "import nltk\n",
    "import sklearn\n",
    "from nltk.tokenize import word_tokenize\n",
    "from nltk import pos_tag\n",
    "from nltk.corpus import stopwords\n",
    "from nltk.stem import WordNetLemmatizer\n",
    "from sklearn.preprocessing import LabelEncoder\n",
    "from collections import defaultdict\n",
    "from nltk.corpus import wordnet as wn\n",
    "from sklearn.feature_extraction.text import TfidfVectorizer\n",
    "from sklearn import model_selection, naive_bayes, svm\n",
    "from sklearn.metrics import accuracy_score\n",
    "import matplotlib\n",
    "from sklearn.model_selection import cross_val_score\n",
    "from scipy.stats import uniform as sp_randFloat\n",
    "from scipy.stats import randint as sp_randInt\n",
    "from sklearn.model_selection import train_test_split\n",
    "import re\n",
    "from nltk.stem import PorterStemmer\n",
    "from nltk.stem.snowball import SnowballStemmer\n",
    "from sklearn.metrics import confusion_matrix, ConfusionMatrixDisplay\n",
    "import matplotlib.pyplot as plt\n",
    "from sklearn.feature_extraction.text import CountVectorizer\n",
    "from sklearn.feature_extraction.text import TfidfTransformer\n",
    "from sklearn.naive_bayes import MultinomialNB\n",
    "from sklearn.pipeline import Pipeline\n",
    "from sklearn import metrics\n",
    "from sklearn.model_selection import RandomizedSearchCV\n",
    "from sklearn.ensemble import RandomForestClassifier\n",
    "from sklearn.linear_model import SGDClassifier\n",
    "import pickle\n",
    "from wordcloud import WordCloud"
   ]
  },
  {
   "cell_type": "code",
   "execution_count": null,
   "id": "e6b81fe0",
   "metadata": {},
   "outputs": [],
   "source": [
    "full_reviewed_data_drop = pd.read_csv('../../input_data/full_datasets/fully_hand_labelled_texts.csv')"
   ]
  },
  {
   "cell_type": "code",
   "execution_count": null,
   "id": "985a98f8",
   "metadata": {},
   "outputs": [],
   "source": [
    "full_reviewed_data_drop.text = full_reviewed_data_drop.text.str.replace(\"_x000D_\\n\", \"\\t\")\n"
   ]
  },
  {
   "cell_type": "code",
   "execution_count": null,
   "id": "b6bc747b",
   "metadata": {},
   "outputs": [],
   "source": [
    "indices = pd.read_csv('medrobertanl-haga_smoking_predictions.csv', delimiter=';')"
   ]
  },
  {
   "cell_type": "code",
   "execution_count": null,
   "id": "02654121",
   "metadata": {},
   "outputs": [],
   "source": [
    "test_set = full_reviewed_data_drop.loc[indices['index']]"
   ]
  },
  {
   "cell_type": "code",
   "execution_count": null,
   "id": "5b17fc93",
   "metadata": {},
   "outputs": [],
   "source": [
    "train_set = full_reviewed_data_drop.loc[~full_reviewed_data_drop.index.isin(test_set.index)]"
   ]
  },
  {
   "cell_type": "code",
   "execution_count": null,
   "id": "b1d7a892",
   "metadata": {},
   "outputs": [],
   "source": [
    "train_set"
   ]
  },
  {
   "cell_type": "code",
   "execution_count": null,
   "id": "6b615e73",
   "metadata": {},
   "outputs": [],
   "source": [
    "Corpus = full_reviewed_data_drop.copy()"
   ]
  },
  {
   "cell_type": "code",
   "execution_count": null,
   "id": "2dec6e1e",
   "metadata": {},
   "outputs": [],
   "source": [
    "Corpus['text'] = Corpus['text'].astype(str)"
   ]
  },
  {
   "cell_type": "markdown",
   "id": "c0b1702e",
   "metadata": {},
   "source": [
    "# Roken"
   ]
  },
  {
   "cell_type": "markdown",
   "id": "38a4f796",
   "metadata": {},
   "source": [
    "## Experiment 1"
   ]
  },
  {
   "cell_type": "code",
   "execution_count": null,
   "id": "0936906f",
   "metadata": {},
   "outputs": [],
   "source": [
    "rook_corpus = Corpus[[\"text\", \"Roken\"]].rename(columns={\"Roken\":\"label\"})"
   ]
  },
  {
   "cell_type": "code",
   "execution_count": null,
   "id": "894f79ef",
   "metadata": {},
   "outputs": [],
   "source": [
    "rook_corpus"
   ]
  },
  {
   "cell_type": "code",
   "execution_count": null,
   "id": "1b92ad7f",
   "metadata": {},
   "outputs": [],
   "source": [
    "rook_corpus['text'] = rook_corpus['text'].str.replace('\\t',' ')\n",
    "rook_corpus.drop_duplicates(inplace=True)\n",
    "rook_corpus['text'] = rook_corpus['text'].astype(str)"
   ]
  },
  {
   "cell_type": "code",
   "execution_count": null,
   "id": "87a70287",
   "metadata": {},
   "outputs": [],
   "source": [
    "stemmer = SnowballStemmer(\"dutch\")\n",
    "rook_corpus['text'] = rook_corpus['text'].str.lower()\n",
    "rook_corpus['text'] = [stemmer.stem(text) for text in rook_corpus['text']]\n",
    "rook_corpus = rook_corpus.drop(rook_corpus[rook_corpus.label == '--'].index)\n",
    "rook_corpus_backup = rook_corpus.copy()"
   ]
  },
  {
   "cell_type": "code",
   "execution_count": null,
   "id": "a5d65ab4",
   "metadata": {},
   "outputs": [],
   "source": [
    "stopwords_filter = ['niet', 'niets', 'geen', 'zonder']\n",
    "with open('../../helping_files/stopwords.txt') as file:\n",
    "    full_stopwords = [line.rstrip() for line in file]\n",
    "    filtered_stopwords = [item for item in full_stopwords if item not in stopwords_filter]"
   ]
  },
  {
   "cell_type": "code",
   "execution_count": null,
   "id": "1df7f00b",
   "metadata": {},
   "outputs": [],
   "source": [
    "test_set = rook_corpus.loc[indices['index']]"
   ]
  },
  {
   "cell_type": "code",
   "execution_count": null,
   "id": "624b28e1",
   "metadata": {},
   "outputs": [],
   "source": [
    "train_set = rook_corpus.loc[~rook_corpus.index.isin(test_set.index)]"
   ]
  },
  {
   "cell_type": "code",
   "execution_count": null,
   "id": "d6ea17ca",
   "metadata": {},
   "outputs": [],
   "source": [
    "train_set"
   ]
  },
  {
   "cell_type": "code",
   "execution_count": null,
   "id": "5761c853",
   "metadata": {},
   "outputs": [],
   "source": [
    "parameter_grid = {'clf__loss':              ['hinge', 'log_loss', 'log', 'modified_huber', 'squared_hinge', 'perceptron', 'squared_error', 'huber', 'epsilon_insensitive', 'squared_epsilon_insensitive'],\n",
    "                  'clf__penalty':           ['l2', 'l1'],\n",
    "                  'clf__l1_ratio':          sp_randFloat(),\n",
    "                  'clf__fit_intercept':     [True, False],\n",
    "                  'clf__max_iter':          [int(x) for x in np.linspace(start = 10, stop = 100, num = 10)],\n",
    "                  'clf__tol':               sp_randFloat(),\n",
    "                  'clf__shuffle':           [True, False],\n",
    "                  'clf__epsilon':           sp_randFloat(),\n",
    "                  'clf__learning_rate':     ['constant', 'optimal', 'invscaling', 'adaptive'],\n",
    "                  'clf__eta0':              sp_randFloat(),\n",
    "                  'clf__power_t':           sp_randFloat(),\n",
    "                  'clf__class_weight':      ['balanced', None],\n",
    "                  'clf__warm_start':        [True, False],\n",
    "                  'clf__average':           [True, False],\n",
    "                  'tfidf__max_df':          [0.90, 0.95],\n",
    "                  'tfidf__min_df':          [3, 5]\n",
    "                 }"
   ]
  },
  {
   "cell_type": "code",
   "execution_count": null,
   "id": "767390cb",
   "metadata": {},
   "outputs": [],
   "source": [
    "# Ngram 2 Stopwords kept\n",
    "pipeline = Pipeline([\n",
    "    ('tfidf', TfidfVectorizer(ngram_range=(2,2), lowercase=True, token_pattern=r\"(?u)\\b\\w\\w+\\b|\\+|\\-\")),\n",
    "    ('clf', SGDClassifier(early_stopping=True, n_iter_no_change=5, validation_fraction = 0.25, verbose=3)),\n",
    "])\n",
    "random_search = RandomizedSearchCV(estimator=pipeline, param_distributions=parameter_grid, random_state=500, verbose=3, scoring='f1_macro')\n",
    "random_search.fit(train_set['text'], train_set['label'])  \n",
    "predicted_nb = random_search.predict(test_set['text'])\n",
    "print(np.mean(predicted_nb == test_set['label']))\n",
    "cm = confusion_matrix(test_set['label'], predicted_nb)\n",
    "disp = ConfusionMatrixDisplay(confusion_matrix=cm,\n",
    "                              display_labels=random_search.classes_)\n",
    "disp.plot()\n",
    "\n",
    "plt.show()\n",
    "print(metrics.classification_report(test_set['label'], predicted_nb,\n",
    "    target_names=random_search.classes_))"
   ]
  },
  {
   "cell_type": "code",
   "execution_count": null,
   "id": "253be629",
   "metadata": {},
   "outputs": [],
   "source": [
    "from pickle import dump\n",
    "\n",
    "dump(random_search, open('smoking_ml_model.pkl', 'wb'))"
   ]
  },
  {
   "cell_type": "code",
   "execution_count": null,
   "id": "28c7442f",
   "metadata": {},
   "outputs": [],
   "source": [
    "test_set['predicted'] = predicted_nb"
   ]
  },
  {
   "cell_type": "code",
   "execution_count": null,
   "id": "0e1bfd33",
   "metadata": {},
   "outputs": [],
   "source": [
    "test_set"
   ]
  },
  {
   "cell_type": "code",
   "execution_count": null,
   "id": "eef0d5a9",
   "metadata": {},
   "outputs": [],
   "source": [
    "test_set.to_csv('sgd_smoking_results.csv')"
   ]
  },
  {
   "cell_type": "markdown",
   "id": "ddf614eb",
   "metadata": {},
   "source": [
    "## Experiment 2"
   ]
  },
  {
   "cell_type": "code",
   "execution_count": null,
   "id": "3bdff84b",
   "metadata": {},
   "outputs": [],
   "source": [
    "rook_corpus = rook_corpus_backup.copy()\n",
    "stemmer = SnowballStemmer(\"dutch\")\n",
    "rook_corpus['text'] = rook_corpus['text'].str.lower()\n",
    "rook_corpus['text'] = [stemmer.stem(text) for text in rook_corpus['text']]\n",
    "rook_corpus['label'] = rook_corpus['label'].str.replace('Niets gevonden','Geen gebruiker')\n",
    "rook_corpus['label'] = rook_corpus['label'].str.replace('Voormalige gebruiker','Geen gebruiker')\n",
    "rook_corpus = rook_corpus.drop(rook_corpus[rook_corpus.label == '--'].index)\n",
    "rook_corpus = rook_corpus.drop(rook_corpus[rook_corpus.label == 'Onbekend'].index)\n",
    "rook_corpus_backup = rook_corpus.copy()"
   ]
  },
  {
   "cell_type": "code",
   "execution_count": null,
   "id": "fda6a117",
   "metadata": {},
   "outputs": [],
   "source": [
    "test_set = rook_corpus.loc[indices['index']]\n",
    "train_set = rook_corpus.loc[~rook_corpus.index.isin(test_set.index)]"
   ]
  },
  {
   "cell_type": "code",
   "execution_count": null,
   "id": "736ec2c9",
   "metadata": {},
   "outputs": [],
   "source": [
    "parameter_grid = {'clf__loss':              ['hinge', 'log_loss', 'log', 'modified_huber', 'squared_hinge', 'perceptron', 'squared_error', 'huber', 'epsilon_insensitive', 'squared_epsilon_insensitive'],\n",
    "                  'clf__penalty':           ['l2', 'l1'],\n",
    "                  'clf__l1_ratio':          sp_randFloat(),\n",
    "                  'clf__fit_intercept':     [True, False],\n",
    "                  'clf__max_iter':          [int(x) for x in np.linspace(start = 10, stop = 100, num = 10)],\n",
    "                  'clf__tol':               sp_randFloat(),\n",
    "                  'clf__shuffle':           [True, False],\n",
    "                  'clf__epsilon':           sp_randFloat(),\n",
    "                  'clf__learning_rate':     ['constant', 'optimal', 'invscaling', 'adaptive'],\n",
    "                  'clf__eta0':              sp_randFloat(),\n",
    "                  'clf__power_t':           sp_randFloat(),\n",
    "                  'clf__class_weight':      ['balanced', None],\n",
    "                  'clf__warm_start':        [True, False],\n",
    "                  'clf__average':           [True, False],\n",
    "                  'tfidf__max_df':          [0.90, 0.95],\n",
    "                  'tfidf__min_df':          [3, 5]\n",
    "                 }"
   ]
  },
  {
   "cell_type": "code",
   "execution_count": null,
   "id": "5ce4af30",
   "metadata": {},
   "outputs": [],
   "source": [
    "# Ngram 2 Stopwords kept\n",
    "pipeline = Pipeline([\n",
    "    ('tfidf', TfidfVectorizer(ngram_range=(1,2), lowercase=True, token_pattern=r\"(?u)\\b\\w\\w+\\b|\\+|\\-\")),\n",
    "    ('clf', SGDClassifier(early_stopping=True, n_iter_no_change=5, validation_fraction = 0.25, verbose=3)),\n",
    "])\n",
    "random_search = RandomizedSearchCV(estimator=pipeline, param_distributions=parameter_grid, random_state=500, verbose=3, scoring='f1_macro')\n",
    "random_search.fit(X_train, y_train)  \n",
    "predicted_nb = random_search.predict(X_test)\n",
    "print(np.mean(predicted_nb == y_test))\n",
    "cm = confusion_matrix(y_test, predicted_nb)\n",
    "disp = ConfusionMatrixDisplay(confusion_matrix=cm,\n",
    "                              display_labels=random_search.classes_)\n",
    "disp.plot()\n",
    "\n",
    "plt.show()\n",
    "print(metrics.classification_report(y_test, predicted_nb,\n",
    "    target_names=random_search.classes_))"
   ]
  },
  {
   "cell_type": "markdown",
   "id": "ac8f8905",
   "metadata": {},
   "source": [
    "# Alcohol"
   ]
  },
  {
   "cell_type": "markdown",
   "id": "34ed66e8",
   "metadata": {},
   "source": [
    "## Experiment 1"
   ]
  },
  {
   "cell_type": "code",
   "execution_count": null,
   "id": "36bf3f4a",
   "metadata": {},
   "outputs": [],
   "source": [
    "alcohol_corpus = Corpus[[\"text\", \"Alcohol\"]].rename(columns={\"Alcohol\":\"label\"})"
   ]
  },
  {
   "cell_type": "code",
   "execution_count": null,
   "id": "f22715b3",
   "metadata": {},
   "outputs": [],
   "source": [
    "alcohol_corpus"
   ]
  },
  {
   "cell_type": "code",
   "execution_count": null,
   "id": "e53aa371",
   "metadata": {},
   "outputs": [],
   "source": [
    "alcohol_corpus['text'] = alcohol_corpus['text'].str.replace('\\t',' ')\n",
    "alcohol_corpus.drop_duplicates(inplace=True)\n",
    "alcohol_corpus['text'] = alcohol_corpus['text'].astype(str)"
   ]
  },
  {
   "cell_type": "code",
   "execution_count": null,
   "id": "43b154cc",
   "metadata": {},
   "outputs": [],
   "source": [
    "stemmer = SnowballStemmer(\"dutch\")\n",
    "alcohol_corpus['text'] = alcohol_corpus['text'].str.lower()\n",
    "alcohol_corpus['text'] = [stemmer.stem(text) for text in alcohol_corpus['text']]\n",
    "alcohol_corpus = alcohol_corpus.drop(alcohol_corpus[alcohol_corpus.label == '--'].index)\n",
    "alcohol_corpus_backup = alcohol_corpus.copy()"
   ]
  },
  {
   "cell_type": "code",
   "execution_count": null,
   "id": "04b9939d",
   "metadata": {},
   "outputs": [],
   "source": [
    "no_stopwords = lambda x: ' '.join([item for item in x.split() if item not in full_stopwords])\n",
    "less_stopwords = lambda x: ' '.join([item for item in x.split() if item not in filtered_stopwords])\n",
    "\n",
    "alcohol_corpus[\"text\"] = alcohol_corpus[\"text\"].apply(less_stopwords)\n",
    "X_train, X_test, y_train, y_test = train_test_split(alcohol_corpus['text'], alcohol_corpus['label'], test_size=0.2, random_state=50)"
   ]
  },
  {
   "cell_type": "code",
   "execution_count": null,
   "id": "1671f29e",
   "metadata": {},
   "outputs": [],
   "source": [
    "test_set = alcohol_corpus.loc[indices['index']]\n",
    "train_set = alcohol_corpus.loc[~alcohol_corpus.index.isin(test_set.index)]"
   ]
  },
  {
   "cell_type": "code",
   "execution_count": null,
   "id": "14266c97",
   "metadata": {
    "scrolled": true
   },
   "outputs": [],
   "source": [
    "# Ngram 2 Less stopwords\n",
    "pipeline = Pipeline([\n",
    "    ('tfidf', TfidfVectorizer(ngram_range=(1,2), lowercase=True, token_pattern=r\"(?u)\\b\\w\\w+\\b|\\+|\\-\")),\n",
    "    ('clf', SGDClassifier(early_stopping=True, n_iter_no_change=5, validation_fraction = 0.25, verbose=3)),\n",
    "])\n",
    "random_search = RandomizedSearchCV(estimator=pipeline, param_distributions=parameter_grid, random_state=500, verbose=3, scoring='f1_macro')\n",
    "random_search.fit(X_train, y_train)  \n",
    "predicted_nb = random_search.predict(X_test)\n",
    "print(np.mean(predicted_nb == y_test))\n",
    "cm = confusion_matrix(y_test, predicted_nb)\n",
    "disp = ConfusionMatrixDisplay(confusion_matrix=cm,\n",
    "                              display_labels=random_search.classes_)\n",
    "disp.plot()\n",
    "\n",
    "plt.show()\n",
    "print(metrics.classification_report(y_test, predicted_nb,\n",
    "    target_names=random_search.classes_))"
   ]
  },
  {
   "cell_type": "markdown",
   "id": "82fbb9d4",
   "metadata": {},
   "source": [
    "## Experiment 2"
   ]
  },
  {
   "cell_type": "code",
   "execution_count": null,
   "id": "e7795780",
   "metadata": {},
   "outputs": [],
   "source": [
    "alcohol_corpus = alcohol_corpus_backup.copy()\n",
    "stemmer = SnowballStemmer(\"dutch\")\n",
    "alcohol_corpus['text'] = alcohol_corpus['text'].str.lower()\n",
    "alcohol_corpus['text'] = [stemmer.stem(text) for text in alcohol_corpus['text']]\n",
    "alcohol_corpus['label'] = alcohol_corpus['label'].str.replace('Niets gevonden','Geen gebruiker')\n",
    "alcohol_corpus['label'] = alcohol_corpus['label'].str.replace('Voormalige gebruiker','Geen gebruiker')\n",
    "alcohol_corpus = alcohol_corpus.drop(alcohol_corpus[alcohol_corpus.label == '--'].index)\n",
    "alcohol_corpus = alcohol_corpus.drop(alcohol_corpus[alcohol_corpus.label == 'Onbekend'].index)\n",
    "alcohol_corpus_backup = alcohol_corpus.copy()"
   ]
  },
  {
   "cell_type": "code",
   "execution_count": null,
   "id": "6cea48b4",
   "metadata": {},
   "outputs": [],
   "source": [
    "test_set = alcohol_corpus.loc[indices['index']]\n",
    "train_set = alcohol_corpus.loc[~alcohol_corpus.index.isin(test_set.index)]"
   ]
  },
  {
   "cell_type": "code",
   "execution_count": null,
   "id": "cc2865ba",
   "metadata": {},
   "outputs": [],
   "source": [
    "parameter_grid = {'clf__loss':              ['hinge', 'log_loss', 'log', 'modified_huber', 'squared_hinge', 'perceptron', 'squared_error', 'huber', 'epsilon_insensitive', 'squared_epsilon_insensitive'],\n",
    "                  'clf__penalty':           ['l2', 'l1'],\n",
    "                  'clf__l1_ratio':          sp_randFloat(),\n",
    "                  'clf__fit_intercept':     [True, False],\n",
    "                  'clf__max_iter':          [int(x) for x in np.linspace(start = 10, stop = 100, num = 10)],\n",
    "                  'clf__tol':               sp_randFloat(),\n",
    "                  'clf__shuffle':           [True, False],\n",
    "                  'clf__epsilon':           sp_randFloat(),\n",
    "                  'clf__learning_rate':     ['constant', 'optimal', 'invscaling', 'adaptive'],\n",
    "                  'clf__eta0':              sp_randFloat(),\n",
    "                  'clf__power_t':           sp_randFloat(),\n",
    "                  'clf__class_weight':      ['balanced', None],\n",
    "                  'clf__warm_start':        [True, False],\n",
    "                  'clf__average':           [True, False],\n",
    "                  'tfidf__max_df':          [0.90, 0.95],\n",
    "                  'tfidf__min_df':          [3, 5]\n",
    "                 }"
   ]
  },
  {
   "cell_type": "code",
   "execution_count": null,
   "id": "61603c32",
   "metadata": {},
   "outputs": [],
   "source": [
    "# Ngram 3 Stopwords kept\n",
    "pipeline = Pipeline([\n",
    "    ('tfidf', TfidfVectorizer(ngram_range=(1,3), lowercase=True, token_pattern=r\"(?u)\\b\\w\\w+\\b|\\+|\\-\")),\n",
    "    ('clf', SGDClassifier(early_stopping=True, n_iter_no_change=5, validation_fraction = 0.25, verbose=3)),\n",
    "])\n",
    "random_search = RandomizedSearchCV(estimator=pipeline, param_distributions=parameter_grid, random_state=500, verbose=3, scoring='f1_macro')\n",
    "random_search.fit(train_set['text'], train_set['label'])  \n",
    "predicted_nb = random_search.predict(test_set['text'])\n",
    "print(np.mean(predicted_nb == test_set['label']))\n",
    "cm = confusion_matrix(test_set['label'], predicted_nb)\n",
    "disp = ConfusionMatrixDisplay(confusion_matrix=cm,\n",
    "                              display_labels=random_search.classes_)\n",
    "disp.plot()\n",
    "\n",
    "plt.show()\n",
    "print(metrics.classification_report(test_set['label'], predicted_nb,\n",
    "    target_names=random_search.classes_))"
   ]
  },
  {
   "cell_type": "markdown",
   "id": "1d8dbe93",
   "metadata": {},
   "source": [
    "# Drugs"
   ]
  },
  {
   "cell_type": "markdown",
   "id": "1c7edb90",
   "metadata": {},
   "source": [
    "## Experiment 1"
   ]
  },
  {
   "cell_type": "code",
   "execution_count": null,
   "id": "850b4031",
   "metadata": {},
   "outputs": [],
   "source": [
    "drugs_corpus = Corpus[[\"text\", \"Drugs\"]].rename(columns={\"Drugs\":\"label\"})"
   ]
  },
  {
   "cell_type": "code",
   "execution_count": null,
   "id": "781ca55f",
   "metadata": {},
   "outputs": [],
   "source": [
    "drugs_corpus"
   ]
  },
  {
   "cell_type": "code",
   "execution_count": null,
   "id": "b9f05b3d",
   "metadata": {},
   "outputs": [],
   "source": [
    "drugs_corpus['text'] = drugs_corpus['text'].str.replace('\\t',' ')\n",
    "drugs_corpus.drop_duplicates(inplace=True)\n",
    "drugs_corpus['text'] = drugs_corpus['text'].astype(str)"
   ]
  },
  {
   "cell_type": "code",
   "execution_count": null,
   "id": "f644180b",
   "metadata": {},
   "outputs": [],
   "source": [
    "stemmer = SnowballStemmer(\"dutch\")\n",
    "drugs_corpus['text'] = drugs_corpus['text'].str.lower()\n",
    "drugs_corpus['text'] = [stemmer.stem(text) for text in drugs_corpus['text']]\n",
    "drugs_corpus = drugs_corpus.drop(drugs_corpus[drugs_corpus.label == '--'].index)\n",
    "drugs_corpus_backup = drugs_corpus.copy()"
   ]
  },
  {
   "cell_type": "code",
   "execution_count": null,
   "id": "50615714",
   "metadata": {},
   "outputs": [],
   "source": [
    "test_set = drugs_corpus.loc[indices['index']]\n",
    "train_set = drugs_corpus.loc[~drugs_corpus.index.isin(test_set.index)]"
   ]
  },
  {
   "cell_type": "code",
   "execution_count": null,
   "id": "dfe31bb9",
   "metadata": {},
   "outputs": [],
   "source": [
    "parameter_grid = {'clf__loss':              ['hinge', 'log_loss', 'log', 'modified_huber', 'squared_hinge', 'perceptron', 'squared_error', 'huber', 'epsilon_insensitive', 'squared_epsilon_insensitive'],\n",
    "                  'clf__penalty':           ['l2', 'l1'],\n",
    "                  'clf__l1_ratio':          sp_randFloat(),\n",
    "                  'clf__fit_intercept':     [True, False],\n",
    "                  'clf__max_iter':          [int(x) for x in np.linspace(start = 10, stop = 100, num = 10)],\n",
    "                  'clf__tol':               sp_randFloat(),\n",
    "                  'clf__shuffle':           [True, False],\n",
    "                  'clf__epsilon':           sp_randFloat(),\n",
    "                  'clf__learning_rate':     ['constant', 'optimal', 'invscaling', 'adaptive'],\n",
    "                  'clf__eta0':              sp_randFloat(),\n",
    "                  'clf__power_t':           sp_randFloat(),\n",
    "                  'clf__class_weight':      ['balanced', None],\n",
    "                  'clf__warm_start':        [True, False],\n",
    "                  'clf__average':           [True, False],\n",
    "                  'tfidf__max_df':          [0.90, 0.95],\n",
    "                  'tfidf__min_df':          [3, 5]\n",
    "                 }"
   ]
  },
  {
   "cell_type": "code",
   "execution_count": null,
   "id": "9bb5bd9a",
   "metadata": {},
   "outputs": [],
   "source": [
    "# Ngram 2 Stopwords kept\n",
    "pipeline = Pipeline([\n",
    "    ('tfidf', TfidfVectorizer(ngram_range=(1,2), lowercase=True, token_pattern=r\"(?u)\\b\\w\\w+\\b|\\+|\\-\")),\n",
    "    ('clf', SGDClassifier(early_stopping=True, n_iter_no_change=5, validation_fraction = 0.25, verbose=3)),\n",
    "])\n",
    "random_search = RandomizedSearchCV(estimator=pipeline, param_distributions=parameter_grid, random_state=500, verbose=3, scoring='f1_macro')\n",
    "random_search.fit(train_set['text'], train_set['label'])  \n",
    "predicted_nb = random_search.predict(test_set['text'])\n",
    "print(np.mean(predicted_nb == test_set['label']))\n",
    "cm = confusion_matrix(test_set['label'], predicted_nb)\n",
    "disp = ConfusionMatrixDisplay(confusion_matrix=cm,\n",
    "                              display_labels=random_search.classes_)\n",
    "disp.plot()\n",
    "\n",
    "plt.show()\n",
    "print(metrics.classification_report(test_set['label'], predicted_nb,\n",
    "    target_names=random_search.classes_))"
   ]
  },
  {
   "cell_type": "markdown",
   "id": "886b30f2",
   "metadata": {},
   "source": [
    "## Experiment 2"
   ]
  },
  {
   "cell_type": "code",
   "execution_count": null,
   "id": "77c44062",
   "metadata": {},
   "outputs": [],
   "source": [
    "drugs_corpus = drugs_corpus_backup.copy()\n",
    "stemmer = SnowballStemmer(\"dutch\")\n",
    "drugs_corpus['text'] = drugs_corpus['text'].str.lower()\n",
    "drugs_corpus['text'] = [stemmer.stem(text) for text in drugs_corpus['text']]\n",
    "drugs_corpus['label'] = drugs_corpus['label'].str.replace('Niets gevonden','Geen gebruiker')\n",
    "drugs_corpus['label'] = drugs_corpus['label'].str.replace('Voormalige gebruiker','Geen gebruiker')\n",
    "drugs_corpus = drugs_corpus.drop(drugs_corpus[drugs_corpus.label == '--'].index)\n",
    "drugs_corpus = drugs_corpus.drop(drugs_corpus[drugs_corpus.label == 'Onbekend'].index)\n",
    "drugs_corpus_backup = drugs_corpus.copy()"
   ]
  },
  {
   "cell_type": "code",
   "execution_count": null,
   "id": "aeb1ae85",
   "metadata": {},
   "outputs": [],
   "source": [
    "X_train, X_test, y_train, y_test = train_test_split(drugs_corpus['text'], drugs_corpus['label'], test_size=0.4, random_state=50, stratify=drugs_corpus['label'])"
   ]
  },
  {
   "cell_type": "code",
   "execution_count": null,
   "id": "c168eeb9",
   "metadata": {},
   "outputs": [],
   "source": [
    "parameter_grid = {'clf__loss':              ['hinge', 'log_loss', 'log', 'modified_huber', 'squared_hinge', 'perceptron', 'squared_error', 'huber', 'epsilon_insensitive', 'squared_epsilon_insensitive'],\n",
    "                  'clf__penalty':           ['l2', 'l1'],\n",
    "                  'clf__l1_ratio':          sp_randFloat(),\n",
    "                  'clf__fit_intercept':     [True, False],\n",
    "                  'clf__max_iter':          [int(x) for x in np.linspace(start = 10, stop = 100, num = 10)],\n",
    "                  'clf__tol':               sp_randFloat(),\n",
    "                  'clf__shuffle':           [True, False],\n",
    "                  'clf__epsilon':           sp_randFloat(),\n",
    "                  'clf__learning_rate':     ['constant', 'optimal', 'invscaling', 'adaptive'],\n",
    "                  'clf__eta0':              sp_randFloat(),\n",
    "                  'clf__power_t':           sp_randFloat(),\n",
    "                  'clf__class_weight':      ['balanced', None],\n",
    "                  'clf__warm_start':        [True, False],\n",
    "                  'clf__average':           [True, False],\n",
    "                  'tfidf__max_df':          [0.90, 0.95],\n",
    "                  'tfidf__min_df':          [3, 5]\n",
    "                 }"
   ]
  },
  {
   "cell_type": "code",
   "execution_count": null,
   "id": "3f60be00",
   "metadata": {},
   "outputs": [],
   "source": [
    "# Ngram 2 Stopwords kept\n",
    "pipeline = Pipeline([\n",
    "    ('tfidf', TfidfVectorizer(ngram_range=(1,2), lowercase=True, token_pattern=r\"(?u)\\b\\w\\w+\\b|\\+|\\-\")),\n",
    "    ('clf', SGDClassifier(early_stopping=True, n_iter_no_change=5, validation_fraction = 0.25, verbose=3)),\n",
    "])\n",
    "random_search = RandomizedSearchCV(estimator=pipeline, param_distributions=parameter_grid, random_state=500, verbose=3, scoring='f1_macro')\n",
    "random_search.fit(X_train, y_train)  \n",
    "predicted_nb = random_search.predict(X_test)\n",
    "print(np.mean(predicted_nb == y_test))\n",
    "cm = confusion_matrix(y_test, predicted_nb)\n",
    "disp = ConfusionMatrixDisplay(confusion_matrix=cm,\n",
    "                              display_labels=random_search.classes_)\n",
    "disp.plot()\n",
    "\n",
    "plt.show()\n",
    "print(metrics.classification_report(y_test, predicted_nb,\n",
    "    target_names=random_search.classes_))"
   ]
  },
  {
   "cell_type": "code",
   "execution_count": null,
   "id": "03d06b68",
   "metadata": {},
   "outputs": [],
   "source": []
  }
 ],
 "metadata": {
  "kernelspec": {
   "display_name": "Python (thesis_hielke)",
   "language": "python",
   "name": "thesis_hielke"
  },
  "language_info": {
   "codemirror_mode": {
    "name": "ipython",
    "version": 3
   },
   "file_extension": ".py",
   "mimetype": "text/x-python",
   "name": "python",
   "nbconvert_exporter": "python",
   "pygments_lexer": "ipython3",
   "version": "3.9.16"
  }
 },
 "nbformat": 4,
 "nbformat_minor": 5
}
