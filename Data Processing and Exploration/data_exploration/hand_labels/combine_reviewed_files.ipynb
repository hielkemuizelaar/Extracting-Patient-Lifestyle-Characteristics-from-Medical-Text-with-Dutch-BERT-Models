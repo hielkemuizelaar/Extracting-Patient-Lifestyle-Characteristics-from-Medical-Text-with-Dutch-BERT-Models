{
 "cells": [
  {
   "cell_type": "code",
   "execution_count": null,
   "id": "404f0da3",
   "metadata": {},
   "outputs": [],
   "source": [
    "import sklearn\n",
    "import pandas as pd\n",
    "import numpy as np\n",
    "import nltk\n",
    "import sklearn\n",
    "from nltk.tokenize import word_tokenize\n",
    "from nltk import pos_tag\n",
    "from nltk.corpus import stopwords\n",
    "from nltk.stem import WordNetLemmatizer\n",
    "from sklearn.preprocessing import LabelEncoder\n",
    "from collections import defaultdict\n",
    "from nltk.corpus import wordnet as wn\n",
    "from sklearn.feature_extraction.text import TfidfVectorizer\n",
    "from sklearn import model_selection, naive_bayes, svm\n",
    "from sklearn.metrics import accuracy_score\n",
    "import matplotlib\n",
    "from sklearn.model_selection import cross_val_score\n",
    "from scipy.stats import uniform as sp_randFloat\n",
    "from scipy.stats import randint as sp_randInt\n",
    "from sklearn.model_selection import train_test_split\n",
    "import re\n",
    "from nltk.stem import PorterStemmer\n",
    "from nltk.stem.snowball import SnowballStemmer\n",
    "from sklearn.metrics import confusion_matrix, ConfusionMatrixDisplay\n",
    "import matplotlib.pyplot as plt\n",
    "from sklearn.feature_extraction.text import CountVectorizer\n",
    "from sklearn.feature_extraction.text import TfidfTransformer\n",
    "from sklearn.naive_bayes import MultinomialNB\n",
    "from sklearn.pipeline import Pipeline\n",
    "from sklearn import metrics\n",
    "from sklearn.model_selection import RandomizedSearchCV\n",
    "from sklearn.ensemble import RandomForestClassifier\n",
    "from sklearn.linear_model import SGDClassifier\n",
    "import pickle\n",
    "from wordcloud import WordCloud"
   ]
  },
  {
   "cell_type": "code",
   "execution_count": null,
   "id": "427e56ae",
   "metadata": {},
   "outputs": [],
   "source": [
    "first_review_df = pd.read_excel('../../../datasafe/2031/full_hand_labelling_output_Apr_25_2023/full_reviewed_data/full_texts_to_label_Eva_export.xlsx')"
   ]
  },
  {
   "cell_type": "code",
   "execution_count": null,
   "id": "98767d3c",
   "metadata": {},
   "outputs": [],
   "source": [
    "first_review_df.drop(['label_id'], axis=1)"
   ]
  },
  {
   "cell_type": "code",
   "execution_count": null,
   "id": "13cb998a",
   "metadata": {},
   "outputs": [],
   "source": [
    "second_review_df = pd.read_excel('../../../datasafe/2031/full_hand_labelling_output_Apr_25_2023/full_reviewed_data/full_texts_to_label_random1_export.xlsx')"
   ]
  },
  {
   "cell_type": "code",
   "execution_count": null,
   "id": "538f5a7a",
   "metadata": {},
   "outputs": [],
   "source": [
    "third_review_df = pd.read_excel('../../../datasafe/2031/full_hand_labelling_output_Apr_25_2023/full_reviewed_data/full_texts_to_label_random2_export.xlsx')"
   ]
  },
  {
   "cell_type": "code",
   "execution_count": null,
   "id": "30bdf236",
   "metadata": {},
   "outputs": [],
   "source": [
    "fourth_review_df = pd.read_excel('../../../datasafe/2031/full_hand_labelling_output_Apr_25_2023/full_reviewed_data/full_texts_to_label_random3_export.xlsx')"
   ]
  },
  {
   "cell_type": "code",
   "execution_count": null,
   "id": "002ad2d0",
   "metadata": {},
   "outputs": [],
   "source": [
    "fifth_review_df = pd.read_excel('../../../datasafe/2031/full_hand_labelling_output_Apr_25_2023/full_reviewed_data/full_texts_to_label_Sietse_export.xlsx')"
   ]
  },
  {
   "cell_type": "code",
   "execution_count": null,
   "id": "6b966428",
   "metadata": {},
   "outputs": [],
   "source": [
    "sixth_review_df = pd.read_excel('../../../datasafe/2031/full_hand_labelling_output_Apr_25_2023/full_reviewed_data/full_texts_to_label_top_Hielke_export.xlsx')"
   ]
  },
  {
   "cell_type": "code",
   "execution_count": null,
   "id": "3fe36e3b",
   "metadata": {},
   "outputs": [],
   "source": [
    "seventh_review_df = pd.read_excel('../../../datasafe/2031/full_hand_labelling_output_Apr_25_2023/full_reviewed_data/full_texts_to_label_full_previous_Hielke_export.xlsx')"
   ]
  },
  {
   "cell_type": "code",
   "execution_count": null,
   "id": "eae990ef",
   "metadata": {},
   "outputs": [],
   "source": [
    "fifth_review_df"
   ]
  },
  {
   "cell_type": "code",
   "execution_count": null,
   "id": "279d68e0",
   "metadata": {},
   "outputs": [],
   "source": [
    "full_reviewed_data = pd.concat([first_review_df, second_review_df, \n",
    "                                third_review_df, fourth_review_df,\n",
    "                               fifth_review_df, sixth_review_df, seventh_review_df])"
   ]
  },
  {
   "cell_type": "code",
   "execution_count": null,
   "id": "eee562f6",
   "metadata": {},
   "outputs": [],
   "source": [
    "full_reviewed_data_drop = full_reviewed_data.drop(['original_id', 'text_id'], axis=1)"
   ]
  },
  {
   "cell_type": "code",
   "execution_count": null,
   "id": "f382997f",
   "metadata": {},
   "outputs": [],
   "source": [
    "full_reviewed_data_drop"
   ]
  },
  {
   "cell_type": "code",
   "execution_count": null,
   "id": "5f7c0c36",
   "metadata": {},
   "outputs": [],
   "source": [
    "full_reviewed_data_drop.to_csv('../../input_data/full_datasets/fully_hand_labelled_texts.csv')"
   ]
  },
  {
   "cell_type": "code",
   "execution_count": null,
   "id": "3ec95dd4",
   "metadata": {},
   "outputs": [],
   "source": []
  }
 ],
 "metadata": {
  "kernelspec": {
   "display_name": "Python (thesis_hielke)",
   "language": "python",
   "name": "thesis_hielke"
  },
  "language_info": {
   "codemirror_mode": {
    "name": "ipython",
    "version": 3
   },
   "file_extension": ".py",
   "mimetype": "text/x-python",
   "name": "python",
   "nbconvert_exporter": "python",
   "pygments_lexer": "ipython3",
   "version": "3.9.16"
  }
 },
 "nbformat": 4,
 "nbformat_minor": 5
}
