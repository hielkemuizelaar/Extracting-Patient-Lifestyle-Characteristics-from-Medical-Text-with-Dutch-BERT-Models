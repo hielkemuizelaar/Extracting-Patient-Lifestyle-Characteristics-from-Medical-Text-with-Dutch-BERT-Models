{
 "cells": [
  {
   "cell_type": "code",
   "execution_count": null,
   "id": "79dd4771",
   "metadata": {},
   "outputs": [],
   "source": [
    "import sklearn\n",
    "import pandas as pd\n",
    "import numpy as np\n",
    "import nltk\n",
    "import sklearn\n",
    "from nltk.tokenize import word_tokenize\n",
    "from nltk import pos_tag\n",
    "from nltk.corpus import stopwords\n",
    "from nltk.stem import WordNetLemmatizer\n",
    "from sklearn.preprocessing import LabelEncoder\n",
    "from collections import defaultdict\n",
    "from nltk.corpus import wordnet as wn\n",
    "from sklearn.feature_extraction.text import TfidfVectorizer\n",
    "from sklearn import model_selection, naive_bayes, svm\n",
    "from sklearn.metrics import accuracy_score\n",
    "import matplotlib\n",
    "from sklearn.model_selection import cross_val_score\n",
    "from scipy.stats import uniform as sp_randFloat\n",
    "from scipy.stats import randint as sp_randInt\n",
    "from sklearn.model_selection import train_test_split\n",
    "import re\n",
    "from nltk.stem import PorterStemmer\n",
    "from nltk.stem.snowball import SnowballStemmer\n",
    "from sklearn.metrics import confusion_matrix, ConfusionMatrixDisplay\n",
    "import matplotlib.pyplot as plt\n",
    "from sklearn.feature_extraction.text import CountVectorizer\n",
    "from sklearn.feature_extraction.text import TfidfTransformer\n",
    "from sklearn.naive_bayes import MultinomialNB\n",
    "from sklearn.pipeline import Pipeline\n",
    "from sklearn import metrics\n",
    "from sklearn.model_selection import RandomizedSearchCV\n",
    "from sklearn.ensemble import RandomForestClassifier\n",
    "from sklearn.linear_model import SGDClassifier\n",
    "import pickle\n",
    "from wordcloud import WordCloud"
   ]
  },
  {
   "cell_type": "code",
   "execution_count": null,
   "id": "85c4ce2c",
   "metadata": {},
   "outputs": [],
   "source": [
    "full_reviewed_data_drop = pd.read_csv('../../input_data/full_datasets/fully_hand_labelled_texts.csv')\n",
    "indices = pd.read_csv('medrobertanl-haga_smoking_predictions.csv', delimiter=';')"
   ]
  },
  {
   "cell_type": "code",
   "execution_count": null,
   "id": "ba2a6d3b",
   "metadata": {},
   "outputs": [],
   "source": [
    "test_set = full_reviewed_data_drop.loc[indices['index']]"
   ]
  },
  {
   "cell_type": "code",
   "execution_count": null,
   "id": "53648091",
   "metadata": {},
   "outputs": [],
   "source": [
    "test_set_check = test_set[['text', 'Roken']]"
   ]
  },
  {
   "cell_type": "code",
   "execution_count": null,
   "id": "d3cf148d",
   "metadata": {},
   "outputs": [],
   "source": [
    "test_set.text = test_set.text.str.replace(\"_x000D_\\n\", \"\\t\")\n"
   ]
  },
  {
   "cell_type": "code",
   "execution_count": null,
   "id": "369650e3",
   "metadata": {},
   "outputs": [],
   "source": [
    "test_set_check['Roken'] = test_set_check['Roken'].str.replace('Geen gebruiker', 'Voormalige gebruiker')"
   ]
  },
  {
   "cell_type": "code",
   "execution_count": null,
   "id": "7883c463",
   "metadata": {},
   "outputs": [],
   "source": [
    "test_set_check = test_set_check[(test_set_check.Roken == 'Huidige gebruiker') | (test_set_check.Roken == 'Voormalige gebruiker')]"
   ]
  },
  {
   "cell_type": "code",
   "execution_count": null,
   "id": "c9073052",
   "metadata": {},
   "outputs": [],
   "source": [
    "test_set_check"
   ]
  },
  {
   "cell_type": "code",
   "execution_count": null,
   "id": "dc868889",
   "metadata": {},
   "outputs": [],
   "source": [
    "def apply_string_matching(row):\n",
    "    text = row['text'].lower()\n",
    "    if \"roken+\" in text or \"roken +\" in text:\n",
    "        return 'Huidige gebruiker'\n",
    "    if 'door' in text and 'stoppen' in text:\n",
    "        return 'Voormalige gebruiker'\n",
    "    if 'gevolg' in text and 'stoppen' in text:\n",
    "        return 'Voormalige gebruiker'\n",
    "    if ('gestopt' in text or 'gestaakt' in text) and not ('niet' in text or 'was' in text):\n",
    "        return 'Voormalige gebruiker'\n",
    "    if 'tot' in text and 'jaar' in text:\n",
    "        return 'Voormalige gebruiker'\n",
    "    if 'roken-' in text or 'roken -' in text:\n",
    "        return 'Voormalige gebruiker'\n",
    "    if 'stoppen' in text or 'staken' in text or 'verminderen' in text or 'persisterend' in text:\n",
    "        return 'Huidige gebruiker'\n",
    "    if 'per dag' in text or 'packyears' in text or \"/dag\" in text or \"pakje\" in text or \"pack\" in text:\n",
    "        return \"Huidige gebruiker\"\n",
    "    if 'pd' in text or \"py\" in text:\n",
    "        return 'Huidige gebruiker'\n",
    "\n",
    "test_set_check['Prediction'] = test_set_check.apply(lambda row: apply_string_matching(row), axis=1)"
   ]
  },
  {
   "cell_type": "code",
   "execution_count": null,
   "id": "0fdf8527",
   "metadata": {},
   "outputs": [],
   "source": [
    "test_set_check_no_na = test_set_check.dropna()\n",
    "test_set_check_no_na"
   ]
  },
  {
   "cell_type": "code",
   "execution_count": null,
   "id": "a85e5f79",
   "metadata": {},
   "outputs": [],
   "source": [
    "print(np.mean(test_set_check_no_na['Prediction'] == test_set_check_no_na['Roken']))\n",
    "cm = confusion_matrix(test_set_check_no_na['Roken'], test_set_check_no_na['Prediction'])\n",
    "disp = ConfusionMatrixDisplay(confusion_matrix=cm)\n",
    "disp.plot()\n",
    "\n",
    "plt.show()\n",
    "print(metrics.classification_report(test_set_check_no_na['Roken'], test_set_check_no_na['Prediction']))"
   ]
  },
  {
   "cell_type": "code",
   "execution_count": null,
   "id": "e2ad4660",
   "metadata": {},
   "outputs": [],
   "source": []
  }
 ],
 "metadata": {
  "kernelspec": {
   "display_name": "Python (thesis_hielke)",
   "language": "python",
   "name": "thesis_hielke"
  },
  "language_info": {
   "codemirror_mode": {
    "name": "ipython",
    "version": 3
   },
   "file_extension": ".py",
   "mimetype": "text/x-python",
   "name": "python",
   "nbconvert_exporter": "python",
   "pygments_lexer": "ipython3",
   "version": "3.9.16"
  }
 },
 "nbformat": 4,
 "nbformat_minor": 5
}
