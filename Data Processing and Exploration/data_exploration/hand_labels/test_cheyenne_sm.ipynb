{
 "cells": [
  {
   "cell_type": "code",
   "execution_count": 1,
   "id": "79dd4771",
   "metadata": {},
   "outputs": [],
   "source": [
    "import sklearn\n",
    "import pandas as pd\n",
    "import numpy as np\n",
    "import nltk\n",
    "import sklearn\n",
    "from nltk.tokenize import word_tokenize\n",
    "from nltk import pos_tag\n",
    "from nltk.corpus import stopwords\n",
    "from nltk.stem import WordNetLemmatizer\n",
    "from sklearn.preprocessing import LabelEncoder\n",
    "from collections import defaultdict\n",
    "from nltk.corpus import wordnet as wn\n",
    "from sklearn.feature_extraction.text import TfidfVectorizer\n",
    "from sklearn import model_selection, naive_bayes, svm\n",
    "from sklearn.metrics import accuracy_score\n",
    "import matplotlib\n",
    "from sklearn.model_selection import cross_val_score\n",
    "from scipy.stats import uniform as sp_randFloat\n",
    "from scipy.stats import randint as sp_randInt\n",
    "from sklearn.model_selection import train_test_split\n",
    "import re\n",
    "from nltk.stem import PorterStemmer\n",
    "from nltk.stem.snowball import SnowballStemmer\n",
    "from sklearn.metrics import confusion_matrix, ConfusionMatrixDisplay\n",
    "import matplotlib.pyplot as plt\n",
    "from sklearn.feature_extraction.text import CountVectorizer\n",
    "from sklearn.feature_extraction.text import TfidfTransformer\n",
    "from sklearn.naive_bayes import MultinomialNB\n",
    "from sklearn.pipeline import Pipeline\n",
    "from sklearn import metrics\n",
    "from sklearn.model_selection import RandomizedSearchCV\n",
    "from sklearn.ensemble import RandomForestClassifier\n",
    "from sklearn.linear_model import SGDClassifier\n",
    "import pickle\n",
    "from wordcloud import WordCloud"
   ]
  },
  {
   "cell_type": "code",
   "execution_count": 2,
   "id": "85c4ce2c",
   "metadata": {},
   "outputs": [],
   "source": [
    "full_reviewed_data_drop = pd.read_csv('../../input_data/full_datasets/fully_hand_labelled_texts.csv')\n",
    "indices = pd.read_csv('medrobertanl-haga_smoking_predictions.csv', delimiter=';')"
   ]
  },
  {
   "cell_type": "code",
   "execution_count": 3,
   "id": "ba2a6d3b",
   "metadata": {},
   "outputs": [],
   "source": [
    "test_set = full_reviewed_data_drop.loc[indices['index']]"
   ]
  },
  {
   "cell_type": "code",
   "execution_count": 6,
   "id": "53648091",
   "metadata": {},
   "outputs": [],
   "source": [
    "test_set_check = test_set[['text', 'Roken']]"
   ]
  },
  {
   "cell_type": "code",
   "execution_count": 4,
   "id": "d3cf148d",
   "metadata": {},
   "outputs": [],
   "source": [
    "test_set.text = test_set.text.str.replace(\"_x000D_\\n\", \"\\t\")\n"
   ]
  },
  {
   "cell_type": "code",
   "execution_count": 7,
   "id": "369650e3",
   "metadata": {},
   "outputs": [
    {
     "name": "stderr",
     "output_type": "stream",
     "text": [
      "<ipython-input-7-8f60690a6cf2>:1: SettingWithCopyWarning: \n",
      "A value is trying to be set on a copy of a slice from a DataFrame.\n",
      "Try using .loc[row_indexer,col_indexer] = value instead\n",
      "\n",
      "See the caveats in the documentation: https://pandas.pydata.org/pandas-docs/stable/user_guide/indexing.html#returning-a-view-versus-a-copy\n",
      "  test_set_check['Roken'] = test_set_check['Roken'].str.replace('Geen gebruiker', 'Voormalige gebruiker')\n"
     ]
    }
   ],
   "source": [
    "test_set_check['Roken'] = test_set_check['Roken'].str.replace('Geen gebruiker', 'Voormalige gebruiker')"
   ]
  },
  {
   "cell_type": "code",
   "execution_count": 9,
   "id": "7883c463",
   "metadata": {},
   "outputs": [],
   "source": [
    "test_set_check = test_set_check[(test_set_check.Roken == 'Huidige gebruiker') | (test_set_check.Roken == 'Voormalige gebruiker')]"
   ]
  },
  {
   "cell_type": "code",
   "execution_count": 10,
   "id": "c9073052",
   "metadata": {},
   "outputs": [
    {
     "data": {
      "text/html": [
       "<div>\n",
       "<style scoped>\n",
       "    .dataframe tbody tr th:only-of-type {\n",
       "        vertical-align: middle;\n",
       "    }\n",
       "\n",
       "    .dataframe tbody tr th {\n",
       "        vertical-align: top;\n",
       "    }\n",
       "\n",
       "    .dataframe thead th {\n",
       "        text-align: right;\n",
       "    }\n",
       "</style>\n",
       "<table border=\"1\" class=\"dataframe\">\n",
       "  <thead>\n",
       "    <tr style=\"text-align: right;\">\n",
       "      <th></th>\n",
       "      <th>text</th>\n",
       "      <th>Roken</th>\n",
       "    </tr>\n",
       "  </thead>\n",
       "  <tbody>\n",
       "    <tr>\n",
       "      <th>48</th>\n",
       "      <td>Beloop: \\tBeloop: Reguliere controle na ACDF C...</td>\n",
       "      <td>Huidige gebruiker</td>\n",
       "    </tr>\n",
       "    <tr>\n",
       "      <th>57</th>\n",
       "      <td>Anamnese: \\t Verkort consult: Voorgeschiedenis...</td>\n",
       "      <td>Voormalige gebruiker</td>\n",
       "    </tr>\n",
       "    <tr>\n",
       "      <th>65</th>\n",
       "      <td>Anamnese: \\t Verkort consult: 1987 liesbreuk\\t...</td>\n",
       "      <td>Voormalige gebruiker</td>\n",
       "    </tr>\n",
       "    <tr>\n",
       "      <th>67</th>\n",
       "      <td>Anamnese: \\tIntoxicatiesDe patiÃ«nt rookte en ...</td>\n",
       "      <td>Voormalige gebruiker</td>\n",
       "    </tr>\n",
       "    <tr>\n",
       "      <th>71</th>\n",
       "      <td>Anamnese: \\t Verkort consult: Aandachtspunten ...</td>\n",
       "      <td>Voormalige gebruiker</td>\n",
       "    </tr>\n",
       "    <tr>\n",
       "      <th>...</th>\n",
       "      <td>...</td>\n",
       "      <td>...</td>\n",
       "    </tr>\n",
       "    <tr>\n",
       "      <th>4678</th>\n",
       "      <td>Samenvatting: \\tVoorgeschiedenis: in verleden ...</td>\n",
       "      <td>Voormalige gebruiker</td>\n",
       "    </tr>\n",
       "    <tr>\n",
       "      <th>4682</th>\n",
       "      <td>Anamnese: \\tNog steeds hielspoor links, heeft ...</td>\n",
       "      <td>Voormalige gebruiker</td>\n",
       "    </tr>\n",
       "    <tr>\n",
       "      <th>4688</th>\n",
       "      <td>Reden van komst / Verwijzing: \\tReden verwijzi...</td>\n",
       "      <td>Voormalige gebruiker</td>\n",
       "    </tr>\n",
       "    <tr>\n",
       "      <th>4691</th>\n",
       "      <td>Anamnese: \\t Verkort consult: Aandachtspunten ...</td>\n",
       "      <td>Huidige gebruiker</td>\n",
       "    </tr>\n",
       "    <tr>\n",
       "      <th>4699</th>\n",
       "      <td>Reden van komst / Verwijzing: \\tReden van koms...</td>\n",
       "      <td>Voormalige gebruiker</td>\n",
       "    </tr>\n",
       "  </tbody>\n",
       "</table>\n",
       "<p>329 rows × 2 columns</p>\n",
       "</div>"
      ],
      "text/plain": [
       "                                                   text                 Roken\n",
       "48    Beloop: \\tBeloop: Reguliere controle na ACDF C...     Huidige gebruiker\n",
       "57    Anamnese: \\t Verkort consult: Voorgeschiedenis...  Voormalige gebruiker\n",
       "65    Anamnese: \\t Verkort consult: 1987 liesbreuk\\t...  Voormalige gebruiker\n",
       "67    Anamnese: \\tIntoxicatiesDe patiÃ«nt rookte en ...  Voormalige gebruiker\n",
       "71    Anamnese: \\t Verkort consult: Aandachtspunten ...  Voormalige gebruiker\n",
       "...                                                 ...                   ...\n",
       "4678  Samenvatting: \\tVoorgeschiedenis: in verleden ...  Voormalige gebruiker\n",
       "4682  Anamnese: \\tNog steeds hielspoor links, heeft ...  Voormalige gebruiker\n",
       "4688  Reden van komst / Verwijzing: \\tReden verwijzi...  Voormalige gebruiker\n",
       "4691  Anamnese: \\t Verkort consult: Aandachtspunten ...     Huidige gebruiker\n",
       "4699  Reden van komst / Verwijzing: \\tReden van koms...  Voormalige gebruiker\n",
       "\n",
       "[329 rows x 2 columns]"
      ]
     },
     "execution_count": 10,
     "metadata": {},
     "output_type": "execute_result"
    }
   ],
   "source": [
    "test_set_check"
   ]
  },
  {
   "cell_type": "code",
   "execution_count": 12,
   "id": "dc868889",
   "metadata": {},
   "outputs": [
    {
     "name": "stderr",
     "output_type": "stream",
     "text": [
      "<ipython-input-12-5b98bc108d4e>:22: SettingWithCopyWarning: \n",
      "A value is trying to be set on a copy of a slice from a DataFrame.\n",
      "Try using .loc[row_indexer,col_indexer] = value instead\n",
      "\n",
      "See the caveats in the documentation: https://pandas.pydata.org/pandas-docs/stable/user_guide/indexing.html#returning-a-view-versus-a-copy\n",
      "  test_set_check['Prediction'] = test_set_check.apply(lambda row: apply_string_matching(row), axis=1)\n"
     ]
    }
   ],
   "source": [
    "def apply_string_matching(row):\n",
    "    text = row['text'].lower()\n",
    "    if \"roken+\" in text or \"roken +\" in text:\n",
    "        return 'Huidige gebruiker'\n",
    "    if 'door' in text and 'stoppen' in text:\n",
    "        return 'Voormalige gebruiker'\n",
    "    if 'gevolg' in text and 'stoppen' in text:\n",
    "        return 'Voormalige gebruiker'\n",
    "    if ('gestopt' in text or 'gestaakt' in text) and not ('niet' in text or 'was' in text):\n",
    "        return 'Voormalige gebruiker'\n",
    "    if 'tot' in text and 'jaar' in text:\n",
    "        return 'Voormalige gebruiker'\n",
    "    if 'roken-' in text or 'roken -' in text:\n",
    "        return 'Voormalige gebruiker'\n",
    "    if 'stoppen' in text or 'staken' in text or 'verminderen' in text or 'persisterend' in text:\n",
    "        return 'Huidige gebruiker'\n",
    "    if 'per dag' in text or 'packyears' in text or \"/dag\" in text or \"pakje\" in text or \"pack\" in text:\n",
    "        return \"Huidige gebruiker\"\n",
    "    if 'pd' in text or \"py\" in text:\n",
    "        return 'Huidige gebruiker'\n",
    "\n",
    "test_set_check['Prediction'] = test_set_check.apply(lambda row: apply_string_matching(row), axis=1)"
   ]
  },
  {
   "cell_type": "code",
   "execution_count": 15,
   "id": "0fdf8527",
   "metadata": {},
   "outputs": [
    {
     "data": {
      "text/html": [
       "<div>\n",
       "<style scoped>\n",
       "    .dataframe tbody tr th:only-of-type {\n",
       "        vertical-align: middle;\n",
       "    }\n",
       "\n",
       "    .dataframe tbody tr th {\n",
       "        vertical-align: top;\n",
       "    }\n",
       "\n",
       "    .dataframe thead th {\n",
       "        text-align: right;\n",
       "    }\n",
       "</style>\n",
       "<table border=\"1\" class=\"dataframe\">\n",
       "  <thead>\n",
       "    <tr style=\"text-align: right;\">\n",
       "      <th></th>\n",
       "      <th>text</th>\n",
       "      <th>Roken</th>\n",
       "      <th>Prediction</th>\n",
       "    </tr>\n",
       "  </thead>\n",
       "  <tbody>\n",
       "    <tr>\n",
       "      <th>48</th>\n",
       "      <td>Beloop: \\tBeloop: Reguliere controle na ACDF C...</td>\n",
       "      <td>Huidige gebruiker</td>\n",
       "      <td>Huidige gebruiker</td>\n",
       "    </tr>\n",
       "    <tr>\n",
       "      <th>57</th>\n",
       "      <td>Anamnese: \\t Verkort consult: Voorgeschiedenis...</td>\n",
       "      <td>Voormalige gebruiker</td>\n",
       "      <td>Huidige gebruiker</td>\n",
       "    </tr>\n",
       "    <tr>\n",
       "      <th>65</th>\n",
       "      <td>Anamnese: \\t Verkort consult: 1987 liesbreuk\\t...</td>\n",
       "      <td>Voormalige gebruiker</td>\n",
       "      <td>Voormalige gebruiker</td>\n",
       "    </tr>\n",
       "    <tr>\n",
       "      <th>67</th>\n",
       "      <td>Anamnese: \\tIntoxicatiesDe patiÃ«nt rookte en ...</td>\n",
       "      <td>Voormalige gebruiker</td>\n",
       "      <td>Voormalige gebruiker</td>\n",
       "    </tr>\n",
       "    <tr>\n",
       "      <th>71</th>\n",
       "      <td>Anamnese: \\t Verkort consult: Aandachtspunten ...</td>\n",
       "      <td>Voormalige gebruiker</td>\n",
       "      <td>Voormalige gebruiker</td>\n",
       "    </tr>\n",
       "    <tr>\n",
       "      <th>...</th>\n",
       "      <td>...</td>\n",
       "      <td>...</td>\n",
       "      <td>...</td>\n",
       "    </tr>\n",
       "    <tr>\n",
       "      <th>4676</th>\n",
       "      <td>Anamnese: \\t Vraagstelling: Aanvrager: Feitsma...</td>\n",
       "      <td>Voormalige gebruiker</td>\n",
       "      <td>Voormalige gebruiker</td>\n",
       "    </tr>\n",
       "    <tr>\n",
       "      <th>4682</th>\n",
       "      <td>Anamnese: \\tNog steeds hielspoor links, heeft ...</td>\n",
       "      <td>Voormalige gebruiker</td>\n",
       "      <td>Voormalige gebruiker</td>\n",
       "    </tr>\n",
       "    <tr>\n",
       "      <th>4688</th>\n",
       "      <td>Reden van komst / Verwijzing: \\tReden verwijzi...</td>\n",
       "      <td>Voormalige gebruiker</td>\n",
       "      <td>Voormalige gebruiker</td>\n",
       "    </tr>\n",
       "    <tr>\n",
       "      <th>4691</th>\n",
       "      <td>Anamnese: \\t Verkort consult: Aandachtspunten ...</td>\n",
       "      <td>Huidige gebruiker</td>\n",
       "      <td>Voormalige gebruiker</td>\n",
       "    </tr>\n",
       "    <tr>\n",
       "      <th>4699</th>\n",
       "      <td>Reden van komst / Verwijzing: \\tReden van koms...</td>\n",
       "      <td>Voormalige gebruiker</td>\n",
       "      <td>Voormalige gebruiker</td>\n",
       "    </tr>\n",
       "  </tbody>\n",
       "</table>\n",
       "<p>305 rows × 3 columns</p>\n",
       "</div>"
      ],
      "text/plain": [
       "                                                   text                 Roken  \\\n",
       "48    Beloop: \\tBeloop: Reguliere controle na ACDF C...     Huidige gebruiker   \n",
       "57    Anamnese: \\t Verkort consult: Voorgeschiedenis...  Voormalige gebruiker   \n",
       "65    Anamnese: \\t Verkort consult: 1987 liesbreuk\\t...  Voormalige gebruiker   \n",
       "67    Anamnese: \\tIntoxicatiesDe patiÃ«nt rookte en ...  Voormalige gebruiker   \n",
       "71    Anamnese: \\t Verkort consult: Aandachtspunten ...  Voormalige gebruiker   \n",
       "...                                                 ...                   ...   \n",
       "4676  Anamnese: \\t Vraagstelling: Aanvrager: Feitsma...  Voormalige gebruiker   \n",
       "4682  Anamnese: \\tNog steeds hielspoor links, heeft ...  Voormalige gebruiker   \n",
       "4688  Reden van komst / Verwijzing: \\tReden verwijzi...  Voormalige gebruiker   \n",
       "4691  Anamnese: \\t Verkort consult: Aandachtspunten ...     Huidige gebruiker   \n",
       "4699  Reden van komst / Verwijzing: \\tReden van koms...  Voormalige gebruiker   \n",
       "\n",
       "                Prediction  \n",
       "48       Huidige gebruiker  \n",
       "57       Huidige gebruiker  \n",
       "65    Voormalige gebruiker  \n",
       "67    Voormalige gebruiker  \n",
       "71    Voormalige gebruiker  \n",
       "...                    ...  \n",
       "4676  Voormalige gebruiker  \n",
       "4682  Voormalige gebruiker  \n",
       "4688  Voormalige gebruiker  \n",
       "4691  Voormalige gebruiker  \n",
       "4699  Voormalige gebruiker  \n",
       "\n",
       "[305 rows x 3 columns]"
      ]
     },
     "execution_count": 15,
     "metadata": {},
     "output_type": "execute_result"
    }
   ],
   "source": [
    "test_set_check_no_na = test_set_check.dropna()\n",
    "test_set_check_no_na"
   ]
  },
  {
   "cell_type": "code",
   "execution_count": 16,
   "id": "a85e5f79",
   "metadata": {},
   "outputs": [
    {
     "name": "stdout",
     "output_type": "stream",
     "text": [
      "0.7704918032786885\n"
     ]
    },
    {
     "data": {
      "image/png": "[encoded data removed]",
      "text/plain": [
       "<Figure size 432x288 with 2 Axes>"
      ]
     },
     "metadata": {
      "needs_background": "light"
     },
     "output_type": "display_data"
    },
    {
     "name": "stdout",
     "output_type": "stream",
     "text": [
      "                      precision    recall  f1-score   support\n",
      "\n",
      "   Huidige gebruiker       0.30      0.74      0.43        35\n",
      "Voormalige gebruiker       0.96      0.77      0.86       270\n",
      "\n",
      "            accuracy                           0.77       305\n",
      "           macro avg       0.63      0.76      0.64       305\n",
      "        weighted avg       0.88      0.77      0.81       305\n",
      "\n"
     ]
    }
   ],
   "source": [
    "print(np.mean(test_set_check_no_na['Prediction'] == test_set_check_no_na['Roken']))\n",
    "cm = confusion_matrix(test_set_check_no_na['Roken'], test_set_check_no_na['Prediction'])\n",
    "disp = ConfusionMatrixDisplay(confusion_matrix=cm)\n",
    "disp.plot()\n",
    "\n",
    "plt.show()\n",
    "print(metrics.classification_report(test_set_check_no_na['Roken'], test_set_check_no_na['Prediction']))"
   ]
  },
  {
   "cell_type": "code",
   "execution_count": null,
   "id": "e2ad4660",
   "metadata": {},
   "outputs": [],
   "source": []
  }
 ],
 "metadata": {
  "kernelspec": {
   "display_name": "Python (thesis_hielke)",
   "language": "python",
   "name": "thesis_hielke"
  },
  "language_info": {
   "codemirror_mode": {
    "name": "ipython",
    "version": 3
   },
   "file_extension": ".py",
   "mimetype": "text/x-python",
   "name": "python",
   "nbconvert_exporter": "python",
   "pygments_lexer": "ipython3",
   "version": "3.9.16"
  }
 },
 "nbformat": 4,
 "nbformat_minor": 5
}
