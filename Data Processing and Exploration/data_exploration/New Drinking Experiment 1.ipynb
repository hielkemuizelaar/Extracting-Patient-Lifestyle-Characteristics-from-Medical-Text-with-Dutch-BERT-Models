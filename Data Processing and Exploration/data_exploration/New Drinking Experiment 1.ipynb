{
 "cells": [
  {
   "cell_type": "code",
   "execution_count": null,
   "id": "61b949a9",
   "metadata": {},
   "outputs": [],
   "source": [
    "import sklearn\n",
    "import pandas as pd\n",
    "import numpy as np\n",
    "import nltk\n",
    "import random\n",
    "import sklearn\n",
    "from nltk.tokenize import word_tokenize\n",
    "from nltk import pos_tag\n",
    "from nltk.corpus import stopwords\n",
    "from nltk.stem import WordNetLemmatizer\n",
    "from sklearn.preprocessing import LabelEncoder\n",
    "from collections import defaultdict\n",
    "from nltk.corpus import wordnet as wn\n",
    "from sklearn.feature_extraction.text import TfidfVectorizer\n",
    "from sklearn import model_selection, naive_bayes, svm\n",
    "from sklearn.metrics import accuracy_score\n",
    "import matplotlib\n",
    "from sklearn.model_selection import cross_val_score\n",
    "from scipy.stats import uniform as sp_randFloat\n",
    "from scipy.stats import randint as sp_randInt\n",
    "from sklearn.model_selection import train_test_split\n",
    "import re\n",
    "from nltk.stem import PorterStemmer\n",
    "from nltk.stem.snowball import SnowballStemmer\n",
    "from sklearn.metrics import confusion_matrix, ConfusionMatrixDisplay\n",
    "import matplotlib.pyplot as plt\n",
    "from sklearn.feature_extraction.text import CountVectorizer\n",
    "from sklearn.feature_extraction.text import TfidfTransformer\n",
    "from sklearn.naive_bayes import MultinomialNB\n",
    "from sklearn.pipeline import Pipeline\n",
    "from sklearn import metrics\n",
    "from sklearn.model_selection import RandomizedSearchCV\n",
    "from sklearn.ensemble import RandomForestClassifier\n",
    "from sklearn.linear_model import SGDClassifier"
   ]
  },
  {
   "cell_type": "code",
   "execution_count": null,
   "id": "5e2e6c55",
   "metadata": {},
   "outputs": [],
   "source": [
    "np.random.seed(500)\n",
    "Corpus = pd.read_csv(r\"../input_data/drinking/labelled_drinking.csv\",encoding='latin-1', skiprows=[227225])\n",
    "Corpus = Corpus.rename({'alcohol_report_content':'text', 'alcohol_answer_label': 'label'}, axis=1)\n",
    "Corpus['text'] = Corpus['text'].str.replace('\\t',' ')\n",
    "Corpus.drop(['Unnamed: 0'], axis=1, inplace=True)\n",
    "Corpus.drop_duplicates(inplace=True)\n",
    "Corpus['text'] = Corpus['text'].astype(str)"
   ]
  },
  {
   "cell_type": "code",
   "execution_count": null,
   "id": "d3f9e271",
   "metadata": {},
   "outputs": [],
   "source": [
    "# Preprocessing\n",
    "stemmer = SnowballStemmer(\"dutch\")\n",
    "Corpus['text'] = Corpus['text'].str.lower()\n",
    "Corpus['text'] = [stemmer.stem(text) for text in Corpus['text']]\n",
    "#Corpus['label'] = Corpus['label'].str.replace('Niets gevonden','Nee')\n",
    "Corpus = Corpus.drop(Corpus[Corpus.label == 'Onbekend'].index)\n",
    "Corpus_backup = Corpus.copy()"
   ]
  },
  {
   "cell_type": "code",
   "execution_count": null,
   "id": "e7e1f549",
   "metadata": {},
   "outputs": [],
   "source": [
    "stopwords_filter = ['niet', 'niets', 'geen', 'zonder']\n",
    "with open('../helping_files/stopwords.txt') as file:\n",
    "    full_stopwords = [line.rstrip() for line in file]\n",
    "    filtered_stopwords = [item for item in full_stopwords if item not in stopwords_filter]"
   ]
  },
  {
   "cell_type": "code",
   "execution_count": null,
   "id": "c41a0ce6",
   "metadata": {},
   "outputs": [],
   "source": [
    "X_train, X_test, y_train, y_test = train_test_split(Corpus['text'], Corpus['label'], test_size=0.2, random_state=50)"
   ]
  },
  {
   "cell_type": "code",
   "execution_count": null,
   "id": "6f47b17a",
   "metadata": {},
   "outputs": [],
   "source": [
    "Corpus['label'].value_counts()"
   ]
  },
  {
   "cell_type": "markdown",
   "id": "3527e4be",
   "metadata": {},
   "source": [
    "# Multinomial Naive Bayes"
   ]
  },
  {
   "cell_type": "code",
   "execution_count": null,
   "id": "e3b796d3",
   "metadata": {},
   "outputs": [],
   "source": [
    "class_priors = [list(item) for item in list(np.random.dirichlet(np.ones(3), size=5))]\n",
    "parameter_grid = {\n",
    "                  'clf__alpha': [0.00001, 0.0001, 0.001, 0.01, 0.1, 1, 10, 100],\n",
    "                  'clf__fit_prior': [True, False],\n",
    "                  'clf__class_prior': random.sample(class_priors, k=len(class_priors)),\n",
    "                  'tfidf__max_df': [0.90, 0.95],\n",
    "                  'tfidf__min_df': [3, 5]\n",
    "                 }"
   ]
  },
  {
   "cell_type": "markdown",
   "id": "f13cbd9d",
   "metadata": {},
   "source": [
    "# Only negation stopwords kept"
   ]
  },
  {
   "cell_type": "code",
   "execution_count": null,
   "id": "536e1b87",
   "metadata": {},
   "outputs": [],
   "source": [
    "no_stopwords = lambda x: ' '.join([item for item in x.split() if item not in full_stopwords])\n",
    "less_stopwords = lambda x: ' '.join([item for item in x.split() if item not in filtered_stopwords])\n",
    "\n",
    "Corpus[\"text\"] = Corpus[\"text\"].apply(less_stopwords)\n",
    "X_train, X_test, y_train, y_test = train_test_split(Corpus['text'], Corpus['label'], test_size=0.2, random_state=50)"
   ]
  },
  {
   "cell_type": "code",
   "execution_count": null,
   "id": "c705623b",
   "metadata": {
    "scrolled": true
   },
   "outputs": [],
   "source": [
    "# Ngram 1 Less stopwords\n",
    "pipeline = Pipeline([\n",
    "    ('tfidf', TfidfVectorizer(ngram_range=(1,1), lowercase=True, token_pattern=r\"(?u)\\b\\w\\w+\\b|\\+|\\-\")),\n",
    "    ('clf', MultinomialNB()),\n",
    "])\n",
    "random_search = RandomizedSearchCV(estimator=pipeline, param_distributions=parameter_grid, random_state=500, verbose=3, scoring='f1_macro')\n",
    "random_search.fit(X_train, y_train)  \n",
    "predicted_nb = random_search.predict(X_test)\n",
    "print(np.mean(predicted_nb == y_test))\n",
    "cm = confusion_matrix(y_test, predicted_nb)\n",
    "disp = ConfusionMatrixDisplay(confusion_matrix=cm,\n",
    "                              display_labels=random_search.classes_)\n",
    "disp.plot()\n",
    "\n",
    "plt.show()\n",
    "print(metrics.classification_report(y_test, predicted_nb,\n",
    "    target_names=random_search.classes_))"
   ]
  },
  {
   "cell_type": "markdown",
   "id": "1f4a012d",
   "metadata": {},
   "source": [
    "# Stochastic Gradient Descent"
   ]
  },
  {
   "cell_type": "code",
   "execution_count": null,
   "id": "b5339d7c",
   "metadata": {},
   "outputs": [],
   "source": [
    "# RESET CORPUS\n",
    "Corpus = Corpus_backup.copy()\n",
    "X_train, X_test, y_train, y_test = train_test_split(Corpus['text'], Corpus['label'], test_size=0.2, random_state=50)"
   ]
  },
  {
   "cell_type": "code",
   "execution_count": null,
   "id": "069f6ced",
   "metadata": {},
   "outputs": [],
   "source": [
    "parameter_grid = {'clf__loss':              ['hinge', 'log_loss', 'log', 'modified_huber', 'squared_hinge', 'perceptron', 'squared_error', 'huber', 'epsilon_insensitive', 'squared_epsilon_insensitive'],\n",
    "                  'clf__penalty':           ['l2', 'l1'],\n",
    "                  'clf__l1_ratio':          sp_randFloat(),\n",
    "                  'clf__fit_intercept':     [True, False],\n",
    "                  'clf__max_iter':          [int(x) for x in np.linspace(start = 10, stop = 100, num = 10)],\n",
    "                  'clf__tol':               sp_randFloat(),\n",
    "                  'clf__shuffle':           [True, False],\n",
    "                  'clf__epsilon':           sp_randFloat(),\n",
    "                  'clf__learning_rate':     ['constant', 'optimal', 'invscaling', 'adaptive'],\n",
    "                  'clf__eta0':              sp_randFloat(),\n",
    "                  'clf__power_t':           sp_randFloat(),\n",
    "                  'clf__class_weight':      ['balanced', None],\n",
    "                  'clf__warm_start':        [True, False],\n",
    "                  'clf__average':           [True, False],\n",
    "                  'tfidf__max_df':          [0.90, 0.95],\n",
    "                  'tfidf__min_df':          [3, 5]\n",
    "                 }"
   ]
  },
  {
   "cell_type": "markdown",
   "id": "d5955c7a",
   "metadata": {},
   "source": [
    "# Stopwords kept"
   ]
  },
  {
   "cell_type": "code",
   "execution_count": null,
   "id": "d1efa878",
   "metadata": {},
   "outputs": [],
   "source": [
    "# Ngram 2 Stopwords kept\n",
    "pipeline = Pipeline([\n",
    "    ('tfidf', TfidfVectorizer(ngram_range=(1,2), lowercase=True, token_pattern=r\"(?u)\\b\\w\\w+\\b|\\+|\\-\")),\n",
    "    ('clf', SGDClassifier(early_stopping=True, n_iter_no_change=5, validation_fraction = 0.25, verbose=3)),\n",
    "])\n",
    "random_search = RandomizedSearchCV(estimator=pipeline, param_distributions=parameter_grid, random_state=500, verbose=3, scoring='f1_macro')\n",
    "random_search.fit(X_train, y_train)  \n",
    "predicted_nb = random_search.predict(X_test)\n",
    "print(np.mean(predicted_nb == y_test))\n",
    "cm = confusion_matrix(y_test, predicted_nb)\n",
    "disp = ConfusionMatrixDisplay(confusion_matrix=cm,\n",
    "                              display_labels=random_search.classes_)\n",
    "disp.plot()\n",
    "\n",
    "plt.show()\n",
    "print(metrics.classification_report(y_test, predicted_nb,\n",
    "    target_names=random_search.classes_))"
   ]
  },
  {
   "cell_type": "code",
   "execution_count": null,
   "id": "e1d3d3c2",
   "metadata": {},
   "outputs": [],
   "source": [
    "# Ngram 3 Stopwords kept\n",
    "pipeline = Pipeline([\n",
    "    ('tfidf', TfidfVectorizer(ngram_range=(1,3), lowercase=True, token_pattern=r\"(?u)\\b\\w\\w+\\b|\\+|\\-\")),\n",
    "    ('clf', SGDClassifier(early_stopping=True, n_iter_no_change=5, validation_fraction = 0.25, verbose=3)),\n",
    "])\n",
    "random_search = RandomizedSearchCV(estimator=pipeline, param_distributions=parameter_grid, random_state=500, verbose=3, scoring='f1_macro')\n",
    "random_search.fit(X_train, y_train)  \n",
    "predicted_nb = random_search.predict(X_test)\n",
    "print(np.mean(predicted_nb == y_test))\n",
    "cm = confusion_matrix(y_test, predicted_nb)\n",
    "disp = ConfusionMatrixDisplay(confusion_matrix=cm,\n",
    "                              display_labels=random_search.classes_)\n",
    "disp.plot()\n",
    "\n",
    "plt.show()\n",
    "print(metrics.classification_report(y_test, predicted_nb,\n",
    "    target_names=random_search.classes_))"
   ]
  },
  {
   "cell_type": "markdown",
   "id": "ebf9ef15",
   "metadata": {},
   "source": [
    "# Only negation stopwords kept"
   ]
  },
  {
   "cell_type": "code",
   "execution_count": null,
   "id": "81d5b7a7",
   "metadata": {},
   "outputs": [],
   "source": [
    "no_stopwords = lambda x: ' '.join([item for item in x.split() if item not in full_stopwords])\n",
    "less_stopwords = lambda x: ' '.join([item for item in x.split() if item not in filtered_stopwords])\n",
    "\n",
    "Corpus[\"text\"] = Corpus[\"text\"].apply(less_stopwords)\n",
    "X_train, X_test, y_train, y_test = train_test_split(Corpus['text'], Corpus['label'], test_size=0.2, random_state=50)"
   ]
  },
  {
   "cell_type": "code",
   "execution_count": null,
   "id": "23369cf0",
   "metadata": {},
   "outputs": [],
   "source": [
    "# Ngram 2 Less stopwords\n",
    "pipeline = Pipeline([\n",
    "    ('tfidf', TfidfVectorizer(ngram_range=(1,2), lowercase=True, token_pattern=r\"(?u)\\b\\w\\w+\\b|\\+|\\-\")),\n",
    "    ('clf', SGDClassifier(early_stopping=True, n_iter_no_change=5, validation_fraction = 0.25, verbose=3)),\n",
    "])\n",
    "random_search = RandomizedSearchCV(estimator=pipeline, param_distributions=parameter_grid, random_state=500, verbose=3, scoring='f1_macro')\n",
    "random_search.fit(X_train, y_train)  \n",
    "predicted_nb = random_search.predict(X_test)\n",
    "print(np.mean(predicted_nb == y_test))\n",
    "cm = confusion_matrix(y_test, predicted_nb)\n",
    "disp = ConfusionMatrixDisplay(confusion_matrix=cm,\n",
    "                              display_labels=random_search.classes_)\n",
    "disp.plot()\n",
    "\n",
    "plt.show()\n",
    "print(metrics.classification_report(y_test, predicted_nb,\n",
    "    target_names=random_search.classes_))"
   ]
  },
  {
   "cell_type": "markdown",
   "id": "f12a779f",
   "metadata": {},
   "source": [
    "# No stopwords"
   ]
  },
  {
   "cell_type": "code",
   "execution_count": null,
   "id": "fd3b8699",
   "metadata": {},
   "outputs": [],
   "source": [
    "Corpus[\"text\"] = Corpus[\"text\"].apply(no_stopwords)\n",
    "X_train, X_test, y_train, y_test = train_test_split(Corpus['text'], Corpus['label'], test_size=0.2, random_state=50)"
   ]
  },
  {
   "cell_type": "code",
   "execution_count": null,
   "id": "a48f492d",
   "metadata": {},
   "outputs": [],
   "source": [
    "# Ngram 2 No stopwords\n",
    "pipeline = Pipeline([\n",
    "    ('tfidf', TfidfVectorizer(ngram_range=(1,2), lowercase=True, token_pattern=r\"(?u)\\b\\w\\w+\\b|\\+|\\-\")),\n",
    "    ('clf', SGDClassifier(early_stopping=True, n_iter_no_change=5, validation_fraction = 0.25, verbose=3)),\n",
    "])\n",
    "random_search = RandomizedSearchCV(estimator=pipeline, param_distributions=parameter_grid, random_state=500, verbose=3, scoring='f1_macro')\n",
    "random_search.fit(X_train, y_train)  \n",
    "predicted_nb = random_search.predict(X_test)\n",
    "print(np.mean(predicted_nb == y_test))\n",
    "cm = confusion_matrix(y_test, predicted_nb)\n",
    "disp = ConfusionMatrixDisplay(confusion_matrix=cm,\n",
    "                              display_labels=random_search.classes_)\n",
    "disp.plot()\n",
    "\n",
    "plt.show()\n",
    "print(metrics.classification_report(y_test, predicted_nb,\n",
    "    target_names=random_search.classes_))"
   ]
  },
  {
   "cell_type": "markdown",
   "id": "b492c51d",
   "metadata": {},
   "source": [
    "# BEST MODEL"
   ]
  },
  {
   "cell_type": "code",
   "execution_count": null,
   "id": "f1add59e",
   "metadata": {},
   "outputs": [],
   "source": [
    "no_stopwords = lambda x: ' '.join([item for item in x.split() if item not in full_stopwords])\n",
    "less_stopwords = lambda x: ' '.join([item for item in x.split() if item not in filtered_stopwords])\n",
    "\n",
    "Corpus = Corpus_backup.copy()\n",
    "Corpus[\"text\"] = Corpus[\"text\"].apply(less_stopwords)\n",
    "X_train, X_test, y_train, y_test = train_test_split(Corpus['text'], Corpus['label'], test_size=0.2, random_state=50)"
   ]
  },
  {
   "cell_type": "code",
   "execution_count": null,
   "id": "f2691bca",
   "metadata": {
    "scrolled": true
   },
   "outputs": [],
   "source": [
    "# Ngram 2 Less stopwords\n",
    "pipeline = Pipeline([\n",
    "    ('tfidf', TfidfVectorizer(ngram_range=(1,2), lowercase=True, token_pattern=r\"(?u)\\b\\w\\w+\\b|\\+|\\-\")),\n",
    "    ('clf', SGDClassifier(early_stopping=True, n_iter_no_change=5, validation_fraction = 0.25, verbose=3)),\n",
    "])\n",
    "random_search = RandomizedSearchCV(estimator=pipeline, param_distributions=parameter_grid, random_state=500, verbose=3, scoring='f1_macro')\n",
    "random_search.fit(X_train, y_train)  \n",
    "predicted_nb = random_search.predict(X_test)\n",
    "print(np.mean(predicted_nb == y_test))\n",
    "cm = confusion_matrix(y_test, predicted_nb)\n",
    "disp = ConfusionMatrixDisplay(confusion_matrix=cm,\n",
    "                              display_labels=random_search.classes_)\n",
    "disp.plot()\n",
    "\n",
    "plt.show()\n",
    "print(metrics.classification_report(y_test, predicted_nb,\n",
    "    target_names=random_search.classes_))"
   ]
  },
  {
   "cell_type": "code",
   "execution_count": null,
   "id": "6fa548e1",
   "metadata": {},
   "outputs": [],
   "source": [
    "from pickle import dump\n",
    "\n",
    "dump(random_search, open('best_models/best_drinking_ex1.pkl', 'wb'))"
   ]
  },
  {
   "cell_type": "code",
   "execution_count": null,
   "id": "de6ed83d",
   "metadata": {},
   "outputs": [],
   "source": []
  }
 ],
 "metadata": {
  "kernelspec": {
   "display_name": "Python (thesis_hielke)",
   "language": "python",
   "name": "thesis_hielke"
  },
  "language_info": {
   "codemirror_mode": {
    "name": "ipython",
    "version": 3
   },
   "file_extension": ".py",
   "mimetype": "text/x-python",
   "name": "python",
   "nbconvert_exporter": "python",
   "pygments_lexer": "ipython3",
   "version": "3.9.16"
  }
 },
 "nbformat": 4,
 "nbformat_minor": 5
}
