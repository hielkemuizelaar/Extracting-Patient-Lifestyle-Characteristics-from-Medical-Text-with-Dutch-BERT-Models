{
 "cells": [
  {
   "cell_type": "code",
   "execution_count": null,
   "id": "d34eba34",
   "metadata": {},
   "outputs": [],
   "source": [
    "import sklearn\n",
    "import pandas as pd\n",
    "import numpy as np\n",
    "import nltk\n",
    "import sklearn\n",
    "from nltk.tokenize import word_tokenize\n",
    "from nltk import pos_tag\n",
    "from nltk.corpus import stopwords\n",
    "from nltk.stem import WordNetLemmatizer\n",
    "from sklearn.preprocessing import LabelEncoder\n",
    "from collections import defaultdict\n",
    "from nltk.corpus import wordnet as wn\n",
    "from sklearn.feature_extraction.text import TfidfVectorizer\n",
    "from sklearn import model_selection, naive_bayes, svm\n",
    "from sklearn.metrics import accuracy_score\n",
    "import matplotlib\n",
    "from sklearn.model_selection import cross_val_score\n",
    "from scipy.stats import uniform as sp_randFloat\n",
    "from scipy.stats import randint as sp_randInt\n",
    "from sklearn.model_selection import train_test_split\n",
    "import re\n",
    "from nltk.stem import PorterStemmer\n",
    "from nltk.stem.snowball import SnowballStemmer\n",
    "from sklearn.metrics import confusion_matrix, ConfusionMatrixDisplay\n",
    "import matplotlib.pyplot as plt\n",
    "from sklearn.feature_extraction.text import CountVectorizer\n",
    "from sklearn.feature_extraction.text import TfidfTransformer\n",
    "from sklearn.naive_bayes import MultinomialNB\n",
    "from sklearn.pipeline import Pipeline\n",
    "from sklearn import metrics\n",
    "from sklearn.model_selection import RandomizedSearchCV\n",
    "from sklearn.ensemble import RandomForestClassifier\n",
    "from sklearn.linear_model import SGDClassifier\n",
    "import pickle\n",
    "from wordcloud import WordCloud"
   ]
  },
  {
   "cell_type": "code",
   "execution_count": null,
   "id": "7f57b8ab",
   "metadata": {},
   "outputs": [],
   "source": [
    "np.__version__"
   ]
  },
  {
   "cell_type": "code",
   "execution_count": null,
   "id": "f6af2bd2",
   "metadata": {},
   "outputs": [],
   "source": [
    "full_hand_set = pd.read_csv('../input_data/full_datasets/fully_hand_labelled_output.csv')"
   ]
  },
  {
   "cell_type": "code",
   "execution_count": null,
   "id": "b2a0fd75",
   "metadata": {},
   "outputs": [],
   "source": [
    "Corpus = full_hand_set"
   ]
  },
  {
   "cell_type": "code",
   "execution_count": null,
   "id": "b98fc06f",
   "metadata": {},
   "outputs": [],
   "source": [
    "Corpus['text'] = Corpus['text'].str.replace('\\t',' ')\n",
    "Corpus.drop(['Unnamed: 0', 'Unnamed: 0.1', 'label_id'], axis=1, inplace=True)"
   ]
  },
  {
   "cell_type": "code",
   "execution_count": null,
   "id": "736332a9",
   "metadata": {},
   "outputs": [],
   "source": [
    "Corpus"
   ]
  },
  {
   "cell_type": "code",
   "execution_count": null,
   "id": "261661ff",
   "metadata": {},
   "outputs": [],
   "source": [
    "rook_corpus = Corpus[[\"text\", \"Roken\"]].rename(columns={\"Roken\":\"label\"})"
   ]
  },
  {
   "cell_type": "code",
   "execution_count": null,
   "id": "dba39262",
   "metadata": {},
   "outputs": [],
   "source": [
    "rook_corpus"
   ]
  },
  {
   "cell_type": "code",
   "execution_count": null,
   "id": "8749b2d9",
   "metadata": {},
   "outputs": [],
   "source": [
    "rook_corpus['text'] = rook_corpus['text'].str.replace('\\t',' ')\n",
    "rook_corpus.drop_duplicates(inplace=True)\n",
    "rook_corpus['text'] = rook_corpus['text'].astype(str)"
   ]
  },
  {
   "cell_type": "code",
   "execution_count": null,
   "id": "5808c5c5",
   "metadata": {},
   "outputs": [],
   "source": [
    "stemmer = SnowballStemmer(\"dutch\")\n",
    "rook_corpus['text'] = rook_corpus['text'].str.lower()\n",
    "rook_corpus['text'] = [stemmer.stem(text) for text in rook_corpus['text']]\n",
    "rook_corpus = rook_corpus.drop(rook_corpus[rook_corpus.label == '--'].index)\n",
    "rook_corpus_backup = rook_corpus.copy()"
   ]
  },
  {
   "cell_type": "code",
   "execution_count": null,
   "id": "f7ca3114",
   "metadata": {},
   "outputs": [],
   "source": [
    "X_train, X_test, y_train, y_test = train_test_split(rook_corpus['text'], rook_corpus['label'], test_size=0.2, random_state=50, stratify=rook_corpus['label'])"
   ]
  },
  {
   "cell_type": "code",
   "execution_count": null,
   "id": "19e25201",
   "metadata": {},
   "outputs": [],
   "source": [
    "X_test"
   ]
  },
  {
   "cell_type": "code",
   "execution_count": null,
   "id": "7dc79352",
   "metadata": {},
   "outputs": [],
   "source": [
    "model = pickle.load(open('best_models/best_smoking_ex1.pkl', \"rb\"))"
   ]
  },
  {
   "cell_type": "code",
   "execution_count": null,
   "id": "1cc28001",
   "metadata": {},
   "outputs": [],
   "source": [
    "model"
   ]
  },
  {
   "cell_type": "code",
   "execution_count": null,
   "id": "2e2c57fb",
   "metadata": {},
   "outputs": [],
   "source": [
    "pred_y = model.predict(X_test)"
   ]
  },
  {
   "cell_type": "code",
   "execution_count": null,
   "id": "ba2efc19",
   "metadata": {},
   "outputs": [],
   "source": [
    "pred_y"
   ]
  },
  {
   "cell_type": "code",
   "execution_count": null,
   "id": "76078adc",
   "metadata": {},
   "outputs": [],
   "source": [
    "rook_corpus['predicted_smoking'] = predicted"
   ]
  },
  {
   "cell_type": "code",
   "execution_count": null,
   "id": "85a8ec04",
   "metadata": {},
   "outputs": [],
   "source": [
    "rook_corpus"
   ]
  },
  {
   "cell_type": "code",
   "execution_count": null,
   "id": "d7e40a60",
   "metadata": {},
   "outputs": [],
   "source": [
    "rook_corpus.predicted_smoking.unique()"
   ]
  },
  {
   "cell_type": "code",
   "execution_count": null,
   "id": "9b99f880",
   "metadata": {},
   "outputs": [],
   "source": [
    "rook_corpus[rook_corpus['predicted_smoking'].isnull()]"
   ]
  },
  {
   "cell_type": "code",
   "execution_count": null,
   "id": "bef30707",
   "metadata": {},
   "outputs": [],
   "source": [
    "rook_corpus"
   ]
  },
  {
   "cell_type": "code",
   "execution_count": null,
   "id": "7853108c",
   "metadata": {},
   "outputs": [],
   "source": [
    "X_train, X_test, y_train, y_test = train_test_split(rook_corpus['text'], rook_corpus['label'], test_size=0.2, random_state=50, stratify=rook_corpus['label'])"
   ]
  },
  {
   "cell_type": "code",
   "execution_count": null,
   "id": "563cdfba",
   "metadata": {},
   "outputs": [],
   "source": [
    "pred_y= = rook_corpus['predicted_smoking'].replace({'Rookt':'Huidige gebruiker', \n",
    "                                                                             'Rookte':'Voormalige gebruiker',\n",
    "                                                                             'Rookt niet': 'Geen gebruiker'})"
   ]
  },
  {
   "cell_type": "code",
   "execution_count": null,
   "id": "14fb118b",
   "metadata": {},
   "outputs": [],
   "source": [
    "cm = confusion_matrix(y_test, pred_y)\n",
    "disp = ConfusionMatrixDisplay(confusion_matrix=cm,\n",
    "                              display_labels=list(rook_corpus.label.unique()))\n",
    "disp.plot()\n"
   ]
  },
  {
   "cell_type": "code",
   "execution_count": null,
   "id": "f8cc6ae3",
   "metadata": {},
   "outputs": [],
   "source": [
    "print(metrics.classification_report(list(rook_corpus['label']), list(rook_corpus['predicted_smoking']),\n",
    "    target_names=list(rook_corpus.label.unique())))"
   ]
  },
  {
   "cell_type": "code",
   "execution_count": null,
   "id": "77ca044f",
   "metadata": {},
   "outputs": [],
   "source": []
  }
 ],
 "metadata": {
  "kernelspec": {
   "display_name": "Python (thesis_hielke)",
   "language": "python",
   "name": "thesis_hielke"
  },
  "language_info": {
   "codemirror_mode": {
    "name": "ipython",
    "version": 3
   },
   "file_extension": ".py",
   "mimetype": "text/x-python",
   "name": "python",
   "nbconvert_exporter": "python",
   "pygments_lexer": "ipython3",
   "version": "3.9.16"
  }
 },
 "nbformat": 4,
 "nbformat_minor": 5
}
