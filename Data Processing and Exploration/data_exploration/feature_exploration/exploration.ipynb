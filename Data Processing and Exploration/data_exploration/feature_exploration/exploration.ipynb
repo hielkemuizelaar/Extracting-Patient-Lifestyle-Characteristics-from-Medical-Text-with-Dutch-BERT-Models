{
 "cells": [
  {
   "cell_type": "code",
   "execution_count": null,
   "id": "7dd648fa",
   "metadata": {},
   "outputs": [],
   "source": [
    "import sklearn\n",
    "import pandas as pd\n",
    "import numpy as np\n",
    "import nltk\n",
    "import sklearn\n",
    "from nltk.tokenize import word_tokenize\n",
    "from nltk import pos_tag\n",
    "from nltk.corpus import stopwords\n",
    "from nltk.stem import WordNetLemmatizer\n",
    "from sklearn.preprocessing import LabelEncoder\n",
    "from collections import defaultdict\n",
    "from nltk.corpus import wordnet as wn\n",
    "from sklearn.feature_extraction.text import TfidfVectorizer\n",
    "from sklearn import model_selection, naive_bayes, svm\n",
    "from sklearn.metrics import accuracy_score\n",
    "import matplotlib\n",
    "from sklearn.model_selection import cross_val_score\n",
    "from scipy.stats import uniform as sp_randFloat\n",
    "from scipy.stats import randint as sp_randInt\n",
    "from sklearn.model_selection import train_test_split\n",
    "import re\n",
    "from nltk.stem import PorterStemmer\n",
    "from nltk.stem.snowball import SnowballStemmer\n",
    "from sklearn.metrics import confusion_matrix, ConfusionMatrixDisplay\n",
    "import matplotlib.pyplot as plt\n",
    "from sklearn.feature_extraction.text import CountVectorizer\n",
    "from sklearn.feature_extraction.text import TfidfTransformer\n",
    "from sklearn.naive_bayes import MultinomialNB\n",
    "from sklearn.pipeline import Pipeline\n",
    "from sklearn import metrics\n",
    "from sklearn.model_selection import RandomizedSearchCV\n",
    "from sklearn.ensemble import RandomForestClassifier\n",
    "from sklearn.linear_model import SGDClassifier\n",
    "import pickle"
   ]
  },
  {
   "cell_type": "code",
   "execution_count": null,
   "id": "b894ebe4",
   "metadata": {},
   "outputs": [],
   "source": [
    "smoking_ex1 = pickle.load(open('../best_models/best_smoking_ex1.pkl', 'rb'))\n",
    "smoking_ex2 = pickle.load(open('../best_models/best_smoking_ex2.pkl', 'rb'))\n",
    "\n",
    "drinking_ex1 = pickle.load(open('../best_models/best_drinking_ex1.pkl', 'rb'))\n",
    "drinking_ex2 = pickle.load(open('../best_models/best_drinking_ex2.pkl', 'rb'))\n",
    "\n",
    "drugs_ex1 = pickle.load(open('../best_models/best_drugs_ex1.pkl', 'rb'))\n",
    "drugs_ex2 = pickle.load(open('../best_models/best_drugs_ex2.pkl', 'rb'))"
   ]
  },
  {
   "cell_type": "code",
   "execution_count": null,
   "id": "a14572b9",
   "metadata": {},
   "outputs": [],
   "source": [
    "stemmer = SnowballStemmer(\"dutch\")\n",
    "np.random.seed(500)\n",
    "\n",
    "def create_preprocess_corpus(input_csv, content_name, label_name, skip_rows=[]):\n",
    "    corpus = pd.read_csv(input_csv,encoding='latin-1', skiprows=skip_rows)\n",
    "    corpus = corpus.rename({content_name:'text', label_name: 'label'}, axis=1)\n",
    "    corpus['text'] = corpus['text'].str.replace('\\t',' ')\n",
    "    corpus.drop(['Unnamed: 0'], axis=1, inplace=True)\n",
    "    corpus.drop_duplicates(inplace=True)\n",
    "    corpus['text'] = corpus['text'].astype(str)\n",
    "    corpus['text'] = corpus['text'].str.lower()\n",
    "    #corpus['text'].replace(to_replace=\"[^\\w\\s]\", value=\"\", regex=True, inplace=True)\n",
    "    corpus['text'] = [stemmer.stem(text) for text in corpus['text']]\n",
    "    corpus = corpus.drop(corpus[corpus.label == '--'].index)\n",
    "    corpus_backup = corpus.copy()\n",
    "    return corpus, corpus_backup"
   ]
  },
  {
   "cell_type": "code",
   "execution_count": null,
   "id": "cf913743",
   "metadata": {},
   "outputs": [],
   "source": [
    "full_smoking_corpus, full_smoking_corpus_backup = create_preprocess_corpus(\"../../input_data/smoking/labelled_smoking.csv\", \"roken_report_content\", \"roken_answer_label\")"
   ]
  },
  {
   "cell_type": "code",
   "execution_count": null,
   "id": "39b618a9",
   "metadata": {},
   "outputs": [],
   "source": [
    "full_drinking_corpus, full_drinking_corpus_backup = create_preprocess_corpus(\"../../input_data/drinking/labelled_drinking.csv\", \"alcohol_report_content\", \"alcohol_answer_label\", skip_rows=[227225])"
   ]
  },
  {
   "cell_type": "code",
   "execution_count": null,
   "id": "d8ce8d3c",
   "metadata": {},
   "outputs": [],
   "source": [
    "full_drugs_corpus, full_drugs_corpus_backup = create_preprocess_corpus(\"../../input_data/drugs/labelled_drugs.csv\", \"drugs_report_content\", \"drugs_answer_label\")"
   ]
  },
  {
   "cell_type": "code",
   "execution_count": null,
   "id": "659c83ec",
   "metadata": {},
   "outputs": [],
   "source": [
    "_, smoking_x_test, _, smoking_y_test = train_test_split(full_smoking_corpus['text'], full_smoking_corpus['label'], test_size=0.2, random_state=50)"
   ]
  },
  {
   "cell_type": "code",
   "execution_count": null,
   "id": "a60a3ac2",
   "metadata": {},
   "outputs": [],
   "source": [
    "_, drinking_x_test, _, drinking_y_test = train_test_split(full_drinking_corpus['text'], full_drinking_corpus['label'], test_size=0.2, random_state=50)"
   ]
  },
  {
   "cell_type": "code",
   "execution_count": null,
   "id": "57171484",
   "metadata": {},
   "outputs": [],
   "source": [
    "_, drugs_x_test, _, drugs_y_test = train_test_split(full_drugs_corpus['text'], full_drugs_corpus['label'], test_size=0.2, random_state=50)"
   ]
  },
  {
   "cell_type": "code",
   "execution_count": null,
   "id": "01d3582d",
   "metadata": {},
   "outputs": [],
   "source": [
    "predicted_nb = smoking_ex1.predict(smoking_x_test)\n",
    "print(np.mean(predicted_nb == smoking_y_test))\n",
    "cm = confusion_matrix(smoking_y_test, predicted_nb)\n",
    "disp = ConfusionMatrixDisplay(confusion_matrix=cm,\n",
    "                              display_labels=smoking_ex1.classes_)\n",
    "disp.plot()\n",
    "\n",
    "plt.show()\n",
    "print(metrics.classification_report(smoking_y_test, predicted_nb,\n",
    "    target_names=smoking_ex1.classes_))"
   ]
  },
  {
   "cell_type": "code",
   "execution_count": null,
   "id": "f982a03f",
   "metadata": {},
   "outputs": [],
   "source": [
    "ex1_features = smoking_ex1['tfidf'].get_feature_names_out()\n",
    "ex1_coef = smoking_ex1['clf'].best_estimator_.coef_"
   ]
  },
  {
   "cell_type": "code",
   "execution_count": null,
   "id": "2ee28491",
   "metadata": {},
   "outputs": [],
   "source": [
    "ex1_features"
   ]
  },
  {
   "cell_type": "code",
   "execution_count": null,
   "id": "1b50bca3",
   "metadata": {},
   "outputs": [],
   "source": [
    "feature_importance = pd.DataFrame(ex1_features, columns=['feature'])"
   ]
  },
  {
   "cell_type": "code",
   "execution_count": null,
   "id": "14c4c6dd",
   "metadata": {},
   "outputs": [],
   "source": [
    "feature_importance['nothing_found_importance'] = ex1_coef[0]\n",
    "feature_importance['current_user_importance'] = ex1_coef[1]\n",
    "feature_importance['non_user_importance'] = ex1_coef[2]\n",
    "feature_importance['previous_user_importance'] = ex1_coef[3]"
   ]
  },
  {
   "cell_type": "code",
   "execution_count": null,
   "id": "b684bac9",
   "metadata": {},
   "outputs": [],
   "source": [
    "ex1_coef.shape"
   ]
  },
  {
   "cell_type": "code",
   "execution_count": null,
   "id": "6e456a0d",
   "metadata": {},
   "outputs": [],
   "source": [
    "smoking_ex1['clf'].best_estimator_.classes_"
   ]
  },
  {
   "cell_type": "code",
   "execution_count": null,
   "id": "6b459a3a",
   "metadata": {},
   "outputs": [],
   "source": [
    "feature_importance"
   ]
  },
  {
   "cell_type": "code",
   "execution_count": null,
   "id": "0c92e0f0",
   "metadata": {},
   "outputs": [],
   "source": [
    "feature_importance.sort_values(by='non_user_importance', ascending=False)"
   ]
  },
  {
   "cell_type": "code",
   "execution_count": null,
   "id": "8828a57d",
   "metadata": {},
   "outputs": [],
   "source": []
  }
 ],
 "metadata": {
  "kernelspec": {
   "display_name": "Python (thesis_hielke)",
   "language": "python",
   "name": "thesis_hielke"
  },
  "language_info": {
   "codemirror_mode": {
    "name": "ipython",
    "version": 3
   },
   "file_extension": ".py",
   "mimetype": "text/x-python",
   "name": "python",
   "nbconvert_exporter": "python",
   "pygments_lexer": "ipython3",
   "version": "3.9.16"
  }
 },
 "nbformat": 4,
 "nbformat_minor": 5
}
