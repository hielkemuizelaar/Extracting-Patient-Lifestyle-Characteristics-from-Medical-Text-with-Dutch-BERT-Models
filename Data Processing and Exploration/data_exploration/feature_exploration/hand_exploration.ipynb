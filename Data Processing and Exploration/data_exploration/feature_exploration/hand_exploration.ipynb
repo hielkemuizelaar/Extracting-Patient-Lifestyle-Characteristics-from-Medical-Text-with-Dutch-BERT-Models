{
 "cells": [
  {
   "cell_type": "code",
   "execution_count": null,
   "id": "38d42aee",
   "metadata": {},
   "outputs": [],
   "source": [
    "import sklearn\n",
    "import pandas as pd\n",
    "import numpy as np\n",
    "import nltk\n",
    "import sklearn\n",
    "from nltk.tokenize import word_tokenize\n",
    "from nltk import pos_tag\n",
    "from nltk.corpus import stopwords\n",
    "from nltk.stem import WordNetLemmatizer\n",
    "from sklearn.preprocessing import LabelEncoder\n",
    "from collections import defaultdict\n",
    "from nltk.corpus import wordnet as wn\n",
    "from sklearn.feature_extraction.text import TfidfVectorizer\n",
    "from sklearn import model_selection, naive_bayes, svm\n",
    "from sklearn.metrics import accuracy_score\n",
    "import matplotlib\n",
    "from sklearn.model_selection import cross_val_score\n",
    "from scipy.stats import uniform as sp_randFloat\n",
    "from scipy.stats import randint as sp_randInt\n",
    "from sklearn.model_selection import train_test_split\n",
    "import re\n",
    "from nltk.stem import PorterStemmer\n",
    "from nltk.stem.snowball import SnowballStemmer\n",
    "from sklearn.metrics import confusion_matrix, ConfusionMatrixDisplay\n",
    "import matplotlib.pyplot as plt\n",
    "from sklearn.feature_extraction.text import CountVectorizer\n",
    "from sklearn.feature_extraction.text import TfidfTransformer\n",
    "from sklearn.naive_bayes import MultinomialNB\n",
    "from sklearn.pipeline import Pipeline\n",
    "from sklearn import metrics\n",
    "from sklearn.model_selection import RandomizedSearchCV\n",
    "from sklearn.ensemble import RandomForestClassifier\n",
    "from sklearn.linear_model import SGDClassifier\n",
    "import pickle\n",
    "from wordcloud import WordCloud"
   ]
  },
  {
   "cell_type": "code",
   "execution_count": null,
   "id": "7dce027d",
   "metadata": {},
   "outputs": [],
   "source": [
    "hand_labels = pd.read_csv(\"../../input_data/full_datasets/fully_hand_labelled_texts.csv\")"
   ]
  },
  {
   "cell_type": "code",
   "execution_count": null,
   "id": "81b7d6df",
   "metadata": {},
   "outputs": [],
   "source": [
    "hand_labels"
   ]
  },
  {
   "cell_type": "code",
   "execution_count": null,
   "id": "10ffe7dc",
   "metadata": {},
   "outputs": [],
   "source": [
    "stemmer = SnowballStemmer(\"dutch\")\n",
    "np.random.seed(500)\n",
    "\n",
    "def create_preprocess_corpus(input_csv, content_name, label_name, smoking=False, second_experiment=False, skip_rows=[]):\n",
    "    corpus = pd.read_csv(input_csv,encoding='latin-1', skiprows=skip_rows)\n",
    "    corpus = corpus.rename({content_name:'text', label_name: 'label'}, axis=1)\n",
    "    corpus['text'] = corpus['text'].str.replace('_x000D_\\n',' ')\n",
    "    corpus['text'] = corpus['text'].str.replace('Ã«','ë')\n",
    "    corpus.drop(['Unnamed: 0'], axis=1, inplace=True)\n",
    "    corpus.drop_duplicates(inplace=True)\n",
    "    corpus['text'] = corpus['text'].astype(str)\n",
    "    corpus['text'] = corpus['text'].str.lower()\n",
    "    #corpus['text'].replace(to_replace=\"[^\\w\\s]\", value=\"\", regex=True, inplace=True)\n",
    "    corpus['text'] = [stemmer.stem(text) for text in corpus['text']]\n",
    "    if second_experiment:\n",
    "        if smoking:\n",
    "            replace_text = 'Rookt niet'\n",
    "            corpus['label'] = corpus['label'].str.replace('Niets gevonden', 'Rookt niet')\n",
    "            corpus['label'] = corpus['label'].str.replace('Rookte', 'Rookt niet')\n",
    "        else:\n",
    "            corpus['label'] = corpus['label'].str.replace('Niets gevonden', 'Nee')\n",
    "        \n",
    "    corpus = corpus.drop(corpus[corpus.label == '--'].index)\n",
    "    corpus = corpus.drop(corpus[corpus.label == 'Onbekend'].index)\n",
    "    corpus_backup = corpus.copy()\n",
    "    return corpus, corpus_backup\n",
    "\n",
    "def create_original_corpus(input_csv, content_name, label_name, skip_rows=[]):\n",
    "    corpus = pd.read_csv(input_csv,encoding='latin-1', skiprows=skip_rows)\n",
    "    corpus = corpus.rename({content_name:'text', label_name: 'label'}, axis=1)\n",
    "    corpus_backup = corpus.copy()\n",
    "    return corpus, corpus_backup"
   ]
  },
  {
   "cell_type": "code",
   "execution_count": null,
   "id": "71cf6b82",
   "metadata": {},
   "outputs": [],
   "source": [
    "full_hand_smoking_set, full_hand_smoking_set_backup = create_preprocess_corpus(\"../../input_data/full_datasets/fully_hand_labelled_texts.csv\", \"text\", \"Roken\")"
   ]
  },
  {
   "cell_type": "code",
   "execution_count": null,
   "id": "4c78c877",
   "metadata": {},
   "outputs": [],
   "source": [
    "full_hand_alcohol_set, full_hand_alcohol_set_backup = create_preprocess_corpus(\"../../input_data/full_datasets/fully_hand_labelled_texts.csv\", \"text\", \"Alcohol\")"
   ]
  },
  {
   "cell_type": "code",
   "execution_count": null,
   "id": "fa169cdb",
   "metadata": {},
   "outputs": [],
   "source": [
    "full_hand_drugs_set, full_hand_drugs_set_backup = create_preprocess_corpus(\"../../input_data/full_datasets/fully_hand_labelled_texts.csv\", \"text\", \"Drugs\")"
   ]
  },
  {
   "cell_type": "code",
   "execution_count": null,
   "id": "734e4777",
   "metadata": {},
   "outputs": [],
   "source": [
    "full_text_wordcloud = WordCloud().generate(' '.join(full_hand_smoking_set['text']))"
   ]
  },
  {
   "cell_type": "code",
   "execution_count": null,
   "id": "f0052b7c",
   "metadata": {},
   "outputs": [],
   "source": [
    "import matplotlib.pyplot as plt\n",
    "plt.imshow(full_text_wordcloud, interpolation='bilinear')\n",
    "plt.axis(\"off\")\n"
   ]
  },
  {
   "cell_type": "markdown",
   "id": "caf8d713",
   "metadata": {},
   "source": [
    "# Smoking"
   ]
  },
  {
   "cell_type": "code",
   "execution_count": null,
   "id": "627cc0c2",
   "metadata": {},
   "outputs": [],
   "source": [
    "full_hand_smoking_set['label'].value_counts()"
   ]
  },
  {
   "cell_type": "code",
   "execution_count": null,
   "id": "01fe6dd7",
   "metadata": {},
   "outputs": [],
   "source": [
    "nothing_found_wordcloud = WordCloud().generate(' '.join(full_hand_smoking_set[full_hand_smoking_set['label'] == 'Niets gevonden']['text']))\n",
    "plt.imshow(nothing_found_wordcloud, interpolation='bilinear')\n",
    "plt.axis(\"off\")"
   ]
  },
  {
   "cell_type": "code",
   "execution_count": null,
   "id": "fe3017e1",
   "metadata": {},
   "outputs": [],
   "source": [
    "user_wordcloud = WordCloud().generate(' '.join(full_hand_smoking_set[full_hand_smoking_set['label'] == 'Huidige gebruiker']['text']))\n",
    "plt.imshow(user_wordcloud, interpolation='bilinear')\n",
    "plt.axis(\"off\")"
   ]
  },
  {
   "cell_type": "code",
   "execution_count": null,
   "id": "ab973669",
   "metadata": {},
   "outputs": [],
   "source": [
    "former_user_wordcloud = WordCloud().generate(' '.join(full_hand_smoking_set[full_hand_smoking_set['label'] == 'Voormalige gebruiker']['text']))\n",
    "plt.imshow(former_user_wordcloud, interpolation='bilinear')\n",
    "plt.axis(\"off\")"
   ]
  },
  {
   "cell_type": "code",
   "execution_count": null,
   "id": "5f039b2a",
   "metadata": {},
   "outputs": [],
   "source": [
    "non_user_wordcloud = WordCloud().generate(' '.join(full_hand_smoking_set[full_hand_smoking_set['label'] == 'Geen gebruiker']['text']))\n",
    "plt.imshow(non_user_wordcloud, interpolation='bilinear')\n",
    "plt.axis(\"off\")"
   ]
  },
  {
   "cell_type": "markdown",
   "id": "21f5fdb6",
   "metadata": {},
   "source": [
    "# Drinking"
   ]
  },
  {
   "cell_type": "code",
   "execution_count": null,
   "id": "d0dbe410",
   "metadata": {},
   "outputs": [],
   "source": [
    "full_hand_alcohol_set['label'].value_counts()"
   ]
  },
  {
   "cell_type": "code",
   "execution_count": null,
   "id": "2be6476a",
   "metadata": {},
   "outputs": [],
   "source": [
    "nothing_found_wordcloud = WordCloud().generate(' '.join(full_hand_alcohol_set[full_hand_alcohol_set['label'] == 'Niets gevonden']['text']))\n",
    "plt.imshow(nothing_found_wordcloud, interpolation='bilinear')\n",
    "plt.axis(\"off\")"
   ]
  },
  {
   "cell_type": "code",
   "execution_count": null,
   "id": "fe31c3c4",
   "metadata": {},
   "outputs": [],
   "source": [
    "user_wordcloud = WordCloud().generate(' '.join(full_hand_alcohol_set[full_hand_alcohol_set['label'] == 'Huidige gebruiker']['text']))\n",
    "plt.imshow(user_wordcloud, interpolation='bilinear')\n",
    "plt.axis(\"off\")"
   ]
  },
  {
   "cell_type": "code",
   "execution_count": null,
   "id": "0e7037c1",
   "metadata": {},
   "outputs": [],
   "source": [
    "former_user_wordcloud = WordCloud().generate(' '.join(full_hand_alcohol_set[full_hand_alcohol_set['label'] == 'Voormalige gebruiker']['text']))\n",
    "plt.imshow(former_user_wordcloud, interpolation='bilinear')\n",
    "plt.axis(\"off\")"
   ]
  },
  {
   "cell_type": "code",
   "execution_count": null,
   "id": "9bff128f",
   "metadata": {},
   "outputs": [],
   "source": [
    "non_user_wordcloud = WordCloud().generate(' '.join(full_hand_alcohol_set[full_hand_alcohol_set['label'] == 'Geen gebruiker']['text']))\n",
    "plt.imshow(non_user_wordcloud, interpolation='bilinear')\n",
    "plt.axis(\"off\")"
   ]
  },
  {
   "cell_type": "code",
   "execution_count": null,
   "id": "0323e1ac",
   "metadata": {},
   "outputs": [],
   "source": []
  },
  {
   "cell_type": "markdown",
   "id": "3f85707f",
   "metadata": {},
   "source": [
    "# Drugs"
   ]
  },
  {
   "cell_type": "code",
   "execution_count": null,
   "id": "9e76df1b",
   "metadata": {},
   "outputs": [],
   "source": [
    "full_hand_drugs_set['label'].value_counts()"
   ]
  },
  {
   "cell_type": "code",
   "execution_count": null,
   "id": "1828755f",
   "metadata": {},
   "outputs": [],
   "source": [
    "nothing_found_wordcloud = WordCloud().generate(' '.join(full_hand_drugs_set[full_hand_drugs_set['label'] == 'Niets gevonden']['text']))\n",
    "plt.imshow(nothing_found_wordcloud, interpolation='bilinear')\n",
    "plt.axis(\"off\")"
   ]
  },
  {
   "cell_type": "code",
   "execution_count": null,
   "id": "78383f5b",
   "metadata": {},
   "outputs": [],
   "source": [
    "user_wordcloud = WordCloud().generate(' '.join(full_hand_drugs_set[full_hand_drugs_set['label'] == 'Huidige gebruiker']['text']))\n",
    "plt.imshow(user_wordcloud, interpolation='bilinear')\n",
    "plt.axis(\"off\")"
   ]
  },
  {
   "cell_type": "code",
   "execution_count": null,
   "id": "a6a19d49",
   "metadata": {},
   "outputs": [],
   "source": [
    "former_user_wordcloud = WordCloud().generate(' '.join(full_hand_drugs_set[full_hand_drugs_set['label'] == 'Voormalige gebruiker']['text']))\n",
    "plt.imshow(former_user_wordcloud, interpolation='bilinear')\n",
    "plt.axis(\"off\")"
   ]
  },
  {
   "cell_type": "code",
   "execution_count": null,
   "id": "d3683bb1",
   "metadata": {},
   "outputs": [],
   "source": [
    "non_user_wordcloud = WordCloud().generate(' '.join(full_hand_drugs_set[full_hand_drugs_set['label'] == 'Geen gebruiker']['text']))\n",
    "plt.imshow(non_user_wordcloud, interpolation='bilinear')\n",
    "plt.axis(\"off\")"
   ]
  },
  {
   "cell_type": "code",
   "execution_count": null,
   "id": "4ff75b07",
   "metadata": {},
   "outputs": [],
   "source": []
  }
 ],
 "metadata": {
  "kernelspec": {
   "display_name": "Python (thesis_hielke)",
   "language": "python",
   "name": "thesis_hielke"
  },
  "language_info": {
   "codemirror_mode": {
    "name": "ipython",
    "version": 3
   },
   "file_extension": ".py",
   "mimetype": "text/x-python",
   "name": "python",
   "nbconvert_exporter": "python",
   "pygments_lexer": "ipython3",
   "version": "3.9.16"
  }
 },
 "nbformat": 4,
 "nbformat_minor": 5
}
