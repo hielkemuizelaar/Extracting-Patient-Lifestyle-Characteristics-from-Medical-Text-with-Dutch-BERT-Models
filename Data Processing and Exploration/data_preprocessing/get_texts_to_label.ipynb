{
 "cells": [
  {
   "cell_type": "code",
   "execution_count": null,
   "id": "c40a62ea",
   "metadata": {},
   "outputs": [],
   "source": [
    "import sklearn\n",
    "import pandas as pd\n",
    "import numpy as np\n",
    "import nltk\n",
    "import sklearn\n",
    "from nltk.tokenize import word_tokenize\n",
    "from nltk import pos_tag\n",
    "from nltk.corpus import stopwords\n",
    "from nltk.stem import WordNetLemmatizer\n",
    "from sklearn.preprocessing import LabelEncoder\n",
    "from collections import defaultdict\n",
    "from nltk.corpus import wordnet as wn\n",
    "from sklearn.feature_extraction.text import TfidfVectorizer\n",
    "from sklearn import model_selection, naive_bayes, svm\n",
    "from sklearn.metrics import accuracy_score\n",
    "import matplotlib\n",
    "from sklearn.model_selection import cross_val_score\n",
    "from scipy.stats import uniform as sp_randFloat\n",
    "from scipy.stats import randint as sp_randInt\n",
    "from sklearn.model_selection import train_test_split\n",
    "import re\n",
    "from nltk.stem import PorterStemmer\n",
    "from nltk.stem.snowball import SnowballStemmer\n",
    "from sklearn.metrics import confusion_matrix, ConfusionMatrixDisplay\n",
    "import matplotlib.pyplot as plt\n",
    "from sklearn.feature_extraction.text import CountVectorizer\n",
    "from sklearn.feature_extraction.text import TfidfTransformer\n",
    "from sklearn.naive_bayes import MultinomialNB\n",
    "from sklearn.pipeline import Pipeline\n",
    "from sklearn import metrics\n",
    "from sklearn.model_selection import RandomizedSearchCV\n",
    "from sklearn.ensemble import RandomForestClassifier\n",
    "from sklearn.linear_model import SGDClassifier\n",
    "import pickle\n",
    "from wordcloud import WordCloud"
   ]
  },
  {
   "cell_type": "code",
   "execution_count": null,
   "id": "3866d7e0",
   "metadata": {},
   "outputs": [],
   "source": [
    "full_labels = pd.read_csv('../input_data/full_datasets/fully_labelled_texts.csv')"
   ]
  },
  {
   "cell_type": "code",
   "execution_count": null,
   "id": "5402730e",
   "metadata": {},
   "outputs": [],
   "source": [
    "full_labels"
   ]
  },
  {
   "cell_type": "code",
   "execution_count": null,
   "id": "4436aa12",
   "metadata": {},
   "outputs": [],
   "source": [
    "import pickle\n",
    "smoking_model = pickle.load(open('../data_exploration/best_models/best_smoking_ex1.pkl', 'rb'))\n",
    "drinking_model = pickle.load(open('../data_exploration/best_models/best_drinking_ex1.pkl', 'rb'))\n",
    "drugs_model = pickle.load(open('../data_exploration/best_models/best_drugs_ex1.pkl', 'rb'))"
   ]
  },
  {
   "cell_type": "code",
   "execution_count": null,
   "id": "7cd675fc",
   "metadata": {},
   "outputs": [],
   "source": [
    "stemmer = SnowballStemmer(\"dutch\")\n",
    "np.random.seed(500)\n",
    "\n",
    "def create_preprocess_corpus(input_corpus, content_name, label_name, smoking=False, second_experiment=False, skip_rows=[]):\n",
    "    corpus = input_corpus[['Unnamed: 0', content_name, label_name]]\n",
    "    corpus = corpus.rename({content_name:'text', label_name: 'label'}, axis=1)\n",
    "    corpus['processed_text'] = corpus['text'].str.replace('\\t',' ')\n",
    "    corpus.drop_duplicates(inplace=True)\n",
    "    corpus['processed_text'] = corpus['processed_text'].astype(str)\n",
    "    corpus['processed_text'] = corpus['processed_text'].str.lower()\n",
    "    corpus['processed_text'] = [stemmer.stem(text) for text in corpus['processed_text']]\n",
    "    if second_experiment:\n",
    "        if smoking:\n",
    "            replace_text = 'Rookt niet'\n",
    "            corpus['label'] = corpus['label'].str.replace('Niets gevonden', 'Rookt niet')\n",
    "            corpus['label'] = corpus['label'].str.replace('Rookte', 'Rookt niet')\n",
    "        else:\n",
    "            corpus['label'] = corpus['label'].str.replace('Niets gevonden', 'Nee')\n",
    "        \n",
    "    corpus = corpus.drop(corpus[corpus.label == '--'].index)\n",
    "    corpus = corpus.drop(corpus[corpus.label == 'Onbekend'].index)\n",
    "    corpus = corpus[~corpus.processed_text.str.contains('vertrouwelijk')]\n",
    "    corpus_backup = corpus.copy()\n",
    "    return corpus, corpus_backup\n",
    "\n",
    "def add_processed_text(input_corpus, text_column):\n",
    "    corpus = input_corpus.copy()\n",
    "    corpus['processed_text'] = corpus[text_column].str.replace('\\t',' ')\n",
    "    corpus.drop_duplicates(inplace=True)\n",
    "    corpus['processed_text'] = corpus['processed_text'].astype(str)\n",
    "    corpus['processed_text'] = corpus['processed_text'].str.lower()\n",
    "    corpus['processed_text'] = [stemmer.stem(text) for text in corpus['processed_text']]\n",
    "    return corpus"
   ]
  },
  {
   "cell_type": "code",
   "execution_count": null,
   "id": "328eef26",
   "metadata": {},
   "outputs": [],
   "source": [
    "smoking_corpus, _ = create_preprocess_corpus(full_labels, 'content', 'roken_answer_label', smoking=True)\n",
    "drinking_corpus, _ = create_preprocess_corpus(full_labels, 'content', 'alcohol_answer_label')\n",
    "drugs_corpus, _ = create_preprocess_corpus(full_labels, 'content', 'drugs_answer_label')"
   ]
  },
  {
   "cell_type": "code",
   "execution_count": null,
   "id": "ab1cc59c",
   "metadata": {},
   "outputs": [],
   "source": [
    "smoking_corpus"
   ]
  },
  {
   "cell_type": "code",
   "execution_count": null,
   "id": "3eebf8fa",
   "metadata": {},
   "outputs": [],
   "source": [
    "\n",
    "\n",
    "\n",
    "drinking_corpus"
   ]
  },
  {
   "cell_type": "code",
   "execution_count": null,
   "id": "7a708108",
   "metadata": {},
   "outputs": [],
   "source": [
    "_, smoking_x_test, _, smoking_y_test = train_test_split(smoking_corpus['processed_text'], smoking_corpus['label'], test_size=0.2, random_state=50)\n",
    "_, drinking_x_test, _, drinking_y_test = train_test_split(drinking_corpus['processed_text'], drinking_corpus['label'], test_size=0.2, random_state=50)\n",
    "_, drugs_x_test, _, drugs_y_test = train_test_split(drugs_corpus['processed_text'], drugs_corpus['label'], test_size=0.2, random_state=50)"
   ]
  },
  {
   "cell_type": "markdown",
   "id": "1e4125f7",
   "metadata": {},
   "source": [
    "# Smoking"
   ]
  },
  {
   "cell_type": "code",
   "execution_count": null,
   "id": "7c76d3ee",
   "metadata": {},
   "outputs": [],
   "source": [
    "predicted_nb_df = smoking_model.decision_function(smoking_x_test)\n",
    "predicted_nb_labels = smoking_model.predict(smoking_x_test)\n",
    "x_test_probs = pd.DataFrame(smoking_x_test, columns=['processed_text'])\n",
    "x_test_probs['nothing_found_eval'] = [x[0] for x in predicted_nb_df]\n",
    "x_test_probs['current_user_eval'] = [x[1] for x in predicted_nb_df]\n",
    "x_test_probs['non_user_eval'] = [x[2] for x in predicted_nb_df]\n",
    "x_test_probs['previous_user_eval'] = [x[3] for x in predicted_nb_df]\n",
    "x_test_probs['predicted_label'] = predicted_nb_labels\n",
    "x_test_probs['roken_answer_label'] = smoking_y_test\n",
    "x_test_probs = x_test_probs.merge(smoking_corpus[['text', 'processed_text']], left_on='processed_text', right_on='processed_text', how='left')"
   ]
  },
  {
   "cell_type": "code",
   "execution_count": null,
   "id": "2dfa2ec5",
   "metadata": {},
   "outputs": [],
   "source": [
    "sorted_probs_current = x_test_probs[x_test_probs.predicted_label != 'Rookt'].sort_values(by=['current_user_eval'], ascending=False)\n",
    "sorted_probs_non = x_test_probs[~x_test_probs.processed_text.isin(sorted_probs_current.head(100).processed_text)][x_test_probs.predicted_label != 'Rookt niet'].sort_values(by=['non_user_eval'], ascending=False)\n",
    "texts_to_label = sorted_probs_current[['text', 'processed_text', 'roken_answer_label']].head(100)\n",
    "#texts_to_label = texts_to_label.append(sorted_probs_previous[~sorted_probs_previous.processed_text.isin(texts_to_label.processed_text)][['text', 'processed_text', 'roken_answer_label']].head(67))\n",
    "texts_to_label = texts_to_label.append(sorted_probs_non[~sorted_probs_non.processed_text.isin(texts_to_label.processed_text)][['text', 'processed_text', 'roken_answer_label']].head(100))\n",
    "texts_to_label = texts_to_label.merge(drinking_corpus.rename(columns={'label': 'alcohol_answer_label'})[['processed_text', 'alcohol_answer_label']], left_on='processed_text', right_on='processed_text', how='left')\n",
    "texts_to_label = texts_to_label.merge(drugs_corpus.rename(columns={'label': 'drugs_answer_label'})[['processed_text', 'drugs_answer_label']], left_on='processed_text', right_on='processed_text', how='left')\n",
    "texts_to_label = texts_to_label.drop_duplicates()"
   ]
  },
  {
   "cell_type": "code",
   "execution_count": null,
   "id": "86bbb6e7",
   "metadata": {},
   "outputs": [],
   "source": [
    "texts_to_label"
   ]
  },
  {
   "cell_type": "markdown",
   "id": "f1f4300a",
   "metadata": {},
   "source": [
    "# Drinking"
   ]
  },
  {
   "cell_type": "code",
   "execution_count": null,
   "id": "f32ee7bd",
   "metadata": {},
   "outputs": [],
   "source": [
    "predicted_nb_df = drinking_model.decision_function(drinking_x_test)\n",
    "predicted_nb = drinking_model.predict(drinking_x_test)\n",
    "x_test_probs = pd.DataFrame(drinking_x_test, columns=['processed_text'])\n",
    "x_test_probs['current_user_eval'] = [x[0] for x in predicted_nb_df]\n",
    "x_test_probs['non_user_eval'] = [x[1] for x in predicted_nb_df]\n",
    "x_test_probs['nothing_found_eval'] = [x[2] for x in predicted_nb_df]\n",
    "x_test_probs['predicted_label'] = predicted_nb\n",
    "x_test_probs['alcohol_answer_label'] = drinking_y_test\n",
    "x_test_probs = x_test_probs.merge(drinking_corpus[['text', 'processed_text']], left_on='processed_text', right_on='processed_text', how='left')"
   ]
  },
  {
   "cell_type": "code",
   "execution_count": null,
   "id": "f7872c68",
   "metadata": {},
   "outputs": [],
   "source": [
    "sorted_probs_current = x_test_probs[x_test_probs.predicted_label != 'Ja'].sort_values(by=['current_user_eval'], ascending=False)\n",
    "sorted_probs_non = x_test_probs[~x_test_probs.processed_text.isin(sorted_probs_current.head(100).processed_text)][x_test_probs.predicted_label != 'Nee'].sort_values(by=['non_user_eval'], ascending=False)\n",
    "texts_to_label_ac = sorted_probs_current[~sorted_probs_current.processed_text.isin(texts_to_label.processed_text)][['text', 'processed_text', 'alcohol_answer_label']].drop_duplicates().head(100)\n",
    "texts_to_label_ac = texts_to_label_ac.append(sorted_probs_non[(~sorted_probs_non.processed_text.isin(texts_to_label_ac.processed_text)) & (~sorted_probs_non.processed_text.isin(texts_to_label.processed_text))][['text', 'processed_text', 'alcohol_answer_label']].drop_duplicates().head(100))\n",
    "texts_to_label_ac = texts_to_label_ac.merge(smoking_corpus.rename(columns={'label': 'roken_answer_label'})[['processed_text', 'roken_answer_label']], left_on='processed_text', right_on='processed_text', how='left')\n",
    "texts_to_label_ac = texts_to_label_ac.merge(drugs_corpus.rename(columns={'label': 'drugs_answer_label'})[['processed_text', 'drugs_answer_label']], left_on='processed_text', right_on='processed_text', how='left')\n",
    "texts_to_label_merged = texts_to_label.append(texts_to_label_ac, ignore_index = True)\n",
    "texts_to_label_merged = texts_to_label_merged.drop_duplicates()"
   ]
  },
  {
   "cell_type": "code",
   "execution_count": null,
   "id": "939d43af",
   "metadata": {},
   "outputs": [],
   "source": [
    "texts_to_label_merged"
   ]
  },
  {
   "cell_type": "markdown",
   "id": "fba45687",
   "metadata": {},
   "source": [
    "# Drugs"
   ]
  },
  {
   "cell_type": "code",
   "execution_count": null,
   "id": "552cc92e",
   "metadata": {},
   "outputs": [],
   "source": [
    "predicted_nb_df = drugs_model.decision_function(drugs_x_test)\n",
    "predicted_nb = drugs_model.predict(drugs_x_test)\n",
    "x_test_probs = pd.DataFrame(drugs_x_test, columns=['processed_text'])\n",
    "x_test_probs['current_user_eval'] = [x[0] for x in predicted_nb_df]\n",
    "x_test_probs['non_user_eval'] = [x[1] for x in predicted_nb_df]\n",
    "x_test_probs['nothing_found_eval'] = [x[2] for x in predicted_nb_df]\n",
    "x_test_probs['predicted_label'] = predicted_nb\n",
    "x_test_probs['drugs_answer_label'] = drugs_y_test\n",
    "x_test_probs = x_test_probs.merge(drugs_corpus[['text', 'processed_text']], left_on='processed_text', right_on='processed_text', how='left')"
   ]
  },
  {
   "cell_type": "code",
   "execution_count": null,
   "id": "8e33a9a4",
   "metadata": {},
   "outputs": [],
   "source": [
    "sorted_probs_current = x_test_probs[x_test_probs.predicted_label != 'Ja'].sort_values(by=['current_user_eval'], ascending=False)\n",
    "sorted_probs_non = x_test_probs[~x_test_probs.processed_text.isin(sorted_probs_current.head(100).processed_text)][x_test_probs.predicted_label != 'Nee'].sort_values(by=['non_user_eval'], ascending=False)\n",
    "texts_to_label_dr = sorted_probs_current[['text', 'processed_text', 'drugs_answer_label']][~sorted_probs_current.processed_text.isin(texts_to_label_merged.processed_text)].head(100)\n",
    "texts_to_label_dr = texts_to_label_dr.append(sorted_probs_non[(~sorted_probs_non.processed_text.isin(texts_to_label_dr.processed_text)) & (~sorted_probs_non.processed_text.isin(texts_to_label_merged.processed_text))][['text', 'processed_text', 'drugs_answer_label']].drop_duplicates().head(100))\n",
    "texts_to_label_dr = texts_to_label_dr.merge(smoking_corpus.rename(columns={'label': 'roken_answer_label'})[['processed_text', 'roken_answer_label']], left_on='processed_text', right_on='processed_text', how='left')\n",
    "texts_to_label_dr = texts_to_label_dr.merge(drinking_corpus.rename(columns={'label': 'alcohol_answer_label'})[['processed_text', 'alcohol_answer_label']], left_on='processed_text', right_on='processed_text', how='left')\n",
    "texts_to_label_merged_merged = texts_to_label_merged.append(texts_to_label_dr, ignore_index = True)\n",
    "texts_to_label_merged_merged = texts_to_label_merged_merged.drop_duplicates()"
   ]
  },
  {
   "cell_type": "code",
   "execution_count": null,
   "id": "3281b4b2",
   "metadata": {},
   "outputs": [],
   "source": [
    "texts_to_label_merged_merged"
   ]
  },
  {
   "cell_type": "code",
   "execution_count": null,
   "id": "fe02f66d",
   "metadata": {},
   "outputs": [],
   "source": [
    "texts_to_label = texts_to_label_merged_merged.drop_duplicates()"
   ]
  },
  {
   "cell_type": "code",
   "execution_count": null,
   "id": "60e5a9d4",
   "metadata": {
    "scrolled": false
   },
   "outputs": [],
   "source": [
    "texts_to_label"
   ]
  },
  {
   "cell_type": "code",
   "execution_count": null,
   "id": "ce542f80",
   "metadata": {},
   "outputs": [],
   "source": [
    "full_labels"
   ]
  },
  {
   "cell_type": "code",
   "execution_count": null,
   "id": "af7e9910",
   "metadata": {},
   "outputs": [],
   "source": [
    "full_labels_no_dup = full_labels[~full_labels.content.isin(texts_to_label.text)]"
   ]
  },
  {
   "cell_type": "code",
   "execution_count": null,
   "id": "b6848c7b",
   "metadata": {},
   "outputs": [],
   "source": [
    "full_labels_no_dup"
   ]
  },
  {
   "cell_type": "code",
   "execution_count": null,
   "id": "85222b38",
   "metadata": {},
   "outputs": [],
   "source": [
    "random_samples = full_labels_no_dup.sample(frac=1).head(1000 - len(texts_to_label.index))"
   ]
  },
  {
   "cell_type": "code",
   "execution_count": null,
   "id": "44d1bb70",
   "metadata": {},
   "outputs": [],
   "source": [
    "full_samples = add_processed_text(random_samples, 'content')"
   ]
  },
  {
   "cell_type": "code",
   "execution_count": null,
   "id": "966b9489",
   "metadata": {},
   "outputs": [],
   "source": [
    "full_samples"
   ]
  },
  {
   "cell_type": "code",
   "execution_count": null,
   "id": "fcddccb0",
   "metadata": {},
   "outputs": [],
   "source": [
    "text\tprocessed_text\troken_answer_label\talcohol_answer_label\tdrugs_answer_label"
   ]
  },
  {
   "cell_type": "code",
   "execution_count": null,
   "id": "42a2b5a7",
   "metadata": {},
   "outputs": [],
   "source": [
    "full_texts_to_label = texts_to_label[['text', 'roken_answer_label', 'alcohol_answer_label', 'drugs_answer_label']].append(full_samples.rename(columns={'content':'text'})[['text', 'roken_answer_label', 'alcohol_answer_label', 'drugs_answer_label']])"
   ]
  },
  {
   "cell_type": "code",
   "execution_count": null,
   "id": "a1152e1f",
   "metadata": {},
   "outputs": [],
   "source": [
    "full_texts_to_label"
   ]
  },
  {
   "cell_type": "code",
   "execution_count": null,
   "id": "370b491f",
   "metadata": {},
   "outputs": [],
   "source": [
    "full_texts_to_label.to_csv('full_texts_to_label_full4.csv')"
   ]
  },
  {
   "cell_type": "code",
   "execution_count": null,
   "id": "4f38aceb",
   "metadata": {},
   "outputs": [],
   "source": [
    "full_labels_no_dup.sample(frac=1).head(1)"
   ]
  },
  {
   "cell_type": "code",
   "execution_count": null,
   "id": "95a2ba11",
   "metadata": {},
   "outputs": [],
   "source": [
    "pd.set_option('display.max_colwidth', None)\n",
    "pd.set_option('display.max_rows', None)"
   ]
  },
  {
   "cell_type": "code",
   "execution_count": null,
   "id": "2358d411",
   "metadata": {},
   "outputs": [],
   "source": [
    "full_labels_no_dup.sample(frac=1).head(1)"
   ]
  },
  {
   "cell_type": "code",
   "execution_count": null,
   "id": "0a0a2439",
   "metadata": {},
   "outputs": [],
   "source": []
  }
 ],
 "metadata": {
  "kernelspec": {
   "display_name": "Python (thesis_hielke)",
   "language": "python",
   "name": "thesis_hielke"
  },
  "language_info": {
   "codemirror_mode": {
    "name": "ipython",
    "version": 3
   },
   "file_extension": ".py",
   "mimetype": "text/x-python",
   "name": "python",
   "nbconvert_exporter": "python",
   "pygments_lexer": "ipython3",
   "version": "3.9.16"
  }
 },
 "nbformat": 4,
 "nbformat_minor": 5
}
