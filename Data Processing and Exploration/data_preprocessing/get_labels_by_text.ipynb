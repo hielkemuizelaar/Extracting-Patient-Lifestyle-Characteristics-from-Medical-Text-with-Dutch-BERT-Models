{
 "cells": [
  {
   "cell_type": "code",
   "execution_count": null,
   "id": "69ab415a",
   "metadata": {},
   "outputs": [],
   "source": [
    "import pandas as pd\n",
    "import numpy as np\n",
    "import csv\n",
    "import re"
   ]
  },
  {
   "cell_type": "code",
   "execution_count": null,
   "id": "72db2c97",
   "metadata": {},
   "outputs": [],
   "source": [
    "full_haga_data = pd.read_csv('../../datasafe/2031/processed_data/processed_data/full_haga_data.csv')"
   ]
  },
  {
   "cell_type": "code",
   "execution_count": null,
   "id": "d785b1bb",
   "metadata": {},
   "outputs": [],
   "source": [
    "full_haga_data\n"
   ]
  },
  {
   "cell_type": "code",
   "execution_count": null,
   "id": "8e8952b8",
   "metadata": {},
   "outputs": [],
   "source": [
    "text_data = full_haga_data[['roken_report_content', 'roken_answer_label']]"
   ]
  },
  {
   "cell_type": "code",
   "execution_count": null,
   "id": "b29c2750",
   "metadata": {},
   "outputs": [],
   "source": [
    "text_data = text_data.drop_duplicates()"
   ]
  },
  {
   "cell_type": "code",
   "execution_count": null,
   "id": "faccd746",
   "metadata": {},
   "outputs": [],
   "source": [
    "text_data_merged = text_data.merge(full_haga_data[['alcohol_report_content', 'alcohol_answer_label']], left_on='roken_report_content', right_on='alcohol_report_content', how='left')"
   ]
  },
  {
   "cell_type": "code",
   "execution_count": null,
   "id": "0cf2a2eb",
   "metadata": {},
   "outputs": [],
   "source": [
    "text_data_merged_second = text_data_merged.merge(full_haga_data[['drugs_report_content', 'drugs_answer_label']], left_on='roken_report_content', right_on='drugs_report_content', how='left')"
   ]
  },
  {
   "cell_type": "code",
   "execution_count": null,
   "id": "e58959fe",
   "metadata": {
    "scrolled": false
   },
   "outputs": [],
   "source": [
    "text_data_merged_second"
   ]
  },
  {
   "cell_type": "code",
   "execution_count": null,
   "id": "491fc533",
   "metadata": {},
   "outputs": [],
   "source": [
    "full_labels = text_data_merged_second.drop(['alcohol_report_content', 'drugs_report_content'], axis=1).rename(columns={'roken_report_content': 'content'})"
   ]
  },
  {
   "cell_type": "code",
   "execution_count": null,
   "id": "40ae188e",
   "metadata": {},
   "outputs": [],
   "source": [
    "full_labels = full_labels.dropna().drop_duplicates()"
   ]
  },
  {
   "cell_type": "code",
   "execution_count": null,
   "id": "6348bbdb",
   "metadata": {},
   "outputs": [],
   "source": [
    "full_labels.to_csv('../input_data/full_datasets/fully_labelled_texts.csv')"
   ]
  },
  {
   "cell_type": "code",
   "execution_count": null,
   "id": "ee03cb64",
   "metadata": {},
   "outputs": [],
   "source": []
  }
 ],
 "metadata": {
  "kernelspec": {
   "display_name": "Python (thesis_hielke)",
   "language": "python",
   "name": "thesis_hielke"
  },
  "language_info": {
   "codemirror_mode": {
    "name": "ipython",
    "version": 3
   },
   "file_extension": ".py",
   "mimetype": "text/x-python",
   "name": "python",
   "nbconvert_exporter": "python",
   "pygments_lexer": "ipython3",
   "version": "3.9.16"
  }
 },
 "nbformat": 4,
 "nbformat_minor": 5
}
