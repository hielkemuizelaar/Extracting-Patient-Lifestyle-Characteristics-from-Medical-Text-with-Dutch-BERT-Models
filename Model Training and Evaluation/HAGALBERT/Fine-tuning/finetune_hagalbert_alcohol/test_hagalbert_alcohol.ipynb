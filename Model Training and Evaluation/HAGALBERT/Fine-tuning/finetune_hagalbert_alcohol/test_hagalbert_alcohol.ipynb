{
 "cells": [
  {
   "cell_type": "code",
   "execution_count": 1,
   "id": "981864a3",
   "metadata": {},
   "outputs": [],
   "source": [
    "import pandas as pd\n",
    "fhlo = pd.read_csv(\"../../../input_data/fully_hand_labelled_output.csv\")"
   ]
  },
  {
   "cell_type": "code",
   "execution_count": 2,
   "id": "dbf757c6",
   "metadata": {},
   "outputs": [],
   "source": [
    "fhlo.Roken = fhlo.Roken.astype('category').cat.codes\n",
    "fhlo.Alcohol = fhlo.Alcohol.astype('category').cat.codes\n",
    "fhlo.Drugs = fhlo.Drugs.astype('category').cat.codes\n",
    "fhlo[\"label\"] = fhlo.Alcohol\n",
    "fhlo2 = fhlo[[\"text\", \"label\"]]"
   ]
  },
  {
   "cell_type": "code",
   "execution_count": 3,
   "id": "91399a53",
   "metadata": {},
   "outputs": [],
   "source": [
    "train=fhlo2.sample(frac=0.8,random_state=200)\n",
    "test=fhlo2.drop(train.index)"
   ]
  },
  {
   "cell_type": "code",
   "execution_count": 4,
   "id": "62b3ea0f",
   "metadata": {},
   "outputs": [],
   "source": [
    "train.to_csv('train.csv')\n",
    "test.to_csv('test.csv')"
   ]
  },
  {
   "cell_type": "code",
   "execution_count": 5,
   "id": "ded209ce",
   "metadata": {},
   "outputs": [
    {
     "data": {
      "application/vnd.jupyter.widget-view+json": {
       "model_id": "86a1239ecf6142f69d4a26cb52076935",
       "version_major": 2,
       "version_minor": 0
      },
      "text/plain": [
       "Downloading (…)lve/main/config.json:   0%|          | 0.00/1.08k [00:00<?, ?B/s]"
      ]
     },
     "metadata": {},
     "output_type": "display_data"
    },
    {
     "data": {
      "application/vnd.jupyter.widget-view+json": {
       "model_id": "6b706d7e01494f00a552a6f89fdf6446",
       "version_major": 2,
       "version_minor": 0
      },
      "text/plain": [
       "Downloading pytorch_model.bin:   0%|          | 0.00/46.8M [00:00<?, ?B/s]"
      ]
     },
     "metadata": {},
     "output_type": "display_data"
    }
   ],
   "source": [
    "from transformers import pipeline\n",
    "classifier = pipeline(\"sentiment-analysis\", model=\"Hielke/HAGALBERT-alcohol\", tokenizer=\"../tokenizer\")\n"
   ]
  },
  {
   "cell_type": "code",
   "execution_count": 6,
   "id": "be08df9e",
   "metadata": {},
   "outputs": [],
   "source": [
    "def predict(x):\n",
    "    pred_y = classifier(x['text'][:512])\n",
    "    if len(x['text']) <= 512:\n",
    "        return pred_y[0]['label']\n",
    "    highest_score = pred_y[0]['score']\n",
    "    if pred_y[0]['label'] == 'LABEL_2':\n",
    "        highest_score = 0\n",
    "    for z in range(512, len(x['text']), 512):\n",
    "        sliced_text = x['text'][z:(z+512)]\n",
    "        new_pred_y = classifier(sliced_text)\n",
    "        if new_pred_y[0]['label'] != 'LABEL_2':\n",
    "            if new_pred_y[0]['score'] > highest_score:\n",
    "                pred_y = new_pred_y\n",
    "                highest_score = new_pred_y[0]['score']\n",
    "    return pred_y[0]['label']"
   ]
  },
  {
   "cell_type": "code",
   "execution_count": 7,
   "id": "2eec1da8",
   "metadata": {},
   "outputs": [],
   "source": [
    "test['prediction'] = test.apply(lambda row: predict(row), axis=1)\n",
    "test['prediction'] = test['prediction'].str[-1]\n",
    "test['prediction'] = test['prediction'].astype('int')"
   ]
  },
  {
   "cell_type": "code",
   "execution_count": 8,
   "id": "b03fdc84",
   "metadata": {},
   "outputs": [
    {
     "data": {
      "image/png": "[encoded data removed]",
      "text/plain": [
       "<Figure size 640x480 with 2 Axes>"
      ]
     },
     "metadata": {},
     "output_type": "display_data"
    },
    {
     "name": "stdout",
     "output_type": "stream",
     "text": [
      "              precision    recall  f1-score   support\n",
      "\n",
      "           0       0.55      0.84      0.67       147\n",
      "           1       0.92      0.34      0.49       142\n",
      "           2       0.97      0.99      0.98       648\n",
      "           3       0.00      0.00      0.00         3\n",
      "\n",
      "    accuracy                           0.87       940\n",
      "   macro avg       0.61      0.54      0.54       940\n",
      "weighted avg       0.89      0.87      0.85       940\n",
      "\n"
     ]
    },
    {
     "name": "stderr",
     "output_type": "stream",
     "text": [
      "/home/hjmuizelaar/scriptie-310/lib/python3.10/site-packages/sklearn/metrics/_classification.py:1344: UndefinedMetricWarning: Precision and F-score are ill-defined and being set to 0.0 in labels with no predicted samples. Use `zero_division` parameter to control this behavior.\n",
      "  _warn_prf(average, modifier, msg_start, len(result))\n",
      "/home/hjmuizelaar/scriptie-310/lib/python3.10/site-packages/sklearn/metrics/_classification.py:1344: UndefinedMetricWarning: Precision and F-score are ill-defined and being set to 0.0 in labels with no predicted samples. Use `zero_division` parameter to control this behavior.\n",
      "  _warn_prf(average, modifier, msg_start, len(result))\n",
      "/home/hjmuizelaar/scriptie-310/lib/python3.10/site-packages/sklearn/metrics/_classification.py:1344: UndefinedMetricWarning: Precision and F-score are ill-defined and being set to 0.0 in labels with no predicted samples. Use `zero_division` parameter to control this behavior.\n",
      "  _warn_prf(average, modifier, msg_start, len(result))\n"
     ]
    }
   ],
   "source": [
    "from sklearn.metrics import confusion_matrix, ConfusionMatrixDisplay\n",
    "from sklearn import metrics\n",
    "import matplotlib.pyplot as plt\n",
    "\n",
    "cm = confusion_matrix(test['label'], test['prediction'])\n",
    "disp = ConfusionMatrixDisplay(confusion_matrix=cm)\n",
    "disp.plot()\n",
    "\n",
    "plt.show()\n",
    "print(metrics.classification_report(test['label'], test['prediction']))"
   ]
  },
  {
   "cell_type": "code",
   "execution_count": 9,
   "id": "b71972b0",
   "metadata": {},
   "outputs": [],
   "source": [
    "test.to_csv('hagalbert_alcohol_predictions.csv')"
   ]
  },
  {
   "cell_type": "code",
   "execution_count": null,
   "id": "56cd6e34",
   "metadata": {},
   "outputs": [],
   "source": []
  }
 ],
 "metadata": {
  "kernelspec": {
   "display_name": "scriptie-venv",
   "language": "python",
   "name": "scriptie-venv"
  },
  "language_info": {
   "codemirror_mode": {
    "name": "ipython",
    "version": 3
   },
   "file_extension": ".py",
   "mimetype": "text/x-python",
   "name": "python",
   "nbconvert_exporter": "python",
   "pygments_lexer": "ipython3",
   "version": "3.10.2"
  }
 },
 "nbformat": 4,
 "nbformat_minor": 5
}
