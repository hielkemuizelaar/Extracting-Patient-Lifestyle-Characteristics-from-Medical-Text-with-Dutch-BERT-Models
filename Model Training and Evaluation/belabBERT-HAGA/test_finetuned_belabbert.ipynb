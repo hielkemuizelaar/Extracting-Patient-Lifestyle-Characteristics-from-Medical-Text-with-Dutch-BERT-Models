{
 "cells": [
  {
   "cell_type": "code",
   "execution_count": 1,
   "id": "85165bd4",
   "metadata": {},
   "outputs": [],
   "source": [
    "import pandas as pd\n",
    "fhlo = pd.read_csv(\"../../input_data/fully_hand_labelled_output.csv\")"
   ]
  },
  {
   "cell_type": "code",
   "execution_count": 2,
   "id": "c8518e0f",
   "metadata": {},
   "outputs": [],
   "source": [
    "fhlo.Roken = fhlo.Roken.astype('category').cat.codes\n",
    "fhlo.Alcohol = fhlo.Alcohol.astype('category').cat.codes\n",
    "fhlo.Drugs = fhlo.Drugs.astype('category').cat.codes\n",
    "fhlo[\"label\"] = fhlo.Roken\n",
    "fhlo2 = fhlo[[\"text\", \"label\"]]"
   ]
  },
  {
   "cell_type": "code",
   "execution_count": 3,
   "id": "026a61dc",
   "metadata": {},
   "outputs": [],
   "source": [
    "train=fhlo2.sample(frac=0.8,random_state=200)\n",
    "test=fhlo2.drop(train.index)"
   ]
  },
  {
   "cell_type": "code",
   "execution_count": 4,
   "id": "9d6d0f46",
   "metadata": {},
   "outputs": [],
   "source": [
    "train.to_csv('train.csv')\n",
    "test.to_csv('test.csv')"
   ]
  },
  {
   "cell_type": "code",
   "execution_count": 5,
   "id": "d9613ca7",
   "metadata": {},
   "outputs": [
    {
     "data": {
      "application/vnd.jupyter.widget-view+json": {
       "model_id": "14bd3729bb3b456db2aa89b0e950cb9d",
       "version_major": 2,
       "version_minor": 0
      },
      "text/plain": [
       "Downloading (…)olve/main/vocab.json:   0%|          | 0.00/926k [00:00<?, ?B/s]"
      ]
     },
     "metadata": {},
     "output_type": "display_data"
    },
    {
     "data": {
      "application/vnd.jupyter.widget-view+json": {
       "model_id": "573d819090b54d9d858e18b3913b9ce4",
       "version_major": 2,
       "version_minor": 0
      },
      "text/plain": [
       "Downloading (…)olve/main/merges.txt:   0%|          | 0.00/486k [00:00<?, ?B/s]"
      ]
     },
     "metadata": {},
     "output_type": "display_data"
    },
    {
     "data": {
      "application/vnd.jupyter.widget-view+json": {
       "model_id": "9f7f0c0df0d64ed2a4e85f04454bcdff",
       "version_major": 2,
       "version_minor": 0
      },
      "text/plain": [
       "Downloading (…)cial_tokens_map.json:   0%|          | 0.00/772 [00:00<?, ?B/s]"
      ]
     },
     "metadata": {},
     "output_type": "display_data"
    },
    {
     "data": {
      "application/vnd.jupyter.widget-view+json": {
       "model_id": "bc6e29199b7f47c4a4db3c86bf72262a",
       "version_major": 2,
       "version_minor": 0
      },
      "text/plain": [
       "Downloading (…)okenizer_config.json:   0%|          | 0.00/78.0 [00:00<?, ?B/s]"
      ]
     },
     "metadata": {},
     "output_type": "display_data"
    },
    {
     "data": {
      "application/vnd.jupyter.widget-view+json": {
       "model_id": "2212b0c8579e4b7b880cd36b91b5c349",
       "version_major": 2,
       "version_minor": 0
      },
      "text/plain": [
       "Downloading (…)lve/main/config.json:   0%|          | 0.00/516 [00:00<?, ?B/s]"
      ]
     },
     "metadata": {},
     "output_type": "display_data"
    }
   ],
   "source": [
    "from transformers import RobertaTokenizer, RobertaForMaskedLM, RobertaForSequenceClassification, AdamW, DataCollatorForLanguageModeling, Trainer, TrainingArguments\n",
    "\n",
    "tokenizer = RobertaTokenizer.from_pretrained(\"jwouts/belabBERT_115k\")"
   ]
  },
  {
   "cell_type": "code",
   "execution_count": 6,
   "id": "8839d545",
   "metadata": {},
   "outputs": [
    {
     "data": {
      "application/vnd.jupyter.widget-view+json": {
       "model_id": "6e34b3ed32f84105b70615a4eca0d9c9",
       "version_major": 2,
       "version_minor": 0
      },
      "text/plain": [
       "Downloading (…)lve/main/config.json:   0%|          | 0.00/971 [00:01<?, ?B/s]"
      ]
     },
     "metadata": {},
     "output_type": "display_data"
    },
    {
     "data": {
      "application/vnd.jupyter.widget-view+json": {
       "model_id": "4acda9d3a1c5486e856de3681a1a9d35",
       "version_major": 2,
       "version_minor": 0
      },
      "text/plain": [
       "Downloading pytorch_model.bin:   0%|          | 0.00/498M [00:00<?, ?B/s]"
      ]
     },
     "metadata": {},
     "output_type": "display_data"
    }
   ],
   "source": [
    "from transformers import pipeline\n",
    "classifier = pipeline(\"sentiment-analysis\", model=\"Hielke/finetuned_belabBERT\", tokenizer=tokenizer)\n"
   ]
  },
  {
   "cell_type": "code",
   "execution_count": 7,
   "id": "c555bb2c",
   "metadata": {},
   "outputs": [
    {
     "data": {
      "text/plain": [
       "[{'label': 'LABEL_3', 'score': 0.6307642459869385}]"
      ]
     },
     "execution_count": 7,
     "metadata": {},
     "output_type": "execute_result"
    }
   ],
   "source": [
    "test_text = \"17.\troken: + gestopt sinds april, rookte voorheen 2 sigaretten per dag; Gaat erg goed.\"\n",
    "classifier(test_text)"
   ]
  },
  {
   "cell_type": "code",
   "execution_count": 8,
   "id": "bc7d42eb",
   "metadata": {},
   "outputs": [],
   "source": [
    "def predict(x):\n",
    "    pred_y = classifier(x['text'][:512])\n",
    "    if len(x['text']) <= 512:\n",
    "        return pred_y[0]['label']\n",
    "    highest_score = pred_y[0]['score']\n",
    "    if pred_y[0]['label'] == 'LABEL_2':\n",
    "        highest_score = 0\n",
    "    for z in range(512, len(x['text']), 512):\n",
    "        sliced_text = x['text'][z:(z+512)]\n",
    "        new_pred_y = classifier(sliced_text)\n",
    "        if new_pred_y[0]['label'] != 'LABEL_2':\n",
    "            if new_pred_y[0]['score'] > highest_score:\n",
    "                pred_y = new_pred_y\n",
    "                highest_score = new_pred_y[0]['score']\n",
    "    return pred_y[0]['label']"
   ]
  },
  {
   "cell_type": "code",
   "execution_count": 9,
   "id": "5da33686",
   "metadata": {},
   "outputs": [],
   "source": [
    "test['prediction'] = test.apply(lambda row: predict(row), axis=1)\n",
    "test['prediction'] = test['prediction'].str[-1]\n",
    "test['prediction'] = test['prediction'].astype('int')"
   ]
  },
  {
   "cell_type": "code",
   "execution_count": 10,
   "id": "83a03602",
   "metadata": {},
   "outputs": [
    {
     "data": {
      "image/png": "[encoded data removed]",
      "text/plain": [
       "<Figure size 640x480 with 2 Axes>"
      ]
     },
     "metadata": {},
     "output_type": "display_data"
    },
    {
     "name": "stdout",
     "output_type": "stream",
     "text": [
      "              precision    recall  f1-score   support\n",
      "\n",
      "           0       0.67      0.05      0.09        83\n",
      "           1       0.00      0.00      0.00        38\n",
      "           2       0.84      0.98      0.90       611\n",
      "           3       0.91      0.94      0.92       208\n",
      "\n",
      "    accuracy                           0.85       940\n",
      "   macro avg       0.60      0.49      0.48       940\n",
      "weighted avg       0.80      0.85      0.80       940\n",
      "\n"
     ]
    },
    {
     "name": "stderr",
     "output_type": "stream",
     "text": [
      "/home/hjmuizelaar/scriptie-310/lib/python3.10/site-packages/sklearn/metrics/_classification.py:1344: UndefinedMetricWarning: Precision and F-score are ill-defined and being set to 0.0 in labels with no predicted samples. Use `zero_division` parameter to control this behavior.\n",
      "  _warn_prf(average, modifier, msg_start, len(result))\n",
      "/home/hjmuizelaar/scriptie-310/lib/python3.10/site-packages/sklearn/metrics/_classification.py:1344: UndefinedMetricWarning: Precision and F-score are ill-defined and being set to 0.0 in labels with no predicted samples. Use `zero_division` parameter to control this behavior.\n",
      "  _warn_prf(average, modifier, msg_start, len(result))\n",
      "/home/hjmuizelaar/scriptie-310/lib/python3.10/site-packages/sklearn/metrics/_classification.py:1344: UndefinedMetricWarning: Precision and F-score are ill-defined and being set to 0.0 in labels with no predicted samples. Use `zero_division` parameter to control this behavior.\n",
      "  _warn_prf(average, modifier, msg_start, len(result))\n"
     ]
    }
   ],
   "source": [
    "from sklearn.metrics import confusion_matrix, ConfusionMatrixDisplay\n",
    "from sklearn import metrics\n",
    "import matplotlib.pyplot as plt\n",
    "\n",
    "cm = confusion_matrix(test['label'], test['prediction'])\n",
    "disp = ConfusionMatrixDisplay(confusion_matrix=cm)\n",
    "disp.plot()\n",
    "\n",
    "plt.show()\n",
    "print(metrics.classification_report(test['label'], test['prediction']))"
   ]
  },
  {
   "cell_type": "code",
   "execution_count": 11,
   "id": "1ec29a3c",
   "metadata": {},
   "outputs": [],
   "source": [
    "test.to_csv('belabbert-haga_smoking_predictions.csv')"
   ]
  },
  {
   "cell_type": "code",
   "execution_count": null,
   "id": "478ab78d",
   "metadata": {},
   "outputs": [],
   "source": []
  }
 ],
 "metadata": {
  "kernelspec": {
   "display_name": "scriptie-venv",
   "language": "python",
   "name": "scriptie-venv"
  },
  "language_info": {
   "codemirror_mode": {
    "name": "ipython",
    "version": 3
   },
   "file_extension": ".py",
   "mimetype": "text/x-python",
   "name": "python",
   "nbconvert_exporter": "python",
   "pygments_lexer": "ipython3",
   "version": "3.10.2"
  }
 },
 "nbformat": 4,
 "nbformat_minor": 5
}
