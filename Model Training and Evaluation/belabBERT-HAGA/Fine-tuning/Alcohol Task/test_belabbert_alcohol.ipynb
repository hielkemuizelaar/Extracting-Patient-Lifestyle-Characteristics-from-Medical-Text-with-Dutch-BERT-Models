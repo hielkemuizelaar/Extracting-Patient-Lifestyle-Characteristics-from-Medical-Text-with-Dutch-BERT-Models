{
 "cells": [
  {
   "cell_type": "code",
   "execution_count": 2,
   "id": "a2c92b19",
   "metadata": {},
   "outputs": [],
   "source": [
    "import pandas as pd\n",
    "fhlo = pd.read_csv(\"../../../input_data/fully_hand_labelled_output.csv\")"
   ]
  },
  {
   "cell_type": "code",
   "execution_count": 3,
   "id": "6bb49383",
   "metadata": {},
   "outputs": [],
   "source": [
    "fhlo.Roken = fhlo.Roken.astype('category').cat.codes\n",
    "fhlo.Alcohol = fhlo.Alcohol.astype('category').cat.codes\n",
    "fhlo.Drugs = fhlo.Drugs.astype('category').cat.codes\n",
    "fhlo[\"label\"] = fhlo.Alcohol\n",
    "fhlo2 = fhlo[[\"text\", \"label\"]]"
   ]
  },
  {
   "cell_type": "code",
   "execution_count": 4,
   "id": "7681dd84",
   "metadata": {},
   "outputs": [],
   "source": [
    "train=fhlo2.sample(frac=0.8,random_state=200)\n",
    "test=fhlo2.drop(train.index)"
   ]
  },
  {
   "cell_type": "code",
   "execution_count": 5,
   "id": "a640d8b0",
   "metadata": {},
   "outputs": [],
   "source": [
    "train.to_csv('train.csv')\n",
    "test.to_csv('test.csv')"
   ]
  },
  {
   "cell_type": "code",
   "execution_count": 6,
   "id": "48ff2571",
   "metadata": {},
   "outputs": [
    {
     "data": {
      "application/vnd.jupyter.widget-view+json": {
       "model_id": "8741829e425a4190a0ebef72a24f37f6",
       "version_major": 2,
       "version_minor": 0
      },
      "text/plain": [
       "Downloading (…)olve/main/vocab.json:   0%|          | 0.00/926k [00:00<?, ?B/s]"
      ]
     },
     "metadata": {},
     "output_type": "display_data"
    },
    {
     "data": {
      "application/vnd.jupyter.widget-view+json": {
       "model_id": "886fd377b4db4c88986d6976af5f03a3",
       "version_major": 2,
       "version_minor": 0
      },
      "text/plain": [
       "Downloading (…)olve/main/merges.txt:   0%|          | 0.00/486k [00:00<?, ?B/s]"
      ]
     },
     "metadata": {},
     "output_type": "display_data"
    },
    {
     "data": {
      "application/vnd.jupyter.widget-view+json": {
       "model_id": "39ba7cff880d4b0e8b6761020c66779f",
       "version_major": 2,
       "version_minor": 0
      },
      "text/plain": [
       "Downloading (…)cial_tokens_map.json:   0%|          | 0.00/772 [00:00<?, ?B/s]"
      ]
     },
     "metadata": {},
     "output_type": "display_data"
    },
    {
     "data": {
      "application/vnd.jupyter.widget-view+json": {
       "model_id": "fe3d2f8de54944b58c0b19460992887e",
       "version_major": 2,
       "version_minor": 0
      },
      "text/plain": [
       "Downloading (…)okenizer_config.json:   0%|          | 0.00/78.0 [00:00<?, ?B/s]"
      ]
     },
     "metadata": {},
     "output_type": "display_data"
    },
    {
     "data": {
      "application/vnd.jupyter.widget-view+json": {
       "model_id": "db05e749b7d5454092ada5bd43c66de4",
       "version_major": 2,
       "version_minor": 0
      },
      "text/plain": [
       "Downloading (…)lve/main/config.json:   0%|          | 0.00/516 [00:00<?, ?B/s]"
      ]
     },
     "metadata": {},
     "output_type": "display_data"
    }
   ],
   "source": [
    "from transformers import RobertaTokenizer, RobertaForMaskedLM, RobertaForSequenceClassification, AdamW, DataCollatorForLanguageModeling, Trainer, TrainingArguments\n",
    "\n",
    "tokenizer = RobertaTokenizer.from_pretrained(\"jwouts/belabBERT_115k\")"
   ]
  },
  {
   "cell_type": "code",
   "execution_count": 7,
   "id": "2dd9a964",
   "metadata": {},
   "outputs": [
    {
     "data": {
      "application/vnd.jupyter.widget-view+json": {
       "model_id": "692ea60f42614c2c8074064c75693a9f",
       "version_major": 2,
       "version_minor": 0
      },
      "text/plain": [
       "Downloading (…)lve/main/config.json:   0%|          | 0.00/971 [00:00<?, ?B/s]"
      ]
     },
     "metadata": {},
     "output_type": "display_data"
    },
    {
     "data": {
      "application/vnd.jupyter.widget-view+json": {
       "model_id": "efa7d7d1bc9b4753b5c256ec51bab34e",
       "version_major": 2,
       "version_minor": 0
      },
      "text/plain": [
       "Downloading pytorch_model.bin:   0%|          | 0.00/498M [00:00<?, ?B/s]"
      ]
     },
     "metadata": {},
     "output_type": "display_data"
    }
   ],
   "source": [
    "from transformers import pipeline\n",
    "classifier = pipeline(\"sentiment-analysis\", model=\"Hielke/finetuned_belabBERT_alcohol\", tokenizer=tokenizer)\n"
   ]
  },
  {
   "cell_type": "code",
   "execution_count": 8,
   "id": "d4e779de",
   "metadata": {},
   "outputs": [],
   "source": [
    "def predict(x):\n",
    "    pred_y = classifier(x['text'][:512])\n",
    "    if len(x['text']) <= 512:\n",
    "        return pred_y[0]['label']\n",
    "    highest_score = pred_y[0]['score']\n",
    "    if pred_y[0]['label'] == 'LABEL_2':\n",
    "        highest_score = 0\n",
    "    for z in range(512, len(x['text']), 512):\n",
    "        sliced_text = x['text'][z:(z+512)]\n",
    "        new_pred_y = classifier(sliced_text)\n",
    "        if new_pred_y[0]['label'] != 'LABEL_2':\n",
    "            if new_pred_y[0]['score'] > highest_score:\n",
    "                pred_y = new_pred_y\n",
    "                highest_score = new_pred_y[0]['score']\n",
    "    return pred_y[0]['label']"
   ]
  },
  {
   "cell_type": "code",
   "execution_count": 9,
   "id": "b8711c6c",
   "metadata": {},
   "outputs": [],
   "source": [
    "test['prediction'] = test.apply(lambda row: predict(row), axis=1)\n",
    "test['prediction'] = test['prediction'].str[-1]\n",
    "test['prediction'] = test['prediction'].astype('int')"
   ]
  },
  {
   "cell_type": "code",
   "execution_count": 10,
   "id": "abdd36b5",
   "metadata": {},
   "outputs": [
    {
     "data": {
      "image/png": "[encoded data removed]",
      "text/plain": [
       "<Figure size 640x480 with 2 Axes>"
      ]
     },
     "metadata": {},
     "output_type": "display_data"
    },
    {
     "name": "stdout",
     "output_type": "stream",
     "text": [
      "              precision    recall  f1-score   support\n",
      "\n",
      "           0       0.74      0.78      0.76       147\n",
      "           1       0.82      0.82      0.82       142\n",
      "           2       0.99      0.98      0.98       648\n",
      "           3       0.00      0.00      0.00         3\n",
      "\n",
      "    accuracy                           0.92       940\n",
      "   macro avg       0.64      0.64      0.64       940\n",
      "weighted avg       0.92      0.92      0.92       940\n",
      "\n"
     ]
    },
    {
     "name": "stderr",
     "output_type": "stream",
     "text": [
      "/home/hjmuizelaar/scriptie-310/lib/python3.10/site-packages/sklearn/metrics/_classification.py:1344: UndefinedMetricWarning: Precision and F-score are ill-defined and being set to 0.0 in labels with no predicted samples. Use `zero_division` parameter to control this behavior.\n",
      "  _warn_prf(average, modifier, msg_start, len(result))\n",
      "/home/hjmuizelaar/scriptie-310/lib/python3.10/site-packages/sklearn/metrics/_classification.py:1344: UndefinedMetricWarning: Precision and F-score are ill-defined and being set to 0.0 in labels with no predicted samples. Use `zero_division` parameter to control this behavior.\n",
      "  _warn_prf(average, modifier, msg_start, len(result))\n",
      "/home/hjmuizelaar/scriptie-310/lib/python3.10/site-packages/sklearn/metrics/_classification.py:1344: UndefinedMetricWarning: Precision and F-score are ill-defined and being set to 0.0 in labels with no predicted samples. Use `zero_division` parameter to control this behavior.\n",
      "  _warn_prf(average, modifier, msg_start, len(result))\n"
     ]
    }
   ],
   "source": [
    "from sklearn.metrics import confusion_matrix, ConfusionMatrixDisplay\n",
    "from sklearn import metrics\n",
    "import matplotlib.pyplot as plt\n",
    "\n",
    "cm = confusion_matrix(test['label'], test['prediction'])\n",
    "disp = ConfusionMatrixDisplay(confusion_matrix=cm)\n",
    "disp.plot()\n",
    "\n",
    "plt.show()\n",
    "print(metrics.classification_report(test['label'], test['prediction']))"
   ]
  },
  {
   "cell_type": "code",
   "execution_count": null,
   "id": "9062407e",
   "metadata": {},
   "outputs": [],
   "source": []
  }
 ],
 "metadata": {
  "kernelspec": {
   "display_name": "scriptie-venv",
   "language": "python",
   "name": "scriptie-venv"
  },
  "language_info": {
   "codemirror_mode": {
    "name": "ipython",
    "version": 3
   },
   "file_extension": ".py",
   "mimetype": "text/x-python",
   "name": "python",
   "nbconvert_exporter": "python",
   "pygments_lexer": "ipython3",
   "version": "3.10.2"
  }
 },
 "nbformat": 4,
 "nbformat_minor": 5
}
