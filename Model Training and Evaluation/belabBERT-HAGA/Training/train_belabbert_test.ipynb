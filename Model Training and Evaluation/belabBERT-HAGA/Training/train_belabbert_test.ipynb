{
 "cells": [
  {
   "cell_type": "code",
   "execution_count": 1,
   "id": "081b9b29",
   "metadata": {},
   "outputs": [],
   "source": [
    "from transformers import RobertaTokenizer, RobertaForMaskedLM, RobertaForSequenceClassification, AdamW, DataCollatorForLanguageModeling, Trainer, TrainingArguments\n",
    "from datasets import Dataset, DatasetDict, concatenate_datasets\n",
    "import pandas as pd"
   ]
  },
  {
   "cell_type": "code",
   "execution_count": 2,
   "id": "3ee77589",
   "metadata": {},
   "outputs": [
    {
     "data": {
      "application/vnd.jupyter.widget-view+json": {
       "model_id": "a1cf6903048e4bf792170a85ac134b06",
       "version_major": 2,
       "version_minor": 0
      },
      "text/plain": [
       "Downloading (…)olve/main/vocab.json:   0%|          | 0.00/926k [00:00<?, ?B/s]"
      ]
     },
     "metadata": {},
     "output_type": "display_data"
    },
    {
     "data": {
      "application/vnd.jupyter.widget-view+json": {
       "model_id": "d26ff63ce5da44928f3edce9ac8510e0",
       "version_major": 2,
       "version_minor": 0
      },
      "text/plain": [
       "Downloading (…)olve/main/merges.txt:   0%|          | 0.00/486k [00:00<?, ?B/s]"
      ]
     },
     "metadata": {},
     "output_type": "display_data"
    },
    {
     "data": {
      "application/vnd.jupyter.widget-view+json": {
       "model_id": "909e54ab45014abc8747adcffe45abfe",
       "version_major": 2,
       "version_minor": 0
      },
      "text/plain": [
       "Downloading (…)cial_tokens_map.json:   0%|          | 0.00/772 [00:00<?, ?B/s]"
      ]
     },
     "metadata": {},
     "output_type": "display_data"
    },
    {
     "data": {
      "application/vnd.jupyter.widget-view+json": {
       "model_id": "e963a8a0da8e4ddab5dfc4eac336218f",
       "version_major": 2,
       "version_minor": 0
      },
      "text/plain": [
       "Downloading (…)okenizer_config.json:   0%|          | 0.00/78.0 [00:00<?, ?B/s]"
      ]
     },
     "metadata": {},
     "output_type": "display_data"
    },
    {
     "data": {
      "application/vnd.jupyter.widget-view+json": {
       "model_id": "7fc9775d2ef14334bcdecb449d243dc1",
       "version_major": 2,
       "version_minor": 0
      },
      "text/plain": [
       "Downloading (…)lve/main/config.json:   0%|          | 0.00/516 [00:00<?, ?B/s]"
      ]
     },
     "metadata": {},
     "output_type": "display_data"
    },
    {
     "data": {
      "application/vnd.jupyter.widget-view+json": {
       "model_id": "5215fe7957a040a5b7e1800e120316fa",
       "version_major": 2,
       "version_minor": 0
      },
      "text/plain": [
       "Downloading pytorch_model.bin:   0%|          | 0.00/500M [00:00<?, ?B/s]"
      ]
     },
     "metadata": {},
     "output_type": "display_data"
    }
   ],
   "source": [
    "tokenizer = RobertaTokenizer.from_pretrained(\"jwouts/belabBERT_115k\")\n",
    "model = RobertaForMaskedLM.from_pretrained(\"jwouts/belabBERT_115k\")"
   ]
  },
  {
   "cell_type": "code",
   "execution_count": null,
   "id": "6ebc58e2",
   "metadata": {},
   "outputs": [],
   "source": [
    "with open('../../input_data/train.sliding.full.txt') as f:\n",
    "        train_lines = f.readlines()\n",
    "    train_lines_df = pd.DataFrame(train_lines)\n",
    "    train_lines_df = train_lines_df.rename(columns={0: 'text'})\n",
    "    train_dataset = Dataset.from_pandas(train_lines_df)\n",
    "    with open('../../input_data/eval.sliding.full.txt') as f:\n",
    "        eval_lines = f.readlines()\n",
    "    eval_lines_df = pd.DataFrame(eval_lines)\n",
    "    eval_lines_df = eval_lines_df.rename(columns={0: 'text'})\n",
    "    eval_dataset = Dataset.from_pandas(eval_lines_df)\n",
    "\n",
    "    raw_datasets = concatenate_datasets([train_dataset, eval_dataset])\n",
    "    tokenized_datasets = raw_datasets.map(tokenize_function, batched=True)\n",
    "    data_collator = DataCollatorForLanguageModeling(tokenizer, mlm=True)\n",
    "    model.train() \n",
    "    optimizer = AdamW(model.parameters(), lr=1e-5)\n",
    "    tokenized_datasets_split = tokenized_datasets.train_test_split(test_size=0.2)\n",
    "    args = TrainingArguments(\n",
    "        output_dir=\"RobBERT-HAGA\",\n",
    "        per_device_train_batch_size=32,\n",
    "        per_device_eval_batch_size=32,\n",
    "        evaluation_strategy=\"steps\",\n",
    "        eval_steps=5_000,\n",
    "        logging_steps=5_000,\n",
    "        gradient_accumulation_steps=8,\n",
    "        max_steps=125_000,\n",
    "        weight_decay=0.1,\n",
    "        warmup_steps=1_000,\n",
    "        lr_scheduler_type=\"cosine\",\n",
    "        learning_rate=5e-4,\n",
    "        save_steps=5_000,\n",
    "        fp16=True,\n",
    "        push_to_hub=True,\n",
    "    )\n",
    "    trainer = Trainer(\n",
    "        model=model,\n",
    "        tokenizer=tokenizer,\n",
    "        args=args,\n",
    "        data_collator=data_collator,\n",
    "        train_dataset=tokenized_datasets_split[\"train\"],\n",
    "        eval_dataset=tokenized_datasets_split[\"test\"],\n",
    "    )"
   ]
  }
 ],
 "metadata": {
  "kernelspec": {
   "display_name": "scriptie-venv",
   "language": "python",
   "name": "scriptie-venv"
  },
  "language_info": {
   "codemirror_mode": {
    "name": "ipython",
    "version": 3
   },
   "file_extension": ".py",
   "mimetype": "text/x-python",
   "name": "python",
   "nbconvert_exporter": "python",
   "pygments_lexer": "ipython3",
   "version": "3.10.2"
  }
 },
 "nbformat": 4,
 "nbformat_minor": 5
}
