{
 "cells": [
  {
   "cell_type": "code",
   "execution_count": 1,
   "id": "a8ac17ad",
   "metadata": {},
   "outputs": [],
   "source": [
    "import pandas as pd\n",
    "fhlo = pd.read_csv(\"../../input_data/fully_hand_labelled_output.csv\")"
   ]
  },
  {
   "cell_type": "code",
   "execution_count": 2,
   "id": "59ae719c",
   "metadata": {},
   "outputs": [],
   "source": [
    "fhlo.Roken = fhlo.Roken.astype('category').cat.codes\n",
    "fhlo.Alcohol = fhlo.Alcohol.astype('category').cat.codes\n",
    "fhlo.Drugs = fhlo.Drugs.astype('category').cat.codes\n",
    "fhlo[\"label\"] = fhlo.Roken\n",
    "fhlo2 = fhlo[[\"text\", \"label\"]]"
   ]
  },
  {
   "cell_type": "code",
   "execution_count": 3,
   "id": "b7f6309c",
   "metadata": {},
   "outputs": [],
   "source": [
    "train=fhlo2.sample(frac=0.8,random_state=200)\n",
    "test=fhlo2.drop(train.index)"
   ]
  },
  {
   "cell_type": "code",
   "execution_count": 4,
   "id": "ae5426ff",
   "metadata": {},
   "outputs": [],
   "source": [
    "train.to_csv('train.csv')\n",
    "test.to_csv('test.csv')"
   ]
  },
  {
   "cell_type": "code",
   "execution_count": 5,
   "id": "f00d8a0f",
   "metadata": {},
   "outputs": [
    {
     "name": "stdout",
     "output_type": "stream",
     "text": [
      "Downloading and preparing dataset csv/default to /home/hjmuizelaar/.cache/huggingface/datasets/csv/default-bbc7b1379ec86ccb/0.0.0/6954658bab30a358235fa864b05cf819af0e179325c740e4bc853bcc7ec513e1...\n"
     ]
    },
    {
     "data": {
      "application/vnd.jupyter.widget-view+json": {
       "model_id": "d23babec13dc4686b418872c9c8c68b9",
       "version_major": 2,
       "version_minor": 0
      },
      "text/plain": [
       "Downloading data files:   0%|          | 0/1 [00:00<?, ?it/s]"
      ]
     },
     "metadata": {},
     "output_type": "display_data"
    },
    {
     "data": {
      "application/vnd.jupyter.widget-view+json": {
       "model_id": "926644b15d6e4932a7612bdca0d7adba",
       "version_major": 2,
       "version_minor": 0
      },
      "text/plain": [
       "Extracting data files:   0%|          | 0/1 [00:00<?, ?it/s]"
      ]
     },
     "metadata": {},
     "output_type": "display_data"
    },
    {
     "data": {
      "application/vnd.jupyter.widget-view+json": {
       "model_id": "",
       "version_major": 2,
       "version_minor": 0
      },
      "text/plain": [
       "Generating train split: 0 examples [00:00, ? examples/s]"
      ]
     },
     "metadata": {},
     "output_type": "display_data"
    },
    {
     "name": "stdout",
     "output_type": "stream",
     "text": [
      "Dataset csv downloaded and prepared to /home/hjmuizelaar/.cache/huggingface/datasets/csv/default-bbc7b1379ec86ccb/0.0.0/6954658bab30a358235fa864b05cf819af0e179325c740e4bc853bcc7ec513e1. Subsequent calls will reuse this data.\n"
     ]
    },
    {
     "data": {
      "application/vnd.jupyter.widget-view+json": {
       "model_id": "c26745e710a246ad917057b1f8fd4aa7",
       "version_major": 2,
       "version_minor": 0
      },
      "text/plain": [
       "  0%|          | 0/1 [00:00<?, ?it/s]"
      ]
     },
     "metadata": {},
     "output_type": "display_data"
    }
   ],
   "source": [
    "from datasets import load_dataset\n",
    "\n",
    "dataset = load_dataset(\n",
    "  'csv',\n",
    "  data_files=['test.csv'],\n",
    "  delimiter=\",\",\n",
    "  column_names=['text', 'label'],\n",
    "  skiprows=[0, 1583]\n",
    ")"
   ]
  },
  {
   "cell_type": "code",
   "execution_count": 7,
   "id": "fc31730d",
   "metadata": {},
   "outputs": [
    {
     "data": {
      "application/vnd.jupyter.widget-view+json": {
       "model_id": "f6e43ab0346c443fbc5b2df57b991841",
       "version_major": 2,
       "version_minor": 0
      },
      "text/plain": [
       "Downloading (…)olve/main/vocab.json:   0%|          | 0.00/733k [00:00<?, ?B/s]"
      ]
     },
     "metadata": {},
     "output_type": "display_data"
    },
    {
     "data": {
      "application/vnd.jupyter.widget-view+json": {
       "model_id": "c9f4dbe8df984dd6a1a90870b9cd1ca4",
       "version_major": 2,
       "version_minor": 0
      },
      "text/plain": [
       "Downloading (…)olve/main/merges.txt:   0%|          | 0.00/383k [00:00<?, ?B/s]"
      ]
     },
     "metadata": {},
     "output_type": "display_data"
    },
    {
     "data": {
      "application/vnd.jupyter.widget-view+json": {
       "model_id": "92b42651740847f1bfe6730988640019",
       "version_major": 2,
       "version_minor": 0
      },
      "text/plain": [
       "Downloading (…)cial_tokens_map.json:   0%|          | 0.00/239 [00:00<?, ?B/s]"
      ]
     },
     "metadata": {},
     "output_type": "display_data"
    },
    {
     "data": {
      "application/vnd.jupyter.widget-view+json": {
       "model_id": "63bde25bf218493492ac58ce2c4c05f9",
       "version_major": 2,
       "version_minor": 0
      },
      "text/plain": [
       "Downloading (…)okenizer_config.json:   0%|          | 0.00/1.14k [00:00<?, ?B/s]"
      ]
     },
     "metadata": {},
     "output_type": "display_data"
    },
    {
     "data": {
      "application/vnd.jupyter.widget-view+json": {
       "model_id": "75cbb9ee7ff249488705ac5387cbfc61",
       "version_major": 2,
       "version_minor": 0
      },
      "text/plain": [
       "Downloading (…)lve/main/config.json:   0%|          | 0.00/660 [00:00<?, ?B/s]"
      ]
     },
     "metadata": {},
     "output_type": "display_data"
    }
   ],
   "source": [
    "from transformers import RobertaTokenizer, RobertaForMaskedLM, RobertaForSequenceClassification, AdamW, DataCollatorForLanguageModeling, Trainer, TrainingArguments\n",
    "\n",
    "tokenizer = RobertaTokenizer.from_pretrained(\"pdelobelle/robbert-v2-dutch-base\")"
   ]
  },
  {
   "cell_type": "code",
   "execution_count": 8,
   "id": "2b52ccfe",
   "metadata": {},
   "outputs": [
    {
     "data": {
      "application/vnd.jupyter.widget-view+json": {
       "model_id": "fa71caa6074a43758cc7dd3b80df2f04",
       "version_major": 2,
       "version_minor": 0
      },
      "text/plain": [
       "Downloading (…)lve/main/config.json:   0%|          | 0.00/992 [00:00<?, ?B/s]"
      ]
     },
     "metadata": {},
     "output_type": "display_data"
    },
    {
     "data": {
      "application/vnd.jupyter.widget-view+json": {
       "model_id": "50be866f79914f0b9b52fac2a1ce6247",
       "version_major": 2,
       "version_minor": 0
      },
      "text/plain": [
       "Downloading pytorch_model.bin:   0%|          | 0.00/467M [00:00<?, ?B/s]"
      ]
     },
     "metadata": {},
     "output_type": "display_data"
    },
    {
     "data": {
      "application/vnd.jupyter.widget-view+json": {
       "model_id": "103f59fe15d6457bad5411424dabcd6a",
       "version_major": 2,
       "version_minor": 0
      },
      "text/plain": [
       "Downloading (…)/main/tokenizer.json:   0%|          | 0.00/1.12M [00:00<?, ?B/s]"
      ]
     },
     "metadata": {},
     "output_type": "display_data"
    }
   ],
   "source": [
    "from transformers import pipeline\n",
    "classifier = pipeline(\"sentiment-analysis\", model=\"Hielke/finetuned_RobBERT\", tokenizer=\"pdelobelle/robbert-v2-dutch-base\")\n"
   ]
  },
  {
   "cell_type": "code",
   "execution_count": 18,
   "id": "4ff473d7",
   "metadata": {},
   "outputs": [
    {
     "data": {
      "text/plain": [
       "[{'label': 'LABEL_3', 'score': 0.9969111084938049}]"
      ]
     },
     "execution_count": 18,
     "metadata": {},
     "output_type": "execute_result"
    }
   ],
   "source": [
    "test_text = \"17.\troken: + gestopt sinds april, rookte voorheen 2 sigaretten per dag; Gaat erg goed.\"\n",
    "classifier(test_text)"
   ]
  },
  {
   "cell_type": "code",
   "execution_count": 19,
   "id": "6f204a5c",
   "metadata": {},
   "outputs": [
    {
     "data": {
      "text/html": [
       "<div>\n",
       "<style scoped>\n",
       "    .dataframe tbody tr th:only-of-type {\n",
       "        vertical-align: middle;\n",
       "    }\n",
       "\n",
       "    .dataframe tbody tr th {\n",
       "        vertical-align: top;\n",
       "    }\n",
       "\n",
       "    .dataframe thead th {\n",
       "        text-align: right;\n",
       "    }\n",
       "</style>\n",
       "<table border=\"1\" class=\"dataframe\">\n",
       "  <thead>\n",
       "    <tr style=\"text-align: right;\">\n",
       "      <th></th>\n",
       "      <th>text</th>\n",
       "      <th>label</th>\n",
       "    </tr>\n",
       "  </thead>\n",
       "  <tbody>\n",
       "    <tr>\n",
       "      <th>2</th>\n",
       "      <td>Conclusie: \\tNormale nacontrole. Kijkt goed te...</td>\n",
       "      <td>2</td>\n",
       "    </tr>\n",
       "    <tr>\n",
       "      <th>17</th>\n",
       "      <td>Conclusie: \\tSamenvatting ABCDE: ICC bij traum...</td>\n",
       "      <td>2</td>\n",
       "    </tr>\n",
       "    <tr>\n",
       "      <th>37</th>\n",
       "      <td>Beloop: \\tStaat gepland voor TC, echter nummer...</td>\n",
       "      <td>2</td>\n",
       "    </tr>\n",
       "    <tr>\n",
       "      <th>40</th>\n",
       "      <td>Beloop: \\tLab belt: materiaal van 24-uurs urin...</td>\n",
       "      <td>2</td>\n",
       "    </tr>\n",
       "    <tr>\n",
       "      <th>48</th>\n",
       "      <td>Beloop: \\tBeloop: Reguliere controle na ACDF C...</td>\n",
       "      <td>1</td>\n",
       "    </tr>\n",
       "    <tr>\n",
       "      <th>...</th>\n",
       "      <td>...</td>\n",
       "      <td>...</td>\n",
       "    </tr>\n",
       "    <tr>\n",
       "      <th>4678</th>\n",
       "      <td>Samenvatting: \\tVoorgeschiedenis: in verleden ...</td>\n",
       "      <td>0</td>\n",
       "    </tr>\n",
       "    <tr>\n",
       "      <th>4682</th>\n",
       "      <td>Anamnese: \\tNog steeds hielspoor links, heeft ...</td>\n",
       "      <td>0</td>\n",
       "    </tr>\n",
       "    <tr>\n",
       "      <th>4688</th>\n",
       "      <td>Reden van komst / Verwijzing: \\tReden verwijzi...</td>\n",
       "      <td>0</td>\n",
       "    </tr>\n",
       "    <tr>\n",
       "      <th>4691</th>\n",
       "      <td>Anamnese: \\t Verkort consult: Aandachtspunten ...</td>\n",
       "      <td>1</td>\n",
       "    </tr>\n",
       "    <tr>\n",
       "      <th>4699</th>\n",
       "      <td>Reden van komst / Verwijzing: \\tReden van koms...</td>\n",
       "      <td>0</td>\n",
       "    </tr>\n",
       "  </tbody>\n",
       "</table>\n",
       "<p>940 rows × 2 columns</p>\n",
       "</div>"
      ],
      "text/plain": [
       "                                                   text  label\n",
       "2     Conclusie: \\tNormale nacontrole. Kijkt goed te...      2\n",
       "17    Conclusie: \\tSamenvatting ABCDE: ICC bij traum...      2\n",
       "37    Beloop: \\tStaat gepland voor TC, echter nummer...      2\n",
       "40    Beloop: \\tLab belt: materiaal van 24-uurs urin...      2\n",
       "48    Beloop: \\tBeloop: Reguliere controle na ACDF C...      1\n",
       "...                                                 ...    ...\n",
       "4678  Samenvatting: \\tVoorgeschiedenis: in verleden ...      0\n",
       "4682  Anamnese: \\tNog steeds hielspoor links, heeft ...      0\n",
       "4688  Reden van komst / Verwijzing: \\tReden verwijzi...      0\n",
       "4691  Anamnese: \\t Verkort consult: Aandachtspunten ...      1\n",
       "4699  Reden van komst / Verwijzing: \\tReden van koms...      0\n",
       "\n",
       "[940 rows x 2 columns]"
      ]
     },
     "execution_count": 19,
     "metadata": {},
     "output_type": "execute_result"
    }
   ],
   "source": [
    "test"
   ]
  },
  {
   "cell_type": "code",
   "execution_count": 20,
   "id": "bbe9e1ad",
   "metadata": {},
   "outputs": [],
   "source": [
    "def predict(x):\n",
    "    pred_y = classifier(x['text'][:512])\n",
    "    if len(x['text']) <= 512:\n",
    "        return pred_y[0]['label']\n",
    "    highest_score = pred_y[0]['score']\n",
    "    if pred_y[0]['label'] == 'LABEL_2':\n",
    "        highest_score = 0\n",
    "    for z in range(512, len(x['text']), 512):\n",
    "        sliced_text = x['text'][z:(z+512)]\n",
    "        new_pred_y = classifier(sliced_text)\n",
    "        if new_pred_y[0]['label'] != 'LABEL_2':\n",
    "            if new_pred_y[0]['score'] > highest_score:\n",
    "                pred_y = new_pred_y\n",
    "                highest_score = new_pred_y[0]['score']\n",
    "    return pred_y[0]['label']"
   ]
  },
  {
   "cell_type": "code",
   "execution_count": 21,
   "id": "2eeaade6",
   "metadata": {},
   "outputs": [],
   "source": [
    "test['prediction'] = test.apply(lambda row: predict(row), axis=1)\n",
    "test['prediction'] = test['prediction'].str[-1]\n",
    "test['prediction'] = test['prediction'].astype('int')"
   ]
  },
  {
   "cell_type": "code",
   "execution_count": 22,
   "id": "f5d877b2",
   "metadata": {},
   "outputs": [
    {
     "data": {
      "image/png": "[encoded data removed]",
      "text/plain": [
       "<Figure size 640x480 with 2 Axes>"
      ]
     },
     "metadata": {},
     "output_type": "display_data"
    },
    {
     "name": "stdout",
     "output_type": "stream",
     "text": [
      "              precision    recall  f1-score   support\n",
      "\n",
      "           0       0.81      0.98      0.89        83\n",
      "           1       0.61      0.82      0.70        38\n",
      "           2       1.00      0.99      0.99       611\n",
      "           3       0.99      0.85      0.91       208\n",
      "\n",
      "    accuracy                           0.95       940\n",
      "   macro avg       0.85      0.91      0.87       940\n",
      "weighted avg       0.96      0.95      0.96       940\n",
      "\n"
     ]
    }
   ],
   "source": [
    "from sklearn.metrics import confusion_matrix, ConfusionMatrixDisplay\n",
    "from sklearn import metrics\n",
    "import matplotlib.pyplot as plt\n",
    "\n",
    "cm = confusion_matrix(test['label'], test['prediction'])\n",
    "disp = ConfusionMatrixDisplay(confusion_matrix=cm)\n",
    "disp.plot()\n",
    "\n",
    "plt.show()\n",
    "print(metrics.classification_report(test['label'], test['prediction']))"
   ]
  },
  {
   "cell_type": "code",
   "execution_count": 23,
   "id": "4a70e021",
   "metadata": {},
   "outputs": [],
   "source": [
    "test.to_csv('robbert-haga_smoking_predictions.csv')"
   ]
  },
  {
   "cell_type": "code",
   "execution_count": null,
   "id": "5c794e7e",
   "metadata": {},
   "outputs": [],
   "source": []
  }
 ],
 "metadata": {
  "kernelspec": {
   "display_name": "scriptie-venv",
   "language": "python",
   "name": "scriptie-venv"
  },
  "language_info": {
   "codemirror_mode": {
    "name": "ipython",
    "version": 3
   },
   "file_extension": ".py",
   "mimetype": "text/x-python",
   "name": "python",
   "nbconvert_exporter": "python",
   "pygments_lexer": "ipython3",
   "version": "3.10.2"
  }
 },
 "nbformat": 4,
 "nbformat_minor": 5
}
