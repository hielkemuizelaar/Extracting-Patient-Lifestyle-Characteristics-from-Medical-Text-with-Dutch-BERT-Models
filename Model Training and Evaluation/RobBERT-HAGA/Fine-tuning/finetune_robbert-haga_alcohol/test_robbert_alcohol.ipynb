{
 "cells": [
  {
   "cell_type": "code",
   "execution_count": 1,
   "id": "63235fbc",
   "metadata": {},
   "outputs": [],
   "source": [
    "import pandas as pd\n",
    "fhlo = pd.read_csv(\"../../../input_data/fully_hand_labelled_output.csv\")"
   ]
  },
  {
   "cell_type": "code",
   "execution_count": 2,
   "id": "67ef6581",
   "metadata": {},
   "outputs": [],
   "source": [
    "fhlo.Roken = fhlo.Roken.astype('category').cat.codes\n",
    "fhlo.Alcohol = fhlo.Alcohol.astype('category').cat.codes\n",
    "fhlo.Drugs = fhlo.Drugs.astype('category').cat.codes\n",
    "fhlo[\"label\"] = fhlo.Alcohol\n",
    "fhlo2 = fhlo[[\"text\", \"label\"]]"
   ]
  },
  {
   "cell_type": "code",
   "execution_count": 3,
   "id": "c75b58c4",
   "metadata": {},
   "outputs": [],
   "source": [
    "train=fhlo2.sample(frac=0.8,random_state=200)\n",
    "test=fhlo2.drop(train.index)"
   ]
  },
  {
   "cell_type": "code",
   "execution_count": 4,
   "id": "3f787b23",
   "metadata": {},
   "outputs": [],
   "source": [
    "train.to_csv('train.csv')\n",
    "test.to_csv('test.csv')"
   ]
  },
  {
   "cell_type": "code",
   "execution_count": 5,
   "id": "b98a6c79",
   "metadata": {},
   "outputs": [],
   "source": [
    "from transformers import RobertaTokenizer, RobertaForMaskedLM, RobertaForSequenceClassification, AdamW, DataCollatorForLanguageModeling, Trainer, TrainingArguments\n",
    "\n",
    "tokenizer = RobertaTokenizer.from_pretrained(\"pdelobelle/robbert-v2-dutch-base\")"
   ]
  },
  {
   "cell_type": "code",
   "execution_count": 6,
   "id": "29b3f7bb",
   "metadata": {},
   "outputs": [
    {
     "data": {
      "application/vnd.jupyter.widget-view+json": {
       "model_id": "7f8b94d1c08347cdbf03f2c9a3307fb2",
       "version_major": 2,
       "version_minor": 0
      },
      "text/plain": [
       "Downloading (…)lve/main/config.json:   0%|          | 0.00/992 [00:00<?, ?B/s]"
      ]
     },
     "metadata": {},
     "output_type": "display_data"
    },
    {
     "data": {
      "application/vnd.jupyter.widget-view+json": {
       "model_id": "ddea923e134b4506b11caf94d2b5bb09",
       "version_major": 2,
       "version_minor": 0
      },
      "text/plain": [
       "Downloading pytorch_model.bin:   0%|          | 0.00/467M [00:00<?, ?B/s]"
      ]
     },
     "metadata": {},
     "output_type": "display_data"
    },
    {
     "data": {
      "application/vnd.jupyter.widget-view+json": {
       "model_id": "3f261c77bf4340fe9a53c79ffc89038b",
       "version_major": 2,
       "version_minor": 0
      },
      "text/plain": [
       "Downloading (…)/main/tokenizer.json:   0%|          | 0.00/1.12M [00:00<?, ?B/s]"
      ]
     },
     "metadata": {},
     "output_type": "display_data"
    }
   ],
   "source": [
    "from transformers import pipeline\n",
    "classifier = pipeline(\"sentiment-analysis\", model=\"Hielke/finetuned_RobBERT_alcohol\", tokenizer=\"pdelobelle/robbert-v2-dutch-base\")\n"
   ]
  },
  {
   "cell_type": "code",
   "execution_count": 7,
   "id": "f51c6d12",
   "metadata": {},
   "outputs": [],
   "source": [
    "def predict(x):\n",
    "    pred_y = classifier(x['text'][:512])\n",
    "    if len(x['text']) <= 512:\n",
    "        return pred_y[0]['label']\n",
    "    highest_score = pred_y[0]['score']\n",
    "    if pred_y[0]['label'] == 'LABEL_2':\n",
    "        highest_score = 0\n",
    "    for z in range(512, len(x['text']), 512):\n",
    "        sliced_text = x['text'][z:(z+512)]\n",
    "        new_pred_y = classifier(sliced_text)\n",
    "        if new_pred_y[0]['label'] != 'LABEL_2':\n",
    "            if new_pred_y[0]['score'] > highest_score:\n",
    "                pred_y = new_pred_y\n",
    "                highest_score = new_pred_y[0]['score']\n",
    "    return pred_y[0]['label']"
   ]
  },
  {
   "cell_type": "code",
   "execution_count": 8,
   "id": "7f70a629",
   "metadata": {},
   "outputs": [],
   "source": [
    "test['prediction'] = test.apply(lambda row: predict(row), axis=1)\n",
    "test['prediction'] = test['prediction'].str[-1]\n",
    "test['prediction'] = test['prediction'].astype('int')"
   ]
  },
  {
   "cell_type": "code",
   "execution_count": 9,
   "id": "c3667c64",
   "metadata": {},
   "outputs": [
    {
     "data": {
      "image/png": "[encoded data removed]",
      "text/plain": [
       "<Figure size 640x480 with 2 Axes>"
      ]
     },
     "metadata": {},
     "output_type": "display_data"
    },
    {
     "name": "stdout",
     "output_type": "stream",
     "text": [
      "              precision    recall  f1-score   support\n",
      "\n",
      "           0       0.90      0.92      0.91       147\n",
      "           1       0.91      0.93      0.92       142\n",
      "           2       1.00      0.99      0.99       648\n",
      "           3       0.00      0.00      0.00         3\n",
      "\n",
      "    accuracy                           0.97       940\n",
      "   macro avg       0.70      0.71      0.71       940\n",
      "weighted avg       0.96      0.97      0.97       940\n",
      "\n"
     ]
    },
    {
     "name": "stderr",
     "output_type": "stream",
     "text": [
      "/home/hjmuizelaar/scriptie-310/lib/python3.10/site-packages/sklearn/metrics/_classification.py:1344: UndefinedMetricWarning: Precision and F-score are ill-defined and being set to 0.0 in labels with no predicted samples. Use `zero_division` parameter to control this behavior.\n",
      "  _warn_prf(average, modifier, msg_start, len(result))\n",
      "/home/hjmuizelaar/scriptie-310/lib/python3.10/site-packages/sklearn/metrics/_classification.py:1344: UndefinedMetricWarning: Precision and F-score are ill-defined and being set to 0.0 in labels with no predicted samples. Use `zero_division` parameter to control this behavior.\n",
      "  _warn_prf(average, modifier, msg_start, len(result))\n",
      "/home/hjmuizelaar/scriptie-310/lib/python3.10/site-packages/sklearn/metrics/_classification.py:1344: UndefinedMetricWarning: Precision and F-score are ill-defined and being set to 0.0 in labels with no predicted samples. Use `zero_division` parameter to control this behavior.\n",
      "  _warn_prf(average, modifier, msg_start, len(result))\n"
     ]
    }
   ],
   "source": [
    "from sklearn.metrics import confusion_matrix, ConfusionMatrixDisplay\n",
    "from sklearn import metrics\n",
    "import matplotlib.pyplot as plt\n",
    "\n",
    "cm = confusion_matrix(test['label'], test['prediction'])\n",
    "disp = ConfusionMatrixDisplay(confusion_matrix=cm)\n",
    "disp.plot()\n",
    "\n",
    "plt.show()\n",
    "print(metrics.classification_report(test['label'], test['prediction']))"
   ]
  },
  {
   "cell_type": "code",
   "execution_count": 10,
   "id": "20b3de06",
   "metadata": {},
   "outputs": [],
   "source": [
    "test.to_csv('robbert_alcohol_predictions.csv')"
   ]
  },
  {
   "cell_type": "code",
   "execution_count": null,
   "id": "014d6245",
   "metadata": {},
   "outputs": [],
   "source": []
  }
 ],
 "metadata": {
  "kernelspec": {
   "display_name": "scriptie-venv",
   "language": "python",
   "name": "scriptie-venv"
  },
  "language_info": {
   "codemirror_mode": {
    "name": "ipython",
    "version": 3
   },
   "file_extension": ".py",
   "mimetype": "text/x-python",
   "name": "python",
   "nbconvert_exporter": "python",
   "pygments_lexer": "ipython3",
   "version": "3.10.2"
  }
 },
 "nbformat": 4,
 "nbformat_minor": 5
}
